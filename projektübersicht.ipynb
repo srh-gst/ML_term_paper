{
 "cells": [
  {
   "cell_type": "markdown",
   "metadata": {},
   "source": [
    "# Projektübersicht \n",
    "Ann-Christin und Sarah \n",
    "\n",
    "## Which data? \n",
    "- PIAAC\n",
    "    \n",
    "## Possible research questions?\n",
    "- Wechelwahrscheinlichkeit Job in Abhängigkeit von Skills \n",
    "\n",
    "## Who does what and how do we organize the workflow?\n",
    "- Sarah: Literatur Stichpunkte \n",
    "- Ann- Christin: erste Visualisierungen\n",
    "\n",
    "## Timeline\n",
    "- bis 23.02 Code fertig\n",
    "- bis 5.3 erste Version Text fertig \n",
    "- Deadline 15.03.2021\n",
    "\n",
    "## Modell:\n",
    "- Causal Forest oder Lasso (?) \n"
   ]
  },
  {
   "cell_type": "code",
   "execution_count": null,
   "metadata": {},
   "outputs": [],
   "source": []
  }
 ],
 "metadata": {
  "kernelspec": {
   "display_name": "Python 3",
   "language": "python",
   "name": "python3"
  },
  "language_info": {
   "codemirror_mode": {
    "name": "ipython",
    "version": 3
   },
   "file_extension": ".py",
   "mimetype": "text/x-python",
   "name": "python",
   "nbconvert_exporter": "python",
   "pygments_lexer": "ipython3",
   "version": "3.8.3"
  }
 },
 "nbformat": 4,
 "nbformat_minor": 4
}
