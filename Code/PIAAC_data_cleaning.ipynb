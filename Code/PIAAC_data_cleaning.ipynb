{
 "cells": [
  {
   "cell_type": "code",
   "execution_count": 39,
   "metadata": {
    "scrolled": true
   },
   "outputs": [
    {
     "name": "stdout",
     "output_type": "stream",
     "text": [
      "done\n"
     ]
    }
   ],
   "source": [
    "# Packages to import \n",
    "\n",
    "import re\n",
    "\n",
    "import random\n",
    "from PIL import Image\n",
    "import seaborn as sns\n",
    "import sklearn.decomposition\n",
    "import sklearn.manifold\n",
    "import umap #if missing: pip install umap\n",
    "import scipy.stats\n",
    "\n",
    "\n",
    "\n",
    "import numpy as np\n",
    "import pandas as pd\n",
    "import matplotlib\n",
    "import matplotlib.pyplot as plt\n",
    "\n",
    "from sklearn.linear_model import LinearRegression\n",
    "from sklearn.metrics import mean_squared_error, r2_score\n",
    "from sklearn.model_selection import KFold, cross_val_score\n",
    "from sklearn.model_selection import train_test_split\n",
    "\n",
    "from sklearn import ensemble\n",
    "from sklearn import tree as tree\n",
    "print(\"done\")"
   ]
  },
  {
   "cell_type": "markdown",
   "metadata": {},
   "source": [
    "Installing a pip packages "
   ]
  },
  {
   "cell_type": "code",
   "execution_count": 40,
   "metadata": {},
   "outputs": [],
   "source": [
    "# Install a pip package in the current Jupyter kernel\n",
    "#import sys\n",
    "#!{sys.executable} -m pip install numpy\n",
    "#print(\"done\")"
   ]
  },
  {
   "cell_type": "code",
   "execution_count": 41,
   "metadata": {},
   "outputs": [],
   "source": [
    "#import sys\n",
    "#!conda install --yes --prefix {sys.prefix} umap-learn"
   ]
  },
  {
   "cell_type": "code",
   "execution_count": 42,
   "metadata": {},
   "outputs": [],
   "source": [
    "#import sys\n",
    "#!conda install --yes --prefix {sys.prefix} pandas\n"
   ]
  },
  {
   "cell_type": "code",
   "execution_count": 43,
   "metadata": {},
   "outputs": [],
   "source": [
    "#conda install -c conda-forge/label/cf201901 umap-learn"
   ]
  },
  {
   "cell_type": "code",
   "execution_count": 44,
   "metadata": {},
   "outputs": [
    {
     "name": "stdout",
     "output_type": "stream",
     "text": [
      "done\n"
     ]
    }
   ],
   "source": [
    "import os\n",
    "\n",
    "path = \"E:\\Data\\krea\\PIAAC\"\n",
    "os.chdir(path)\n",
    "print(\"done\")"
   ]
  },
  {
   "cell_type": "markdown",
   "metadata": {},
   "source": [
    "read in data"
   ]
  },
  {
   "cell_type": "code",
   "execution_count": 169,
   "metadata": {},
   "outputs": [
    {
     "data": {
      "text/plain": [
       "{'cntry': 'Country ID and sub-national entity sample code (string)',\n",
       " 'cntry_e': 'Participating country or sub-national entity code (string)',\n",
       " 'reg_tl2': 'Geographical region - Respondent (OECD TL2) (coded)',\n",
       " 'lng_bq': 'Language for background questionnaire (derived, ISO 639-2/T)',\n",
       " 'lng_ci': 'Language for exercise (derived, ISO 639-2/T)',\n",
       " 'ageg10lfs_t': 'Age in 10 year bands (Trend-IALS/ALL)',\n",
       " 'iscoskil4': 'Occupational classification of respondents job (4 skill based categories), last',\n",
       " 'isic1l': 'Industry classification of respondents job at 1-digit level(ISIC rev 4), last j',\n",
       " 'isic2l': 'Industry classification of respondents job at 2-digit level (ISIC rev 4), last ',\n",
       " 'isic1c': 'Industry classification of respondents job at 1-digit level (ISIC rev 4), curre',\n",
       " 'isic2c': 'Industry classification of respondents job at 2-digit level (ISIC rev 4), curre',\n",
       " 'isco1c': 'Occupational classification of respondents job at 1-digit level (ISCO 2008), cu',\n",
       " 'isco2c': 'Occupational classification of respondents job at 2-digit level (ISCO 2008), cu',\n",
       " 'isco1l': 'Occupational classification of respondents job at 1-digit level (ISCO 2008), la',\n",
       " 'isco2l': 'Occupational classification of respondents job at 2-digit level (ISCO 2008), la',\n",
       " 'vemethod': 'Replication approach (string)',\n",
       " 'isco08_cus_c': '',\n",
       " 'isco08_lus_c': '',\n",
       " 'isco08_us_c': '',\n",
       " 'isic4_cus_c': '',\n",
       " 'isic4_lus_c': '',\n",
       " 'isced_hf': 'Level of Highest Qualification (Foreign) - Respondent (ISCED) (coded)',\n",
       " 'isced_hf_c': 'Level of Highest Qualification (collapsed, 14 categories)',\n",
       " 'isco08_c': 'Current Job Occupation - Respondent (ISCO 2008) (coded)',\n",
       " 'isco08_l': 'Last Job Occupation - Respondent (ISCO 2008) (coded)',\n",
       " 'isic4_c': 'Current Job Industry - Respondent (ISIC rev 4) (coded)',\n",
       " 'isic4_l': 'Last Job Industry - Respondent (ISIC rev 4) (coded)',\n",
       " 'lng_l1': 'First language learned at home in childhood and still understood - Respondent (I',\n",
       " 'lng_l2': 'Second language learned at home in childhood and still understood - Respondent (',\n",
       " 'lng_home': 'Language most often spoken at home - Respondent (ISO 639-2/T) (coded)',\n",
       " 'cntryid': 'Country ID (ISO 3166, numeric)',\n",
       " 'cntryid_e': 'Participating country or sub-national entity code (numeric)',\n",
       " 'seqid': 'Sequential ID (randomly derived)',\n",
       " 'gender_r': 'Person resolved gender from BQ and QC check (derived)',\n",
       " 'disp_cibq': 'Final disposition code for person - combining CI and BQ/JRA (derived)',\n",
       " 'a_n01_t': 'Gender (Trend-IALS/ALL)',\n",
       " 'b_q01a': 'Education - Highest qualification - Level',\n",
       " 'b_q01a_t': 'Highest level of schooling (Trend-IALS/ALL)',\n",
       " 'b_q01b': 'Education - Highest qualification - Area of study',\n",
       " 'b_q01c1_c': 'Education - Highest qualification - Age of finish (categorised, 6 categories)',\n",
       " 'b_d01d_c': 'Education - Time elapsed since finished highest qualification (categorised, 5 ca',\n",
       " 'b_q02a': 'Education - Current qualification',\n",
       " 'b_q02a_t1': 'Education or training in last 12 months (Trend-IALS/ALL)',\n",
       " 'b_q02a_t2': 'Courses toward certificate, diploma, or degree in program of studies in last 12 ',\n",
       " 'b_q03a': 'Education - Uncompleted qualification',\n",
       " 'b_q03c1_c': 'Education - Uncompleted qualification - Age of dropout (categorised, 6 categorie',\n",
       " 'b_d03d_c': 'Education - Derived Months elapsed since leaving education without completing pr',\n",
       " 'b_q04a': 'Education - Formal qualification',\n",
       " 'b_q04b_c': 'Education - Formal qualification - Count (top-coded at 2)',\n",
       " 'b_q05c': 'Education - Formal qualification - Reason job related',\n",
       " 'b_q05c_t': 'Main reason for program of studies (Trend-IALS/ALL)',\n",
       " 'b_q10a': 'Education - Formal qualification - Employed',\n",
       " 'b_q10b': 'Education - Formal qualification - Employed - Working hours',\n",
       " 'b_q10c': 'Education - Formal qualification - Employed - Useful for job',\n",
       " 'b_q11': 'Education - Formal qualification - Grant from employer',\n",
       " 'b_q12a': 'Activities - Last year - Open or distance education',\n",
       " 'b_q12a_t': 'Courses outside of program of studies in last 12 months (Trend-IALS/ALL)',\n",
       " 'b_q12c': 'Activities - Last year - On the job training',\n",
       " 'b_q12d_c': 'Activities - Last year - On the job training - Count (top-coded at 5)',\n",
       " 'b_q12e': 'Activities - Last year - Seminars or workshops',\n",
       " 'b_q12f_c': 'Activities - Last year - Seminars or workshops - Count (top-coded at 5)',\n",
       " 'b_q12g': 'Activities - Last year - Private lessons',\n",
       " 'b_q12h_c': 'Activities - Last year - Private lessons - Count (top-coded at 5)',\n",
       " 'b_d12h': 'Activities - Last year - Number of learning activities (DERIVED BY CAPI)',\n",
       " 'b_q13': 'Activities - Last year - Activity specified',\n",
       " 'b_q14a': 'Activities - Last year - Job related',\n",
       " 'b_q14b': 'Activities - Last year - Reason for participating',\n",
       " 'b_q15a': 'Activities - Last year - Employed',\n",
       " 'b_q15b': 'Activities - Last year - During working hours',\n",
       " 'b_q15c': 'Activities - Last year - Useful for job',\n",
       " 'b_q16': 'Activities - Last year - Grant from employer',\n",
       " 'b_q17': 'Activities - Last year - Time spend - Unit',\n",
       " 'b_q18a': 'Activities - Last year - Time spend for activities - Weeks',\n",
       " 'b_q19a': 'Activities - Last year - Time spend for activities - Days',\n",
       " 'b_q20a': 'Activities - Last year - Time spend for activities - Hours',\n",
       " 'b_q20b': 'Activities - Last year - Time spend for activities - Proportion of job-related h',\n",
       " 'b_q26a': 'Activities - Last year - Wanted but didnt start',\n",
       " 'b_q26a_t': 'Training or education for career or job wanted but not taken in last 12 months (',\n",
       " 'b_q26b': 'Activities - Last year - Wanted but didnt start - Reason',\n",
       " 'c_q01a': 'Current status/work history - Last week - Paid work',\n",
       " 'c_q01b': 'Current status/work history - Last week - Away from job but will return',\n",
       " 'c_q01c': 'Current status/work history - Last week - Unpaid work for own business',\n",
       " 'c_q02a': 'Current status/work history - Last month - Looking for paid work',\n",
       " 'c_q02b': 'Current status/work history - Last month - Waiting to start job',\n",
       " 'c_q03_01': 'Current status/work history - Last month - Reason not looking for work - Waiting',\n",
       " 'c_q03_02': 'Current status/work history - Last month - Reason not looking for work - Being a',\n",
       " 'c_q03_03': 'Current status/work history - Last month - Reason not looking for work - Looking',\n",
       " 'c_q03_04': 'Current status/work history - Last month - Reason not looking for work - Temp si',\n",
       " 'c_q03_05': 'Current status/work history - Last month - Reason not looking for work - Long-te',\n",
       " 'c_q03_06': 'Current status/work history - Last month - Reason not looking for work - Nothing',\n",
       " 'c_q03_07': 'Current status/work history - Last month - Reason not looking for work - Did not',\n",
       " 'c_q03_08': 'Current status/work history - Last month - Reason not looking for work - No need',\n",
       " 'c_q03_09': 'Current status/work history - Last month - Reason not looking for work - Retired',\n",
       " 'c_q03_10': 'Current status/work history - Last month - Reason not looking for work - Other',\n",
       " 'c_q04a': 'Current status/work history - Last month - Ways of looking for work - Contact pu',\n",
       " 'c_q04b': 'Current status/work history - Last month - Ways of looking for work - Contact pr',\n",
       " 'c_q04c': 'Current status/work history - Last month - Ways of looking for work - Apply to e',\n",
       " 'c_q04d': 'Current status/work history - Last month - Ways of looking for work - Ask family',\n",
       " 'c_q04e': 'Current status/work history - Last month - Ways of looking for work - Place/answ',\n",
       " 'c_q04f': 'Current status/work history - Last month - Ways of looking for work - Study adve',\n",
       " 'c_q04g': 'Current status/work history - Last month - Ways of looking for work - Recruitmen',\n",
       " 'c_q04h': 'Current status/work history - Last month - Ways of looking for work - Premises',\n",
       " 'c_q04j': 'Current status/work history - Last month - Ways of looking for work - Other',\n",
       " 'c_d04': 'Current status/work history - Last month - Active steps to find job (DERIVED BY ',\n",
       " 'c_d05': 'Current status/work history - Employment status (DERIVED BY CAPI)',\n",
       " 'c_q06': 'Current status/work history - Last week - Number of jobs',\n",
       " 'c_d06': 'Current status/work history - Current - Paid job or family business (DERIVED BY ',\n",
       " 'c_q07': 'Current status/work history - Subjective status',\n",
       " 'c_q07_t': 'Current work situation (Trend-IALS/ALL)',\n",
       " 'c_q08a': 'Current status/work history - Ever paid work',\n",
       " 'c_q08b': 'Current status/work history - Last year - Paid work',\n",
       " 'c_q08c1_c': 'Current status/work history - Age when stopped working in last job (categorised,',\n",
       " 'c_d08c': 'Current status/work history - Left work in past 5 years (DERIVED BY CAPI)',\n",
       " 'c_q09_c': 'Current status/work history - Years of paid work during lifetime (top-coded at 4',\n",
       " 'c_d09': 'Current status/work history - Work experience (DERIVED BY CAPI)',\n",
       " 'c_d09_t': 'Worked at job or business in last 12 months (any number of hours) (Trend-IALS/AL',\n",
       " 'c_q10a_c': 'Current status/work history - Last 5 years - How many different firms or organis',\n",
       " 'd_q03': 'Current work - Economic sector',\n",
       " 'd_q04': 'Current work - Employee or self-employed',\n",
       " 'd_q04_t': 'Status at this job or business - six levels (Trend-IALS/ALL)',\n",
       " 'd_q04_t1': 'Status at this job or business - four levels (Trend-IALS/ALL)',\n",
       " 'd_q05a1_c': 'Current work - Start of work for employer - Age (categorised, 9 categories)',\n",
       " 'd_q05b1_c': 'Current work - Start of work for business - Age (categorised, 9 categories)',\n",
       " 'd_q06a': 'Current work - Amount of people working for employer',\n",
       " 'd_q06b': 'Current work - Amount of people working for employer increased',\n",
       " 'd_q06c': 'Current work - Part of a larger organisation',\n",
       " 'd_q07a': 'Current work - Employees working for you',\n",
       " 'd_q07b_c': 'Current work - Employees working for you - Count (collapsed, 2 categories)',\n",
       " 'd_q08a': 'Current work - Managing other employees',\n",
       " 'd_q08b': 'Current work - Managing other employees - Count',\n",
       " 'd_q10': 'Current work - Hours/week',\n",
       " 'd_q10_c': 'Current work - Hours/week (top-coded at 60)',\n",
       " 'd_q10_t': 'Hours per week at this job or business - number of hours (top coded at 97, Trend',\n",
       " 'd_q10_t1': 'Hours per week at this job or business - range of hours (Trend-IALS/ALL)',\n",
       " 'd_q11a': 'Current work - Work flexibility - Sequence of tasks',\n",
       " 'd_q11b': 'Current work - Work flexibility - How to do the work',\n",
       " 'd_q11c': 'Current work - Work flexibility - Speed of work',\n",
       " 'd_q11d': 'Current work - Work flexibility - Working hours',\n",
       " 'd_q12a': 'Current work - Requirements - Education level',\n",
       " 'd_q12b': 'Current work - Requirements - To do the job satisfactorily',\n",
       " 'd_q12c': 'Current work - Requirements - Related work experience',\n",
       " 'd_q13a': 'Current work - Learning - Learning from co-workers/supervisors',\n",
       " 'd_q13b': 'Current work - Learning - Learning-by-doing',\n",
       " 'd_q13c': 'Current work - Learning - Keeping up to date',\n",
       " 'd_q14': 'Current work - Job satisfaction',\n",
       " 'd_q16a': 'Current work - Earnings - Salary interval',\n",
       " 'd_d16a': 'Current work - Earnings - Salary interval per hour (DERIVED BY CAPI)',\n",
       " 'd_q16c': 'Current work - Earnings - Gross pay in broad categories',\n",
       " 'd_q17a': 'Current work - Earnings - Additional payments',\n",
       " 'd_q17c': 'Current work - Earnings - Additional payments in broad categories',\n",
       " 'd_q18a_t': 'Annual net income before taxes and deductions (Trend-IALS/ALL)',\n",
       " 'd_q18b': 'Current work - Earnings - Total earnings broad categories',\n",
       " 'e_q03': 'Last job - Economic sector',\n",
       " 'e_q04': 'Last job - Employee or self-employed',\n",
       " 'e_q05a1_c': 'Last job - Start of work for employer - Age (categorised, 9 categories)',\n",
       " 'e_q05b1_c': 'Last job - Start of work for business - Age (categorised, 9 categories)',\n",
       " 'e_q06': 'Last job - Amount of people working for employer',\n",
       " 'e_q09': 'Last job - Hours/week',\n",
       " 'e_q09_c': 'Last work - Hours/week (top-coded at 60)',\n",
       " 'e_q10': 'Last job - Reason for end of job',\n",
       " 'f_q01b': 'Skill use work - Time cooperating with co-workers',\n",
       " 'f_q02a': 'Skill use work - How often - Sharing work-related info',\n",
       " 'f_q02b': 'Skill use work - How often - Teaching people',\n",
       " 'f_q02c': 'Skill use work - How often - Presentations',\n",
       " 'f_q02d': 'Skill use work - How often - Selling',\n",
       " 'f_q02e': 'Skill use work - How often - Advising people',\n",
       " 'f_q03a': 'Skill use work - How often - Planning own activities',\n",
       " 'f_q03b': 'Skill use work - How often - Planning others activities',\n",
       " 'f_q03c': 'Skill use work - How often - Organising own time',\n",
       " 'f_q04a': 'Skill use work - How often - Influencing people',\n",
       " 'f_q04b': 'Skill use work - How often - Negotiating with people',\n",
       " 'f_q05a': 'Skill use work - Problem solving - Simple problems',\n",
       " 'f_q05b': 'Skill use work - Problem solving - Complex problems',\n",
       " 'f_q06b': 'Skill use work - How often - Working physically for long',\n",
       " 'f_q06c': 'Skill use work - How often - Using hands or fingers',\n",
       " 'f_q07a': 'Skill use work - Not challenged enough',\n",
       " 'f_q07b': 'Skill use work - Need more training',\n",
       " 'g_q01a': 'Skill use work - Literacy - Read directions or instructions',\n",
       " 'g_q01a_t': 'As part of job, read or use directions or instructions (Trend-IALS/ALL)',\n",
       " 'g_q01a_t1': 'As part of job, read or use directions or instructions - levels collapsed (Trend',\n",
       " 'g_q01b': 'Skill use work - Literacy - Read letters memos or mails',\n",
       " 'g_q01b_t': 'As part of job, read or use letters, memos, e-mails (Trend-IALS/ALL)',\n",
       " 'g_q01b_t1': 'As part of job, read or use letters, memos, e-mails - levels collapsed (Trend-IA',\n",
       " 'g_q01c': 'Skill use work - Literacy - Read newspapers or magazines',\n",
       " 'g_q01c_t': 'As part of job, read or use reports, articles, magazines, journals (Trend-IALS/A',\n",
       " 'g_q01c_t1': 'As part of job, read or use reports, articles, magazines, journals - levels coll',\n",
       " 'g_q01d': 'Skill use work - Literacy - Read professional journals or publications',\n",
       " 'g_q01e': 'Skill use work - Literacy - Read books',\n",
       " 'g_q01f': 'Skill use work - Literacy - Read manuals or reference materials',\n",
       " 'g_q01f_t': 'As part of job, read or use manuals, reference books, catalogues (Trend-IALS/ALL',\n",
       " 'g_q01f_t1': 'As part of job, read or use manuals, reference books, catalogues - levels collap',\n",
       " 'g_q01g': 'Skill use work - Literacy - Read financial statements',\n",
       " 'g_q01g_t': 'As part of job, read or use bills, invoices, spreadsheets, budget tables (Trend-',\n",
       " 'g_q01g_t1': 'As part of job, read or use bills, invoices, spreadsheets, budget tables - level',\n",
       " 'g_q01h': 'Skill use work - Literacy - Read diagrams maps or schematics',\n",
       " 'g_q01h_t': 'As part of job, read or use diagrams or schematics (Trend-IALS/ALL)',\n",
       " 'g_q01h_t1': 'As part of job, read or use diagrams or schematics - levels collapsed (Trend-IAL',\n",
       " 'g_q02a': 'Skill use work - Literacy - Write letters memos or mails',\n",
       " 'g_q02b': 'Skill use work - Literacy - Write articles',\n",
       " 'g_q02c': 'Skill use work - Literacy - Write reports',\n",
       " 'g_q02d': 'Skill use work - Literacy - Fill in forms',\n",
       " 'g_q03b': 'Skill use work - Numeracy - How often - Calculating costs or budgets',\n",
       " 'g_q03c': 'Skill use work - Numeracy - How often - Use or calculate fractions or percentage',\n",
       " 'g_q03d': 'Skill use work - Numeracy - How often - Use a calculator',\n",
       " 'g_q03f': 'Skill use work - Numeracy - How often - Prepare charts graphs or tables',\n",
       " 'g_q03g': 'Skill use work - Numeracy - How often - Use simple algebra or formulas',\n",
       " 'g_q03h': 'Skill use work - Numeracy - How often - Use advanced math or statistics',\n",
       " 'g_q04': 'Skill use work - ICT - Experience with computer in job',\n",
       " 'g_q04_t': 'Ever used computer (Trend-IALS/ALL)',\n",
       " 'g_q05a': 'Skill use work - ICT - Internet - How often - For mail',\n",
       " 'g_q05c': 'Skill use work - ICT - Internet - How often - Work related info',\n",
       " 'g_q05d': 'Skill use work - ICT - Internet - How often - Conduct transactions',\n",
       " 'g_q05e': 'Skill use work - ICT - Computer - How often - Spreadsheets',\n",
       " 'g_q05f': 'Skill use work - ICT - Computer - How often - Word',\n",
       " 'g_q05g': 'Skill use work - ICT - Computer - How often - Programming language',\n",
       " 'g_q05h': 'Skill use work - ICT - Computer - How often - Real-time discussions',\n",
       " 'g_q06': 'Skill use work - ICT - Computer - Level of computer use',\n",
       " 'g_q07': 'Skill use work - ICT - Computer - Got the skills needed',\n",
       " 'g_q08': 'Skill use work - ICT - Computer - Lack of skills affect career',\n",
       " 'h_q01a': 'Skill use everyday life - Literacy - Read directions or instructions',\n",
       " 'h_q01b': 'Skill use everyday life - Literacy - Read letters memos or mails',\n",
       " 'h_q01b_t': 'In daily life, read or use letters, notes, e-mails (Trend-IALS/ALL)',\n",
       " 'h_q01c': 'Skill use everyday life - Literacy - Read newspapers or magazines',\n",
       " 'h_q01c_t': 'In daily life, read or use newspapers, magazines, articles (Trend-IALS/ALL)',\n",
       " 'h_q01d': 'Skill use everyday life - Literacy - Read professional journals or publications',\n",
       " 'h_q01e': 'Skill use everyday life - Literacy - Read books',\n",
       " 'h_q01e_t': 'In daily life, read or use books (fiction or nonfiction; not for job or school) ',\n",
       " 'h_q01f': 'Skill use everyday life - Literacy - Read manuals or reference materials',\n",
       " 'h_q01g': 'Skill use everyday life - Literacy - Read financial statements',\n",
       " 'h_q01h': 'Skill use everyday life - Literacy - Read diagrams maps or schematics',\n",
       " 'h_q02a': 'Skill use everyday life - Literacy - Write letters memos or mails',\n",
       " 'h_q02b': 'Skill use everyday life - Literacy - Write articles',\n",
       " 'h_q02c': 'Skill use everyday life - Literacy - Write reports',\n",
       " 'h_q02d': 'Skill use everyday life - Literacy - Fill in forms',\n",
       " 'h_q03b': 'Skill use everyday life - Numeracy - How often - Calculating costs or budgets',\n",
       " 'h_q03c': 'Skill use everyday life - Numeracy - How often - Use or calculate fractions or p',\n",
       " 'h_q03d': 'Skill use everyday life - Numeracy - How often - Use a calculator',\n",
       " 'h_q03f': 'Skill use everyday life - Numeracy - How often - Prepare charts graphs or tables',\n",
       " 'h_q03g': 'Skill use everyday life - Numeracy - How often - Use simple algebra or formulas',\n",
       " 'h_q03h': 'Skill use everyday life - Numeracy - How often - Use advanced math or statistics',\n",
       " 'h_q04a': 'Skill use everyday life - ICT - Ever used computer',\n",
       " 'h_q04b': 'Skill use everyday life - ICT - Experience with computer everyday life',\n",
       " 'h_q05a': 'Skill use everyday life - ICT - Internet - How often - For mail',\n",
       " 'h_q05c': 'Skill use everyday life - ICT - Internet - How often - In order to better unders',\n",
       " 'h_q05d': 'Skill use everyday life - ICT - Internet - How often - Conduct transactions',\n",
       " 'h_q05e': 'Skill use everyday life - ICT - Computer - How often - Spreadsheets',\n",
       " 'h_q05f': 'Skill use everyday life - ICT - Computer - How often - Word',\n",
       " 'h_q05g': 'Skill use everyday life - ICT - Computer - How often - Programming language',\n",
       " 'h_q05h': 'Skill use everyday life - ICT - Computer - How often - Real-time discussions',\n",
       " 'i_q04b': 'About yourself - Learning strategies - Relate new ideas into real life',\n",
       " 'i_q04d': 'About yourself - Learning strategies - Like learning new things',\n",
       " 'i_q04h': 'About yourself - Learning strategies - Attribute something new',\n",
       " 'i_q04j': 'About yourself - Learning strategies - Get to the bottom of difficult things',\n",
       " 'i_q04l': 'About yourself - Learning strategies - Figure out how different ideas fit togeth',\n",
       " 'i_q04m': 'About yourself - Learning strategies - Looking for additional info',\n",
       " 'i_q05f': 'About yourself - Cultural engagement - Voluntary work for non-profit organisatio',\n",
       " 'i_q06a': 'About yourself - Political efficacy - No influence on the government',\n",
       " 'i_q07a': 'About yourself - Social trust - Trust only few people',\n",
       " 'i_q07b': 'About yourself - Social trust - Other people take advantage of you',\n",
       " 'i_q08': 'About yourself - Health - State',\n",
       " 'i_q08_t': 'General health (Trend-IALS/ALL)',\n",
       " 'j_q01_c': 'Background - People in household (top-coded at 6)',\n",
       " 'j_q01_t1': 'Number living in household (from 1 to 7) (Trend-IALS/ALL)',\n",
       " 'j_q02a': 'Background - Living with spouse or partner',\n",
       " 'j_q02c': 'Background - Work situation of spouse or partner',\n",
       " 'j_q03a': 'Background - Children',\n",
       " 'j_q03b_c': 'Background - Number of children (top-coded at 4)',\n",
       " 'j_q03c_c': 'Background - Age of the child (categorised, 4 categories)',\n",
       " 'j_q03d1_c': 'Background - Age of the youngest child (categorised, 4 categories)',\n",
       " 'j_q03d2_c': 'Background - Age of the oldest child (categorised, 4 categories)',\n",
       " 'j_q04a': 'Background - Born in country',\n",
       " 'j_q04a_t': 'Born in country (Trend-IALS/ALL)',\n",
       " 'j_q04c1_c': 'Background - Age of immigration (categorised, 9 categories)',\n",
       " 'j_q04c2_t1': 'Year of immigration to country - range of years (Trend-IALS/ALL)',\n",
       " 'j_n05a2': 'Background - More than one language mentioned',\n",
       " 'j_q06a': 'Background - Mother/female guardian - Whether born in country',\n",
       " 'j_q06a_t': 'Mother or female guardian born in country (Trend-IALS/ALL)',\n",
       " 'j_q06b': 'Background - Mother/female guardian - Highest level of education',\n",
       " 'j_q06b_t': 'Highest level of education - mother or female guardian (Trend-IALS/ALL)',\n",
       " 'j_q07a': 'Background - Father/male guardian - Whether born in #counrtyname',\n",
       " 'j_q07a_t': 'Father or male guardian born in country (Trend-IALS/ALL)',\n",
       " 'j_q07b': 'Background - Father/male guardian - Highest level of education',\n",
       " 'j_q07b_t': 'Highest level of education - father or male guardian (Trend-IALS/ALL)',\n",
       " 'j_q08': 'Background - Number of books at home',\n",
       " 'computerexperience': 'Respondent experience with computer (DERIVED BY CAPI)',\n",
       " 'nativespeaker': 'Respondent is a native speaker (DERIVED BY CAPI)',\n",
       " 'edlevel3': 'Educational level of the respondent (DERIVED BY CAPI)',\n",
       " 'disp_bq': 'Final disposition code for BQ/JRA',\n",
       " 'cilang': 'Language for exercise',\n",
       " 'cba_core_stage1_score': 'CBA Core score for stage 1',\n",
       " 'cba_core_stage2_score': 'CBA Core score for stage 2',\n",
       " 'corestage1_pass': 'Core Stage 1 pass status',\n",
       " 'corestage2_pass': 'Core Stage 2 pass status',\n",
       " 'cba_start': 'Computer-based exercise agreement',\n",
       " 'ppc_score': 'Final score for the paper core assessment',\n",
       " 'prc_pv_q1': 'Sentence Timer for Print Vocabulary items',\n",
       " 'prc_sp_q1': 'Sentence Timer for Sentence Processing items',\n",
       " 'prc_pf_q1': 'Sentence Timer for Passage Comprehension items - passage 1',\n",
       " 'prc_pf_q2': 'Sentence Timer for Passage Comprehension items - passage 2',\n",
       " 'prc_pf_q3': 'Sentence Timer for Passage Comprehension items - passage 3 and 4',\n",
       " 'paper': 'Paper branch (derived)',\n",
       " 'cbamod1': 'CBA module 1 branch (derived)',\n",
       " 'cbamod2': 'CBA module 2 branch (derived)',\n",
       " 'cbamod2alt': 'CBA module 1 and 2 branch (derived)',\n",
       " 'cbamod1stg1': 'CBA module 1, stage 1 branch (derived)',\n",
       " 'cbamod2stg1': 'CBA module 2, stage 1 branch (derived)',\n",
       " 'cbamod1stg2': 'CBA module 1, stage 2 branch (derived)',\n",
       " 'cbamod2stg2': 'CBA module 2, stage 2 branch (derived)',\n",
       " 'monthlyincpr': 'Monthly income percentile rank category (derived)',\n",
       " 'yearlyincpr': 'Yearly income percentile rank category (derived)',\n",
       " 'pbroute': 'Paper-based routing code (derived)',\n",
       " 'zz1a': '',\n",
       " 'zz1b_01': '',\n",
       " 'zz1b_02': '',\n",
       " 'zz2': '',\n",
       " 'zz3': '',\n",
       " 'zz4_01': '',\n",
       " 'zz4_02': '',\n",
       " 'zz4_03': '',\n",
       " 'zz4_04': '',\n",
       " 'zz4_05': '',\n",
       " 'zz4_06': '',\n",
       " 'zz5': '',\n",
       " 'zz6': '',\n",
       " 'yrsqual': 'Highest level of education obtained imputed into years of education (derived)',\n",
       " 'yrsqual_t': 'Derived variable on total years of schooling during lifetime - top coded at 24 (',\n",
       " 'yrsget': 'Imputed years of formal education needed to get the job (self-reported - derived',\n",
       " 'vet': 'Respondents highest level of education obtained is vocationally oriented (deriv',\n",
       " 'forbornlang': 'Interactions between foreign-born and language status (2 categories - derived)',\n",
       " 'pared': 'Highest of mother or father’s level of education (derived)',\n",
       " 'nativelang': 'Test language same as native language  (derived)',\n",
       " 'bornlang': 'Interactions between place of birth and language status (derived)',\n",
       " 'natbilang': 'Has learned as a child and still understands at least two languages including te',\n",
       " 'forbilang': 'Has learned as a child and still understands at least two languages not includin',\n",
       " 'homlang': 'Test language same as language spoken most often at home (derived)',\n",
       " 'ctryrgn': 'Country region (9 regions)',\n",
       " 'impar': 'Parents’ immigration status (derived)',\n",
       " 'imgen': 'First and second generation immigrants (derived)',\n",
       " 'imyrs_c': 'Years in country (categorised, 4 categories)',\n",
       " 'imyrcat': 'Years in country (2-category - derived)',\n",
       " 'edcat8': 'Highest level of formal education obtained (8 categories - derived)',\n",
       " 'edcat7': 'Highest level of formal education obtained (7 categories - derived)',\n",
       " 'edcat6': 'Highest level of formal education obtained (6 categories - derived)',\n",
       " 'leaver1624': 'Youth aged 16 to 24 who have left education without completing ISCED 3 or higher',\n",
       " 'fe12': 'Participated in formal education in 12 months preceding survey (derived)',\n",
       " 'aetpop': 'Adult education/training population (AET) – excludes youths 16-24 in initial cyc',\n",
       " 'faet12': 'Participated in formal AET in 12 months preceding survey (see AETPOP - derived)',\n",
       " 'faet12jr': 'Participated in formal AET for job-related reasons in 12 months preceding survey',\n",
       " 'faet12njr': 'Participated in formal AET for non job-related reasons in 12 months preceding su',\n",
       " 'nfe12': 'Participated in non-formal education in 12 months preceding survey (derived)',\n",
       " 'nfe12jr': 'Participated in non-formal education for job-related reasons in 12 months preced',\n",
       " 'nfe12njr': 'Participated in non-formal education for non job-related reasons in 12 months pr',\n",
       " 'fnfaet12': 'Participated in formal or non-formal AET in 12 months preceding survey (see AETP',\n",
       " 'fnfe12jr': 'Participated in formal or non-formal education for job-related reasons in 12 mon',\n",
       " 'fnfaet12jr': 'Participated in formal or non-formal AET for job-related reasons in 12 months pr',\n",
       " 'fnfaet12njr': 'Participated in formal or non-formal AET for non job-related reasons in 12 mon. ',\n",
       " 'edwork': 'Interaction between adults’ work and education status (derived)',\n",
       " 'neet': 'Adults not employed at time of survey and not in education or training in 12 mon',\n",
       " 'nfehrsnjr': 'Number of hours of participation in non-formal education for non-job-related rea',\n",
       " 'nfehrsjr': 'Number of hours of participation in non-formal education for job-related reasons',\n",
       " 'nfehrs': 'Number of hours of participation in non-formal education (derived)',\n",
       " 'nopaidworkever': 'Adults who never had paid work including self-employment in past (derived)',\n",
       " 'paidwork12': 'Adults who have had paid work during the 12 months preceding the survey (derived',\n",
       " 'c301c05s': '',\n",
       " 'c301c05t': '',\n",
       " 'c301c05f': '',\n",
       " 'c301c05a': '',\n",
       " 'c300c02s': '',\n",
       " 'c300c02t': '',\n",
       " 'c300c02f': '',\n",
       " 'c300c02a': '',\n",
       " 'd302c02s': '',\n",
       " 'd302c02t': '',\n",
       " 'd302c02f': '',\n",
       " 'd302c02a': '',\n",
       " 'c600c04s': '',\n",
       " 'c600c04t': '',\n",
       " 'c600c04f': '',\n",
       " 'c600c04a': '',\n",
       " 'c601c06s': '',\n",
       " 'c601c06t': '',\n",
       " 'c601c06f': '',\n",
       " 'c601c06a': '',\n",
       " 'e645001s': '',\n",
       " 'e645001t': '',\n",
       " 'e645001f': '',\n",
       " 'e645001a': '',\n",
       " 'd311701s': '',\n",
       " 'd311701t': '',\n",
       " 'd311701f': '',\n",
       " 'd311701a': '',\n",
       " 'c308120s': '',\n",
       " 'c308120t': '',\n",
       " 'c308120f': '',\n",
       " 'c308120a': '',\n",
       " 'e321001s': '',\n",
       " 'e321001t': '',\n",
       " 'e321001f': '',\n",
       " 'e321001a': '',\n",
       " 'e321002s': '',\n",
       " 'e321002t': '',\n",
       " 'e321002f': '',\n",
       " 'e321002a': '',\n",
       " 'c305215s': '',\n",
       " 'c305215t': '',\n",
       " 'c305215f': '',\n",
       " 'c305215a': '',\n",
       " 'c305218s': '',\n",
       " 'c305218t': '',\n",
       " 'c305218f': '',\n",
       " 'c305218a': '',\n",
       " 'c308117s': '',\n",
       " 'c308117t': '',\n",
       " 'c308117f': '',\n",
       " 'c308117a': '',\n",
       " 'c308119s': '',\n",
       " 'c308119t': '',\n",
       " 'c308119f': '',\n",
       " 'c308119a': '',\n",
       " 'c308121s': '',\n",
       " 'c308121t': '',\n",
       " 'c308121f': '',\n",
       " 'c308121a': '',\n",
       " 'c308118s': '',\n",
       " 'c308118t': '',\n",
       " 'c308118f': '',\n",
       " 'c308118a': '',\n",
       " 'd304710s': '',\n",
       " 'd304710t': '',\n",
       " 'd304710f': '',\n",
       " 'd304710a': '',\n",
       " 'd304711s': '',\n",
       " 'd304711t': '',\n",
       " 'd304711f': '',\n",
       " 'd304711a': '',\n",
       " 'd315512s': '',\n",
       " 'd315512t': '',\n",
       " 'd315512f': '',\n",
       " 'd315512a': '',\n",
       " 'e327001s': '',\n",
       " 'e327001t': '',\n",
       " 'e327001f': '',\n",
       " 'e327001a': '',\n",
       " 'e327002s': '',\n",
       " 'e327002t': '',\n",
       " 'e327002f': '',\n",
       " 'e327002a': '',\n",
       " 'e327003s': '',\n",
       " 'e327003t': '',\n",
       " 'e327003f': '',\n",
       " 'e327003a': '',\n",
       " 'e327004s': '',\n",
       " 'e327004t': '',\n",
       " 'e327004f': '',\n",
       " 'e327004a': '',\n",
       " 'c308116s': '',\n",
       " 'c308116t': '',\n",
       " 'c308116f': '',\n",
       " 'c308116a': '',\n",
       " 'c309320s': '',\n",
       " 'c309320t': '',\n",
       " 'c309320f': '',\n",
       " 'c309320a': '',\n",
       " 'c309321s': '',\n",
       " 'c309321t': '',\n",
       " 'c309321f': '',\n",
       " 'c309321a': '',\n",
       " 'd307401s': '',\n",
       " 'd307401t': '',\n",
       " 'd307401f': '',\n",
       " 'd307401a': '',\n",
       " 'd307402s': '',\n",
       " 'd307402t': '',\n",
       " 'd307402f': '',\n",
       " 'd307402a': '',\n",
       " 'c313412s': '',\n",
       " 'c313412t': '',\n",
       " 'c313412f': '',\n",
       " 'c313412a': '',\n",
       " 'c313414s': '',\n",
       " 'c313414t': '',\n",
       " 'c313414f': '',\n",
       " 'c313414a': '',\n",
       " 'c309319s': '',\n",
       " 'c309319t': '',\n",
       " 'c309319f': '',\n",
       " 'c309319a': '',\n",
       " 'c309322s': '',\n",
       " 'c309322t': '',\n",
       " 'c309322f': '',\n",
       " 'c309322a': '',\n",
       " 'e322001s': '',\n",
       " 'e322001t': '',\n",
       " 'e322001f': '',\n",
       " 'e322001a': '',\n",
       " 'e322002s': '',\n",
       " 'e322002t': '',\n",
       " 'e322002f': '',\n",
       " 'e322002a': '',\n",
       " 'e322005s': '',\n",
       " 'e322005t': '',\n",
       " 'e322005f': '',\n",
       " 'e322005a': '',\n",
       " 'e320001s': '',\n",
       " 'e320001t': '',\n",
       " 'e320001f': '',\n",
       " 'e320001a': '',\n",
       " 'e320003s': '',\n",
       " 'e320003t': '',\n",
       " 'e320003f': '',\n",
       " 'e320003a': '',\n",
       " 'e320004s': '',\n",
       " 'e320004t': '',\n",
       " 'e320004f': '',\n",
       " 'e320004a': '',\n",
       " 'c310406s': '',\n",
       " 'c310406t': '',\n",
       " 'c310406f': '',\n",
       " 'c310406a': '',\n",
       " 'c310407s': '',\n",
       " 'c310407t': '',\n",
       " 'c310407f': '',\n",
       " 'c310407a': '',\n",
       " 'e322003s': '',\n",
       " 'e322003t': '',\n",
       " 'e322003f': '',\n",
       " 'e322003a': '',\n",
       " 'e323003s': '',\n",
       " 'e323003t': '',\n",
       " 'e323003f': '',\n",
       " 'e323003a': '',\n",
       " 'e323004s': '',\n",
       " 'e323004t': '',\n",
       " 'e323004f': '',\n",
       " 'e323004a': '',\n",
       " 'e322004s': '',\n",
       " 'e322004t': '',\n",
       " 'e322004f': '',\n",
       " 'e322004a': '',\n",
       " 'd306110s': '',\n",
       " 'd306110t': '',\n",
       " 'd306110f': '',\n",
       " 'd306110a': '',\n",
       " 'd306111s': '',\n",
       " 'd306111t': '',\n",
       " 'd306111f': '',\n",
       " 'd306111a': '',\n",
       " 'c313410s': '',\n",
       " 'c313410t': '',\n",
       " 'c313410f': '',\n",
       " 'c313410a': '',\n",
       " 'c313411s': '',\n",
       " 'c313411t': '',\n",
       " 'c313411f': '',\n",
       " 'c313411a': '',\n",
       " 'c313413s': '',\n",
       " 'c313413t': '',\n",
       " 'c313413f': '',\n",
       " 'c313413a': '',\n",
       " 'e318001s': '',\n",
       " 'e318001t': '',\n",
       " 'e318001f': '',\n",
       " 'e318001a': '',\n",
       " 'e318003s': '',\n",
       " 'e318003t': '',\n",
       " 'e318003f': '',\n",
       " 'e318003a': '',\n",
       " 'e323002s': '',\n",
       " 'e323002t': '',\n",
       " 'e323002f': '',\n",
       " 'e323002a': '',\n",
       " 'e323005s': '',\n",
       " 'e323005t': '',\n",
       " 'e323005f': '',\n",
       " 'e323005a': '',\n",
       " 'e329002s': '',\n",
       " 'e329002t': '',\n",
       " 'e329002f': '',\n",
       " 'e329002a': '',\n",
       " 'e329003s': '',\n",
       " 'e329003t': '',\n",
       " 'e329003f': '',\n",
       " 'e329003a': '',\n",
       " 'c615602s': '',\n",
       " 'c615602t': '',\n",
       " 'c615602f': '',\n",
       " 'c615602a': '',\n",
       " 'c615603s': '',\n",
       " 'c615603t': '',\n",
       " 'c615603f': '',\n",
       " 'c615603a': '',\n",
       " 'c624619s': '',\n",
       " 'c624619t': '',\n",
       " 'c624619f': '',\n",
       " 'c624619a': '',\n",
       " 'c624620s': '',\n",
       " 'c624620t': '',\n",
       " 'c624620f': '',\n",
       " 'c624620a': '',\n",
       " 'c604505s': '',\n",
       " 'c604505t': '',\n",
       " 'c604505f': '',\n",
       " 'c604505a': '',\n",
       " 'c605506s': '',\n",
       " 'c605506t': '',\n",
       " 'c605506f': '',\n",
       " 'c605506a': '',\n",
       " 'c605507s': '',\n",
       " 'c605507t': '',\n",
       " 'c605507f': '',\n",
       " 'c605507a': '',\n",
       " 'c605508s': '',\n",
       " 'c605508t': '',\n",
       " 'c605508f': '',\n",
       " 'c605508a': '',\n",
       " 'e650001s': '',\n",
       " 'e650001t': '',\n",
       " 'e650001f': '',\n",
       " 'e650001a': '',\n",
       " 'c623616s': '',\n",
       " 'c623616t': '',\n",
       " 'c623616f': '',\n",
       " 'c623616a': '',\n",
       " 'c623617s': '',\n",
       " 'c623617t': '',\n",
       " 'c623617f': '',\n",
       " 'c623617a': '',\n",
       " 'c619609s': '',\n",
       " 'c619609t': '',\n",
       " 'c619609f': '',\n",
       " 'c619609a': '',\n",
       " 'e657001s': '',\n",
       " 'e657001t': '',\n",
       " 'e657001f': '',\n",
       " 'e657001a': '',\n",
       " 'e646002s': '',\n",
       " 'e646002t': '',\n",
       " 'e646002f': '',\n",
       " 'e646002a': '',\n",
       " 'c620610s': '',\n",
       " 'c620610t': '',\n",
       " 'c620610f': '',\n",
       " 'c620610a': '',\n",
       " 'c620612s': '',\n",
       " 'c620612t': '',\n",
       " 'c620612f': '',\n",
       " 'c620612a': '',\n",
       " 'e632001s': '',\n",
       " 'e632001t': '',\n",
       " 'e632001f': '',\n",
       " 'e632001a': '',\n",
       " 'e632002s': '',\n",
       " 'e632002t': '',\n",
       " 'e632002f': '',\n",
       " 'e632002a': '',\n",
       " 'c607510s': '',\n",
       " 'c607510t': '',\n",
       " 'c607510f': '',\n",
       " 'c607510a': '',\n",
       " 'c614601s': '',\n",
       " 'c614601t': '',\n",
       " 'c614601f': '',\n",
       " 'c614601a': '',\n",
       " 'c618607s': '',\n",
       " 'c618607t': '',\n",
       " 'c618607f': '',\n",
       " 'c618607a': '',\n",
       " 'c618608s': '',\n",
       " 'c618608t': '',\n",
       " 'c618608f': '',\n",
       " 'c618608a': '',\n",
       " 'e635001s': '',\n",
       " 'e635001t': '',\n",
       " 'e635001f': '',\n",
       " 'e635001a': '',\n",
       " 'c613520s': '',\n",
       " 'c613520t': '',\n",
       " 'c613520f': '',\n",
       " 'c613520a': '',\n",
       " 'c608513s': '',\n",
       " 'c608513t': '',\n",
       " 'c608513f': '',\n",
       " 'c608513a': '',\n",
       " 'e655001s': '',\n",
       " 'e655001t': '',\n",
       " 'e655001f': '',\n",
       " 'e655001a': '',\n",
       " 'c602501s': '',\n",
       " 'c602501t': '',\n",
       " 'c602501f': '',\n",
       " 'c602501a': '',\n",
       " 'c602502s': '',\n",
       " 'c602502t': '',\n",
       " 'c602502f': '',\n",
       " 'c602502a': '',\n",
       " 'c602503s': '',\n",
       " 'c602503t': '',\n",
       " 'c602503f': '',\n",
       " 'c602503a': '',\n",
       " 'c611516s': '',\n",
       " 'c611516t': '',\n",
       " 'c611516f': '',\n",
       " 'c611516a': '',\n",
       " 'c611517s': '',\n",
       " 'c611517t': '',\n",
       " 'c611517f': '',\n",
       " 'c611517a': '',\n",
       " 'c606509s': '',\n",
       " 'c606509t': '',\n",
       " 'c606509f': '',\n",
       " 'c606509a': '',\n",
       " 'e665001s': '',\n",
       " 'e665001t': '',\n",
       " 'e665001f': '',\n",
       " 'e665001a': '',\n",
       " 'e665002s': '',\n",
       " 'e665002t': '',\n",
       " 'e665002f': '',\n",
       " 'e665002a': '',\n",
       " 'c622615s': '',\n",
       " 'c622615t': '',\n",
       " 'c622615f': '',\n",
       " 'c622615a': '',\n",
       " 'e636001s': '',\n",
       " 'e636001t': '',\n",
       " 'e636001f': '',\n",
       " 'e636001a': '',\n",
       " 'c617605s': '',\n",
       " 'c617605t': '',\n",
       " 'c617605f': '',\n",
       " 'c617605a': '',\n",
       " 'c617606s': '',\n",
       " 'c617606t': '',\n",
       " 'c617606f': '',\n",
       " 'c617606a': '',\n",
       " 'e641001s': '',\n",
       " 'e641001t': '',\n",
       " 'e641001f': '',\n",
       " 'e641001a': '',\n",
       " 'e661001s': '',\n",
       " 'e661001t': '',\n",
       " 'e661001f': '',\n",
       " 'e661001a': '',\n",
       " 'e661002s': '',\n",
       " 'e661002t': '',\n",
       " 'e661002f': '',\n",
       " 'e661002a': '',\n",
       " 'e660003s': '',\n",
       " 'e660003t': '',\n",
       " 'e660003f': '',\n",
       " 'e660003a': '',\n",
       " 'e660004s': '',\n",
       " 'e660004t': '',\n",
       " 'e660004f': '',\n",
       " 'e660004a': '',\n",
       " 'e634001s': '',\n",
       " 'e634001t': '',\n",
       " 'e634001f': '',\n",
       " 'e634001a': '',\n",
       " 'e634002s': '',\n",
       " 'e634002t': '',\n",
       " 'e634002f': '',\n",
       " 'e634002a': '',\n",
       " 'e651002s': '',\n",
       " 'e651002t': '',\n",
       " 'e651002f': '',\n",
       " 'e651002a': '',\n",
       " 'e664001s': '',\n",
       " 'e664001t': '',\n",
       " 'e664001f': '',\n",
       " 'e664001a': '',\n",
       " 'e644002s': '',\n",
       " 'e644002t': '',\n",
       " 'e644002f': '',\n",
       " 'e644002a': '',\n",
       " 'c612518s': '',\n",
       " 'c612518t': '',\n",
       " 'c612518f': '',\n",
       " 'c612518a': '',\n",
       " 'u01a000a': '',\n",
       " 'u01a000f': '',\n",
       " 'u01a000t': '',\n",
       " 'u01b000a': '',\n",
       " 'u01b000f': '',\n",
       " 'u01b000t': '',\n",
       " 'u03a000a': '',\n",
       " 'u03a000f': '',\n",
       " 'u03a000t': '',\n",
       " 'u06a000a': '',\n",
       " 'u06a000f': '',\n",
       " 'u06a000t': '',\n",
       " 'u06b000a': '',\n",
       " 'u06b000f': '',\n",
       " 'u06b000t': '',\n",
       " 'u21x000a': '',\n",
       " 'u21x000f': '',\n",
       " 'u21x000t': '',\n",
       " 'u04a000a': '',\n",
       " 'u04a000f': '',\n",
       " 'u04a000t': '',\n",
       " 'u19a000a': '',\n",
       " 'u19a000f': '',\n",
       " 'u19a000t': '',\n",
       " 'u19b000a': '',\n",
       " 'u19b000f': '',\n",
       " 'u19b000t': '',\n",
       " 'u07x000a': '',\n",
       " 'u07x000f': '',\n",
       " 'u07x000t': '',\n",
       " 'u02x000a': '',\n",
       " 'u02x000f': '',\n",
       " 'u02x000t': '',\n",
       " 'u16x000a': '',\n",
       " 'u16x000f': '',\n",
       " 'u16x000t': '',\n",
       " 'u11b000a': '',\n",
       " 'u11b000f': '',\n",
       " 'u11b000t': '',\n",
       " 'u23x000a': '',\n",
       " 'u23x000f': '',\n",
       " 'u23x000t': '',\n",
       " 'u01a000s': '',\n",
       " 'u01b000s': '',\n",
       " 'u02x000s': '',\n",
       " 'u03a000s': '',\n",
       " 'u04a000s': '',\n",
       " 'u06a000s': '',\n",
       " 'u06b000s': '',\n",
       " 'u07x000s': '',\n",
       " 'u11b000s': '',\n",
       " 'u16x000s': '',\n",
       " 'u19a000s': '',\n",
       " 'u19b000s': '',\n",
       " 'u21x000s': '',\n",
       " 'u23x000s': '',\n",
       " 'm301c05s': '',\n",
       " 'p330001s': '',\n",
       " 'n302c02s': '',\n",
       " 'm600c04s': '',\n",
       " 'm300c02s': '',\n",
       " 'p601c06s': '',\n",
       " 'p614601s': '',\n",
       " 'p645001s': '',\n",
       " 'n306110s': '',\n",
       " 'n306111s': '',\n",
       " 'm313410s': '',\n",
       " 'm313411s': '',\n",
       " 'm313412s': '',\n",
       " 'm313413s': '',\n",
       " 'm313414s': '',\n",
       " 'p324002s': '',\n",
       " 'p324003s': '',\n",
       " 'm305215s': '',\n",
       " 'm305218s': '',\n",
       " 'p317001s': '',\n",
       " 'p317002s': '',\n",
       " 'p317003s': '',\n",
       " 'm310406s': '',\n",
       " 'm310407s': '',\n",
       " 'm309319s': '',\n",
       " 'm309320s': '',\n",
       " 'm309321s': '',\n",
       " 'm309322s': '',\n",
       " 'm615602s': '',\n",
       " 'm615603s': '',\n",
       " 'p640001s': '',\n",
       " 'm620610s': '',\n",
       " 'm620612s': '',\n",
       " 'p666001s': '',\n",
       " 'm623616s': '',\n",
       " 'm623617s': '',\n",
       " 'm623618s': '',\n",
       " 'm624619s': '',\n",
       " 'm624620s': '',\n",
       " 'm618607s': '',\n",
       " 'm618608s': '',\n",
       " 'm604505s': '',\n",
       " 'm610515s': '',\n",
       " 'p664001s': '',\n",
       " 'm602501s': '',\n",
       " 'm602502s': '',\n",
       " 'm602503s': '',\n",
       " 'p655001s': '',\n",
       " 'p901002r': '',\n",
       " 'p901002s': '',\n",
       " 'p904012r': '',\n",
       " 'p904012s': '',\n",
       " 'p901003r': '',\n",
       " 'p901003s': '',\n",
       " 'p901005r': '',\n",
       " 'p901005s': '',\n",
       " 'p904009r': '',\n",
       " 'p904009s': '',\n",
       " 'p901006r': '',\n",
       " 'p901006s': '',\n",
       " 'p901004r': '',\n",
       " 'p901004s': '',\n",
       " 'p901013r': '',\n",
       " 'p901013s': '',\n",
       " 'p903007r': '',\n",
       " 'p903007s': '',\n",
       " 'p903012r': '',\n",
       " 'p903012s': '',\n",
       " 'p904010r': '',\n",
       " 'p904010s': '',\n",
       " 'p902024r': '',\n",
       " 'p902024s': '',\n",
       " 'p901011r': '',\n",
       " 'p901011s': '',\n",
       " 'p901020r': '',\n",
       " 'p901020s': '',\n",
       " 'p901017r': '',\n",
       " 'p901017s': '',\n",
       " 'p901018r': '',\n",
       " 'p901018s': '',\n",
       " 'p901019r': '',\n",
       " 'p901019s': '',\n",
       " 'p904022r': '',\n",
       " 'p904022s': '',\n",
       " 'p902021r': '',\n",
       " 'p902021s': '',\n",
       " 'p903017r': '',\n",
       " 'p903017s': '',\n",
       " 'p904014r': '',\n",
       " 'p904014s': '',\n",
       " 'p901021r': '',\n",
       " 'p901021s': '',\n",
       " 'p904015r': '',\n",
       " 'p904015s': '',\n",
       " 'p904020r': '',\n",
       " 'p904020s': '',\n",
       " 'p902022r': '',\n",
       " 'p902022s': '',\n",
       " 'p901024r': '',\n",
       " 'p901024s': '',\n",
       " 'p901025r': '',\n",
       " 'p901025s': '',\n",
       " 'p902014r': '',\n",
       " 'p902014s': '',\n",
       " 'p903024r': '',\n",
       " 'p903024s': '',\n",
       " 'p904024r': '',\n",
       " 'p904024s': '',\n",
       " 'p904025r': '',\n",
       " 'p904025s': '',\n",
       " 'p903021r': '',\n",
       " 'p903021s': '',\n",
       " 'p901015r': '',\n",
       " 'p901015s': '',\n",
       " 'p904021r': '',\n",
       " 'p904021s': '',\n",
       " 'p911001r': '',\n",
       " 'p911001s': '',\n",
       " 'p912002r': '',\n",
       " 'p912002s': '',\n",
       " 'p911003r': '',\n",
       " 'p911003s': '',\n",
       " 'p911004r': '',\n",
       " 'p911004s': '',\n",
       " 'p911005r': '',\n",
       " 'p911005s': '',\n",
       " 'p911006r': '',\n",
       " 'p911006s': '',\n",
       " 'p911007r': '',\n",
       " 'p911007s': '',\n",
       " 'p911008r': '',\n",
       " 'p911008s': '',\n",
       " 'p911009r': '',\n",
       " 'p911009s': '',\n",
       " 'p911010r': '',\n",
       " 'p911010s': '',\n",
       " 'p913013r': '',\n",
       " 'p913013s': '',\n",
       " 'p912011r': '',\n",
       " 'p912011s': '',\n",
       " 'p914012r': '',\n",
       " 'p914012s': '',\n",
       " 'p912013r': '',\n",
       " 'p912013s': '',\n",
       " 'p911014r': '',\n",
       " 'p911014s': '',\n",
       " 'p914015r': '',\n",
       " 'p914015s': '',\n",
       " 'p914019r': '',\n",
       " 'p914019s': '',\n",
       " 'p914016r': '',\n",
       " 'p914016s': '',\n",
       " 'p911017r': '',\n",
       " 'p911017s': '',\n",
       " 'p914018r': '',\n",
       " 'p914018s': '',\n",
       " 'p912019r': '',\n",
       " 'p912019s': '',\n",
       " 'p911020r': '',\n",
       " 'p911020s': '',\n",
       " 'p921002r': '',\n",
       " 'p921002s': '',\n",
       " 'p921003r': '',\n",
       " 'p921003s': '',\n",
       " 'p921004r': '',\n",
       " ...}"
      ]
     },
     "execution_count": 169,
     "metadata": {},
     "output_type": "execute_result"
    }
   ],
   "source": [
    "itr = pd.read_stata('data\\PIAAC_allcountries.dta', iterator = True)\n",
    "labels = itr.variable_labels()\n",
    "labels\n",
    "\n"
   ]
  },
  {
   "cell_type": "code",
   "execution_count": null,
   "metadata": {},
   "outputs": [],
   "source": [
    "data = pd.read_stata('auto.dta', iterator = True)\n",
    "labels = data.variable_labels()\n",
    "labels"
   ]
  },
  {
   "cell_type": "code",
   "execution_count": 170,
   "metadata": {},
   "outputs": [
    {
     "ename": "AttributeError",
     "evalue": "'StataReader' object has no attribute 'describe'",
     "output_type": "error",
     "traceback": [
      "\u001b[1;31m---------------------------------------------------------------------------\u001b[0m",
      "\u001b[1;31mAttributeError\u001b[0m                            Traceback (most recent call last)",
      "\u001b[1;32m<ipython-input-170-151e431c8c3f>\u001b[0m in \u001b[0;36m<module>\u001b[1;34m\u001b[0m\n\u001b[1;32m----> 1\u001b[1;33m \u001b[0mitr\u001b[0m\u001b[1;33m.\u001b[0m\u001b[0mdescribe\u001b[0m\u001b[1;33m(\u001b[0m\u001b[1;33m)\u001b[0m \u001b[1;31m# By default only numeric fields are returned\u001b[0m\u001b[1;33m\u001b[0m\u001b[1;33m\u001b[0m\u001b[0m\n\u001b[0m",
      "\u001b[1;31mAttributeError\u001b[0m: 'StataReader' object has no attribute 'describe'"
     ]
    }
   ],
   "source": [
    "itr.describe() # By default only numeric fields are returned"
   ]
  },
  {
   "cell_type": "code",
   "execution_count": null,
   "metadata": {},
   "outputs": [],
   "source": []
  },
  {
   "cell_type": "code",
   "execution_count": 171,
   "metadata": {},
   "outputs": [
    {
     "ename": "AttributeError",
     "evalue": "'StataReader' object has no attribute 'describe'",
     "output_type": "error",
     "traceback": [
      "\u001b[1;31m---------------------------------------------------------------------------\u001b[0m",
      "\u001b[1;31mAttributeError\u001b[0m                            Traceback (most recent call last)",
      "\u001b[1;32m<ipython-input-171-027995bff18d>\u001b[0m in \u001b[0;36m<module>\u001b[1;34m\u001b[0m\n\u001b[1;32m----> 1\u001b[1;33m \u001b[0mitr\u001b[0m\u001b[1;33m.\u001b[0m\u001b[0mdescribe\u001b[0m\u001b[1;33m(\u001b[0m\u001b[0minclude\u001b[0m\u001b[1;33m=\u001b[0m\u001b[1;34m'all'\u001b[0m\u001b[1;33m)\u001b[0m\u001b[1;33m\u001b[0m\u001b[1;33m\u001b[0m\u001b[0m\n\u001b[0m",
      "\u001b[1;31mAttributeError\u001b[0m: 'StataReader' object has no attribute 'describe'"
     ]
    }
   ],
   "source": [
    "itr.describe(include='all')  "
   ]
  },
  {
   "cell_type": "code",
   "execution_count": 172,
   "metadata": {},
   "outputs": [
    {
     "ename": "AttributeError",
     "evalue": "'StataReader' object has no attribute 'columns'",
     "output_type": "error",
     "traceback": [
      "\u001b[1;31m---------------------------------------------------------------------------\u001b[0m",
      "\u001b[1;31mAttributeError\u001b[0m                            Traceback (most recent call last)",
      "\u001b[1;32m<ipython-input-172-9c4e4a0cf1e6>\u001b[0m in \u001b[0;36m<module>\u001b[1;34m\u001b[0m\n\u001b[1;32m----> 1\u001b[1;33m \u001b[1;32mfor\u001b[0m \u001b[0mcol\u001b[0m \u001b[1;32min\u001b[0m \u001b[0mitr\u001b[0m\u001b[1;33m.\u001b[0m\u001b[0mcolumns\u001b[0m\u001b[1;33m:\u001b[0m\u001b[1;33m\u001b[0m\u001b[1;33m\u001b[0m\u001b[0m\n\u001b[0m\u001b[0;32m      2\u001b[0m     \u001b[0mprint\u001b[0m\u001b[1;33m(\u001b[0m\u001b[0mcol\u001b[0m\u001b[1;33m)\u001b[0m\u001b[1;33m\u001b[0m\u001b[1;33m\u001b[0m\u001b[0m\n",
      "\u001b[1;31mAttributeError\u001b[0m: 'StataReader' object has no attribute 'columns'"
     ]
    }
   ],
   "source": [
    "for col in itr.columns: \n",
    "    print(col)"
   ]
  },
  {
   "cell_type": "code",
   "execution_count": 173,
   "metadata": {},
   "outputs": [
    {
     "ename": "AttributeError",
     "evalue": "'StataReader' object has no attribute 'info'",
     "output_type": "error",
     "traceback": [
      "\u001b[1;31m---------------------------------------------------------------------------\u001b[0m",
      "\u001b[1;31mAttributeError\u001b[0m                            Traceback (most recent call last)",
      "\u001b[1;32m<ipython-input-173-9023f2b4354f>\u001b[0m in \u001b[0;36m<module>\u001b[1;34m\u001b[0m\n\u001b[1;32m----> 1\u001b[1;33m \u001b[0mprint\u001b[0m\u001b[1;33m(\u001b[0m\u001b[0mitr\u001b[0m\u001b[1;33m.\u001b[0m\u001b[0minfo\u001b[0m\u001b[1;33m(\u001b[0m\u001b[1;33m)\u001b[0m\u001b[1;33m)\u001b[0m\u001b[1;33m\u001b[0m\u001b[1;33m\u001b[0m\u001b[0m\n\u001b[0m",
      "\u001b[1;31mAttributeError\u001b[0m: 'StataReader' object has no attribute 'info'"
     ]
    }
   ],
   "source": [
    "print(itr.info())"
   ]
  },
  {
   "cell_type": "code",
   "execution_count": 174,
   "metadata": {},
   "outputs": [],
   "source": [
    "pd.set_option('display.max_columns', 3500)"
   ]
  },
  {
   "cell_type": "code",
   "execution_count": null,
   "metadata": {},
   "outputs": [],
   "source": []
  },
  {
   "cell_type": "markdown",
   "metadata": {},
   "source": [
    "Subset the dataframe and removing columns of no interest to us"
   ]
  },
  {
   "cell_type": "code",
   "execution_count": 175,
   "metadata": {},
   "outputs": [
    {
     "ename": "AttributeError",
     "evalue": "'StataReader' object has no attribute 'columns'",
     "output_type": "error",
     "traceback": [
      "\u001b[1;31m---------------------------------------------------------------------------\u001b[0m",
      "\u001b[1;31mAttributeError\u001b[0m                            Traceback (most recent call last)",
      "\u001b[1;32m<ipython-input-175-0831a7cc62b0>\u001b[0m in \u001b[0;36m<module>\u001b[1;34m\u001b[0m\n\u001b[1;32m----> 1\u001b[1;33m \u001b[1;33m{\u001b[0m\u001b[0mitr\u001b[0m\u001b[1;33m.\u001b[0m\u001b[0mcolumns\u001b[0m\u001b[1;33m.\u001b[0m\u001b[0mget_loc\u001b[0m\u001b[1;33m(\u001b[0m\u001b[0mc\u001b[0m\u001b[1;33m)\u001b[0m\u001b[1;33m:\u001b[0m \u001b[0mc\u001b[0m \u001b[1;32mfor\u001b[0m \u001b[0midx\u001b[0m\u001b[1;33m,\u001b[0m \u001b[0mc\u001b[0m \u001b[1;32min\u001b[0m \u001b[0menumerate\u001b[0m\u001b[1;33m(\u001b[0m\u001b[0mitr\u001b[0m\u001b[1;33m.\u001b[0m\u001b[0mcolumns\u001b[0m\u001b[1;33m)\u001b[0m\u001b[1;33m}\u001b[0m\u001b[1;33m\u001b[0m\u001b[1;33m\u001b[0m\u001b[0m\n\u001b[0m",
      "\u001b[1;31mAttributeError\u001b[0m: 'StataReader' object has no attribute 'columns'"
     ]
    }
   ],
   "source": [
    "{itr.columns.get_loc(c): c for idx, c in enumerate(itr.columns)}"
   ]
  },
  {
   "cell_type": "code",
   "execution_count": 49,
   "metadata": {},
   "outputs": [],
   "source": [
    "#itr.hist(bins=30, figsize=(15, 10))"
   ]
  },
  {
   "cell_type": "markdown",
   "metadata": {},
   "source": [
    "get rid of variables related to language, skills unrelated to ICT in everyday life, skills unrelated to ICT at work, bakcground info on household, ( maybe relevant - if so: include 262:270). \n",
    "Informaiton about education and training in b_q01-b_q12 \n",
    "Immigration info is kept (271:274). Background info on parents is skipped except for their highest educational level (285, 297, zusammen 330). Included also 310  Yearly income percentile rank category (derived).\n",
    "325:328, 314 --> highest educational level, also the years that were needed to tget the job.\n",
    "344 --> Youth aged 16 to 24 who have left education without completing ISCED 3 or higher\n",
    "345:361 --> participation in adult education training  formal or informal and 362:363 job-related or not , number of hours\n",
    "paid job or not \n",
    "\n",
    "look for column number \n",
    "inpiaac --> piaac sample indicator\n"
   ]
  },
  {
   "cell_type": "code",
   "execution_count": 85,
   "metadata": {},
   "outputs": [
    {
     "name": "stdout",
     "output_type": "stream",
     "text": [
      "<class 'pandas.core.frame.DataFrame'>\n",
      "RangeIndex: 230691 entries, 0 to 230690\n",
      "Columns: 141 entries, Unnamed: 0 to unempflag\n",
      "dtypes: float64(130), int64(2), object(9)\n",
      "memory usage: 248.2+ MB\n",
      "None\n"
     ]
    }
   ],
   "source": [
    "#itr.plot.hist(subplots=True, layout=(,4),figsize=(10, 10), bins=20)\n",
    "#iris.plot.hist(subplots=True, layout=(2,2), figsize=(10, 10), bins=20)\n",
    "piaac = itr[['Unnamed: 0','cntry','cntry_e', 'inpiaac', 'seqid' ,'cnt_brth','ageg10lfs', 'age_r', 'gender_r', 'j_q03b','j_q03b_c',\n",
    "            'j_q04a',  'j_q04c1_c', 'pared', 'racethn_5cat',\n",
    "            'computerexperience', 'isced_hf', 'isced_hf_c', 'cnt_h', 'yrsqual', 'yrsqual_t', 'yrsget', \n",
    "            'vet', 'edcat8', 'leaver1624',  'b_q01a', 'b_q01a_t', 'b_q01b', 'b_q01c1_c', 'b_d01d_c', \n",
    "             'b_q02a', 'b_q02a_t1', 'b_q02a_t2', 'b_q04a','b_q04b', 'b_q05c', 'b_q10a', \n",
    "             'b_q10b', 'b_q10c', 'b_q11', 'b_q12a','b_q12b',  'b_q12c', 'b_q12d', 'b_q12e', 'b_q12f',\n",
    "             'b_q12g', 'b_q12h', 'b_d12h', 'b_q13', 'b_q14a', 'b_q14b', 'b_q15a', 'b_q15b', 'b_q15c', 'b_q16','b_q19a','b_q20b','b_q26a_t','b_q26b', 'isic1l', 'isic1c', 'iscoskil4',\n",
    "             'isco1l','isco1c','c_q02a','c_q02c','c_d05','c_d06','c_q08c1_c','c_q08c2','c_q09',\n",
    "            'c_d09', 'c_q10a', 'd_q03', 'd_q04', 'd_q04_t','d_q05a1_c', 'd_q05a2','d_q05b1_c','d_q05b2','d_q06a', 'd_q06b', 'd_q06c', 'd_q07a', 'd_q09',\n",
    "            'd_q07b_c', 'd_q12a', 'd_q12b', 'd_q12c','d_q13c','d_q14', 'd_q16b','d_q16d5', 'e_q03','e_q04','e_q05a1_c','e_q05a2','e_q05b1_c','e_q05b2','e_q06','e_q07a','e_q07b',\n",
    "            'e_q08','e_q10','f_q07a','f_q07b', 'g_q04','g_q05a','g_q05c','g_q05d','g_q05e','g_q05f','g_q05g','g_q05h','g_q06','g_q07','g_q08','learnatwork',  'readytolearn', \n",
    "             'icthome',  'ictwork', 'earnmthallppp', 'earnmthbonusppp', 'earnmthselfppp',\n",
    "            'fe12','aetpop','faet12','faet12jr','faet12njr','nfe12','nfe12jr','nfe12njr','fnfaet12','fnfaet12jr','fnfaet12njr',\n",
    "             'nfehrsnjr','nfehrsjr','nfehrs','nopaidworkever','unempflag']].copy()\n",
    "piaac.describe()\n",
    "print(piaac.info())\n",
    "\n"
   ]
  },
  {
   "cell_type": "code",
   "execution_count": 86,
   "metadata": {},
   "outputs": [
    {
     "name": "stdout",
     "output_type": "stream",
     "text": [
      "Unnamed: 0\n",
      "cntry\n",
      "cntry_e\n",
      "inpiaac\n",
      "seqid\n",
      "cnt_brth\n",
      "ageg10lfs\n",
      "age_r\n",
      "gender_r\n",
      "j_q03b\n",
      "j_q03b_c\n",
      "j_q04a\n",
      "j_q04c1_c\n",
      "pared\n",
      "racethn_5cat\n",
      "computerexperience\n",
      "isced_hf\n",
      "isced_hf_c\n",
      "cnt_h\n",
      "yrsqual\n",
      "yrsqual_t\n",
      "yrsget\n",
      "vet\n",
      "edcat8\n",
      "leaver1624\n",
      "b_q01a\n",
      "b_q01a_t\n",
      "b_q01b\n",
      "b_q01c1_c\n",
      "b_d01d_c\n",
      "b_q02a\n",
      "b_q02a_t1\n",
      "b_q02a_t2\n",
      "b_q04a\n",
      "b_q04b\n",
      "b_q05c\n",
      "b_q10a\n",
      "b_q10b\n",
      "b_q10c\n",
      "b_q11\n",
      "b_q12a\n",
      "b_q12b\n",
      "b_q12c\n",
      "b_q12d\n",
      "b_q12e\n",
      "b_q12f\n",
      "b_q12g\n",
      "b_q12h\n",
      "b_d12h\n",
      "b_q13\n",
      "b_q14a\n",
      "b_q14b\n",
      "b_q15a\n",
      "b_q15b\n",
      "b_q15c\n",
      "b_q16\n",
      "b_q19a\n",
      "b_q20b\n",
      "b_q26a_t\n",
      "b_q26b\n",
      "isic1l\n",
      "isic1c\n",
      "iscoskil4\n",
      "isco1l\n",
      "isco1c\n",
      "c_q02a\n",
      "c_q02c\n",
      "c_d05\n",
      "c_d06\n",
      "c_q08c1_c\n",
      "c_q08c2\n",
      "c_q09\n",
      "c_d09\n",
      "c_q10a\n",
      "d_q03\n",
      "d_q04\n",
      "d_q04_t\n",
      "d_q05a1_c\n",
      "d_q05a2\n",
      "d_q05b1_c\n",
      "d_q05b2\n",
      "d_q06a\n",
      "d_q06b\n",
      "d_q06c\n",
      "d_q07a\n",
      "d_q09\n",
      "d_q07b_c\n",
      "d_q12a\n",
      "d_q12b\n",
      "d_q12c\n",
      "d_q13c\n",
      "d_q14\n",
      "d_q16b\n",
      "d_q16d5\n",
      "e_q03\n",
      "e_q04\n",
      "e_q05a1_c\n",
      "e_q05a2\n",
      "e_q05b1_c\n",
      "e_q05b2\n",
      "e_q06\n",
      "e_q07a\n",
      "e_q07b\n",
      "e_q08\n",
      "e_q10\n",
      "f_q07a\n",
      "f_q07b\n",
      "g_q04\n",
      "g_q05a\n",
      "g_q05c\n",
      "g_q05d\n",
      "g_q05e\n",
      "g_q05f\n",
      "g_q05g\n",
      "g_q05h\n",
      "g_q06\n",
      "g_q07\n",
      "g_q08\n",
      "learnatwork\n",
      "readytolearn\n",
      "icthome\n",
      "ictwork\n",
      "earnmthallppp\n",
      "earnmthbonusppp\n",
      "earnmthselfppp\n",
      "fe12\n",
      "aetpop\n",
      "faet12\n",
      "faet12jr\n",
      "faet12njr\n",
      "nfe12\n",
      "nfe12jr\n",
      "nfe12njr\n",
      "fnfaet12\n",
      "fnfaet12jr\n",
      "fnfaet12njr\n",
      "nfehrsnjr\n",
      "nfehrsjr\n",
      "nfehrs\n",
      "nopaidworkever\n",
      "unempflag\n"
     ]
    }
   ],
   "source": [
    "for col in piaac.columns: \n",
    "    print(col)"
   ]
  },
  {
   "cell_type": "code",
   "execution_count": 140,
   "metadata": {},
   "outputs": [],
   "source": [
    "#matplotlib.rcParams.update({'font.size': 8, 'figure.figsize': (4, 3)})\n",
    "#piaac.hist()"
   ]
  },
  {
   "cell_type": "code",
   "execution_count": 167,
   "metadata": {},
   "outputs": [
    {
     "name": "stdout",
     "output_type": "stream",
     "text": [
      "done\n"
     ]
    }
   ],
   "source": [
    "piaac.to_csv('piaac_reduced.csv')\n",
    "print('done')"
   ]
  },
  {
   "cell_type": "code",
   "execution_count": 99,
   "metadata": {},
   "outputs": [
    {
     "data": {
      "image/png": "[encoded data removed]",
      "text/plain": [
       "<Figure size 288x216 with 1 Axes>"
      ]
     },
     "metadata": {
      "needs_background": "light"
     },
     "output_type": "display_data"
    }
   ],
   "source": [
    "# the histogram of the data\n",
    "n, bins, patches = plt.hist(piaac['gender_r'], facecolor='b')\n",
    "plt.title('Gender of Respondent')\n",
    "plt.grid(axis='both')\n",
    "\n",
    "\n",
    "\n",
    "\n"
   ]
  },
  {
   "cell_type": "code",
   "execution_count": 107,
   "metadata": {},
   "outputs": [
    {
     "data": {
      "image/png": "[encoded data removed]",
      "text/plain": [
       "<Figure size 288x216 with 1 Axes>"
      ]
     },
     "metadata": {
      "needs_background": "light"
     },
     "output_type": "display_data"
    }
   ],
   "source": [
    "n, bins, patches = plt.hist(piaac['age_r'], facecolor='b', rwidth=0.9)\n",
    "plt.title('Age of Respondent')\n",
    "plt.grid(axis='both')"
   ]
  },
  {
   "cell_type": "code",
   "execution_count": 108,
   "metadata": {
    "scrolled": true
   },
   "outputs": [
    {
     "data": {
      "image/png": "[encoded data removed]",
      "text/plain": [
       "<Figure size 288x216 with 1 Axes>"
      ]
     },
     "metadata": {
      "needs_background": "light"
     },
     "output_type": "display_data"
    }
   ],
   "source": [
    "n, bins, patches = plt.hist(piaac['j_q03b'], facecolor='b', rwidth=0.9)\n",
    "plt.title('Number of Children')\n",
    "plt.grid(axis='both')"
   ]
  },
  {
   "cell_type": "code",
   "execution_count": 109,
   "metadata": {},
   "outputs": [
    {
     "data": {
      "image/png": "[encoded data removed]",
      "text/plain": [
       "<Figure size 288x216 with 1 Axes>"
      ]
     },
     "metadata": {
      "needs_background": "light"
     },
     "output_type": "display_data"
    }
   ],
   "source": [
    "n, bins, patches = plt.hist(piaac['j_q04c1_c'], facecolor='b', rwidth=0.9)\n",
    "plt.title('Age of Immigration')\n",
    "plt.grid(axis='both')"
   ]
  },
  {
   "cell_type": "code",
   "execution_count": 139,
   "metadata": {},
   "outputs": [
    {
     "data": {
      "text/plain": [
       "Text(0, -20, '1=Hispanic, 2=White, 3=Black, 4=Asian/pacific, 6=Other')"
      ]
     },
     "execution_count": 139,
     "metadata": {},
     "output_type": "execute_result"
    },
    {
     "data": {
      "image/png": "[encoded data removed]",
      "text/plain": [
       "<Figure size 288x216 with 1 Axes>"
      ]
     },
     "metadata": {
      "needs_background": "light"
     },
     "output_type": "display_data"
    }
   ],
   "source": [
    "n, bins, patches = plt.hist(piaac['racethn_5cat'], facecolor='b', rwidth=0.9)\n",
    "plt.title('Race')\n",
    "plt.grid(axis='both')\n",
    "plt.annotate('1=Hispanic, 2=White, 3=Black, 4=Asian/pacific, 6=Other', (0,0), (0, -20), xycoords='axes fraction', textcoords='offset points', va='top')\n",
    "\n",
    "#plt.text(3,2000, '1=Hispanic, 2=White, 3=Black, 4=Asian/pacific, 6=Other')\n",
    "\n",
    "# 1=Hispanic, 2=White, 3=Black, 4=Asian/pacific islander, 6=Other race"
   ]
  },
  {
   "cell_type": "code",
   "execution_count": 138,
   "metadata": {
    "scrolled": true
   },
   "outputs": [
    {
     "data": {
      "text/plain": [
       "Text(0, -20, '1=Yes, 2=No')"
      ]
     },
     "execution_count": 138,
     "metadata": {},
     "output_type": "execute_result"
    },
    {
     "data": {
      "image/png": "[encoded data removed]",
      "text/plain": [
       "<Figure size 288x216 with 1 Axes>"
      ]
     },
     "metadata": {
      "needs_background": "light"
     },
     "output_type": "display_data"
    }
   ],
   "source": [
    "n, bins, patches = plt.hist(piaac['computerexperience'], facecolor='b', rwidth=0.9)\n",
    "plt.suptitle('Experience with Computers')\n",
    "plt.grid(axis='both')\n",
    "plt.annotate('1=Yes, 2=No', (0,0), (0, -20), xycoords='axes fraction', textcoords='offset points', va='top')\n",
    "\n",
    "#plt.text(3,2000, '1=Yes, 2=No')\n",
    "\n"
   ]
  },
  {
   "cell_type": "code",
   "execution_count": 136,
   "metadata": {},
   "outputs": [
    {
     "data": {
      "text/plain": [
       "Text(0, -20, '1=Primary, 2=Lower Secondary, 3=Upper Secondary, 4=Post-Secondary \\n 5=Professional, 6=Bachelor, 7=Master, 8=research degree')"
      ]
     },
     "execution_count": 136,
     "metadata": {},
     "output_type": "execute_result"
    },
    {
     "data": {
      "image/png": "[encoded data removed]",
      "text/plain": [
       "<Figure size 288x216 with 1 Axes>"
      ]
     },
     "metadata": {
      "needs_background": "light"
     },
     "output_type": "display_data"
    }
   ],
   "source": [
    "n, bins, patches = plt.hist(piaac['edcat8'], facecolor='b', rwidth=0.9)\n",
    "plt.suptitle('Highest level of formal qualification', fontsize=10)\n",
    "#plt.title('1=Primary, 2=Lower Secondary, 3=Upper Secondary, 4=Post-Secondary, 5=Professional, 6=Bachelor, 7=Master, 8=research degree', fontsize=10)\n",
    "plt.grid(axis='both')\n",
    "plt.annotate('1=Primary, 2=Lower Secondary, 3=Upper Secondary, 4=Post-Secondary \\n 5=Professional, 6=Bachelor, 7=Master, 8=research degree', (0,0), (0, -20), xycoords='axes fraction', textcoords='offset points', va='top')\n"
   ]
  },
  {
   "cell_type": "code",
   "execution_count": 142,
   "metadata": {
    "scrolled": true
   },
   "outputs": [
    {
     "data": {
      "text/plain": [
       "Text(0, -20, '0=Completed post-secondary or is still in education \\n 1=Not in education, did not complete post-secondary')"
      ]
     },
     "execution_count": 142,
     "metadata": {},
     "output_type": "execute_result"
    },
    {
     "data": {
      "image/png": "[encoded data removed]",
      "text/plain": [
       "<Figure size 288x216 with 1 Axes>"
      ]
     },
     "metadata": {
      "needs_background": "light"
     },
     "output_type": "display_data"
    }
   ],
   "source": [
    "n, bins, patches = plt.hist(piaac['leaver1624'], facecolor='b', rwidth=0.9)\n",
    "plt.suptitle('Leaving education without completing post-secondary', fontsize=10)\n",
    "#plt.title('1=Primary, 2=Lower Secondary, 3=Upper Secondary, 4=Post-Secondary, 5=Professional, 6=Bachelor, 7=Master, 8=research degree', fontsize=10)\n",
    "plt.grid(axis='both')\n",
    "plt.annotate('0=Completed post-secondary or is still in education \\n 1=Not in education, did not complete post-secondary', (0,0), (0, -20), xycoords='axes fraction', textcoords='offset points', va='top')\n"
   ]
  },
  {
   "cell_type": "code",
   "execution_count": 144,
   "metadata": {},
   "outputs": [
    {
     "data": {
      "text/plain": [
       "Text(0, -20, '1=No schooling, 2=Grades 1-6, 3=Grades 7-9, 4=High school diploma \\n 5=Pre-associate education, 7=certificate prior to associate/bachelor, 8=Associate degree \\n 9=Bachelor, 10=Master, 11=Professional, 12=Doctorate, 13=Foreign Degree')"
      ]
     },
     "execution_count": 144,
     "metadata": {},
     "output_type": "execute_result"
    },
    {
     "data": {
      "image/png": "[encoded data removed]",
      "text/plain": [
       "<Figure size 288x216 with 1 Axes>"
      ]
     },
     "metadata": {
      "needs_background": "light"
     },
     "output_type": "display_data"
    }
   ],
   "source": [
    "n, bins, patches = plt.hist(piaac['b_q01a'], facecolor='b', rwidth=0.9)\n",
    "plt.suptitle('Highest level of education', fontsize=10)\n",
    "#plt.title('1=Primary, 2=Lower Secondary, 3=Upper Secondary, 4=Post-Secondary, 5=Professional, 6=Bachelor, 7=Master, 8=research degree', fontsize=10)\n",
    "plt.grid(axis='both')\n",
    "plt.annotate('1=No schooling, 2=Grades 1-6, 3=Grades 7-9, 4=High school diploma \\n 5=Pre-associate education, 7=certificate prior to associate/bachelor, 8=Associate degree \\n 9=Bachelor, 10=Master, 11=Professional, 12=Doctorate, 13=Foreign Degree', (0,0), (0, -20), xycoords='axes fraction', textcoords='offset points', va='top')\n",
    "\n",
    "\n"
   ]
  },
  {
   "cell_type": "code",
   "execution_count": 147,
   "metadata": {},
   "outputs": [
    {
     "data": {
      "text/plain": [
       "Text(0, -20, '1=General programmes, 2=Teacher training and education science \\n 3=Humanities, languages and arts, 4=Social sciences, business and law \\n 5=Science, mathematics and computing, 6=Engineering, manufacturing and construction \\n 7=Agriculture and veterinary, 8=Health and welfare, 9=Services')"
      ]
     },
     "execution_count": 147,
     "metadata": {},
     "output_type": "execute_result"
    },
    {
     "data": {
      "image/png": "[encoded data removed]",
      "text/plain": [
       "<Figure size 288x216 with 1 Axes>"
      ]
     },
     "metadata": {
      "needs_background": "light"
     },
     "output_type": "display_data"
    }
   ],
   "source": [
    "n, bins, patches = plt.hist(piaac['b_q01b'], facecolor='b', rwidth=0.9)\n",
    "plt.suptitle('Area of studies', fontsize=10)\n",
    "#plt.title('1=Primary, 2=Lower Secondary, 3=Upper Secondary, 4=Post-Secondary, 5=Professional, 6=Bachelor, 7=Master, 8=research degree', fontsize=10)\n",
    "plt.grid(axis='both')\n",
    "plt.annotate('1=General programmes, 2=Teacher training and education science \\n 3=Humanities, languages and arts, 4=Social sciences, business and law \\n 5=Science, mathematics and computing, 6=Engineering, manufacturing and construction \\n 7=Agriculture and veterinary, 8=Health and welfare, 9=Services', (0,0), (0, -20), xycoords='axes fraction', textcoords='offset points', va='top')\n",
    "\n"
   ]
  },
  {
   "cell_type": "code",
   "execution_count": 149,
   "metadata": {},
   "outputs": [
    {
     "data": {
      "text/plain": [
       "Text(0, -20, '1=Yes, 2=No')"
      ]
     },
     "execution_count": 149,
     "metadata": {},
     "output_type": "execute_result"
    },
    {
     "data": {
      "image/png": "[encoded data removed]",
      "text/plain": [
       "<Figure size 288x216 with 1 Axes>"
      ]
     },
     "metadata": {
      "needs_background": "light"
     },
     "output_type": "display_data"
    }
   ],
   "source": [
    "n, bins, patches = plt.hist(piaac['b_q12a'], facecolor='b', rwidth=0.9)\n",
    "plt.suptitle('Open/distance education during last 12 months', fontsize=10)\n",
    "#plt.title('1=Primary, 2=Lower Secondary, 3=Upper Secondary, 4=Post-Secondary, 5=Professional, 6=Bachelor, 7=Master, 8=research degree', fontsize=10)\n",
    "plt.grid(axis='both')\n",
    "plt.annotate('1=Yes, 2=No', (0,0), (0, -20), xycoords='axes fraction', textcoords='offset points', va='top')\n",
    "\n"
   ]
  },
  {
   "cell_type": "code",
   "execution_count": 150,
   "metadata": {},
   "outputs": [
    {
     "data": {
      "text/plain": [
       "Text(0, -20, '1=Yes, 2=No')"
      ]
     },
     "execution_count": 150,
     "metadata": {},
     "output_type": "execute_result"
    },
    {
     "data": {
      "image/png": "[encoded data removed]",
      "text/plain": [
       "<Figure size 288x216 with 1 Axes>"
      ]
     },
     "metadata": {
      "needs_background": "light"
     },
     "output_type": "display_data"
    }
   ],
   "source": [
    "n, bins, patches = plt.hist(piaac['b_q12c'], facecolor='b', rwidth=0.9)\n",
    "plt.suptitle('On the job training during last 12 months', fontsize=10)\n",
    "#plt.title('1=Primary, 2=Lower Secondary, 3=Upper Secondary, 4=Post-Secondary, 5=Professional, 6=Bachelor, 7=Master, 8=research degree', fontsize=10)\n",
    "plt.grid(axis='both')\n",
    "plt.annotate('1=Yes, 2=No', (0,0), (0, -20), xycoords='axes fraction', textcoords='offset points', va='top')\n",
    "\n"
   ]
  },
  {
   "cell_type": "code",
   "execution_count": 151,
   "metadata": {},
   "outputs": [
    {
     "data": {
      "text/plain": [
       "Text(0, -20, '1=Yes, 2=No')"
      ]
     },
     "execution_count": 151,
     "metadata": {},
     "output_type": "execute_result"
    },
    {
     "data": {
      "image/png": "[encoded data removed]",
      "text/plain": [
       "<Figure size 288x216 with 1 Axes>"
      ]
     },
     "metadata": {
      "needs_background": "light"
     },
     "output_type": "display_data"
    }
   ],
   "source": [
    "n, bins, patches = plt.hist(piaac['b_q12e'], facecolor='b', rwidth=0.9)\n",
    "plt.suptitle('Seminars/Workshops during last 12 months', fontsize=10)\n",
    "#plt.title('1=Primary, 2=Lower Secondary, 3=Upper Secondary, 4=Post-Secondary, 5=Professional, 6=Bachelor, 7=Master, 8=research degree', fontsize=10)\n",
    "plt.grid(axis='both')\n",
    "plt.annotate('1=Yes, 2=No', (0,0), (0, -20), xycoords='axes fraction', textcoords='offset points', va='top')\n",
    "\n"
   ]
  },
  {
   "cell_type": "code",
   "execution_count": 152,
   "metadata": {},
   "outputs": [
    {
     "data": {
      "text/plain": [
       "Text(0, -20, '1=Yes, 2=No')"
      ]
     },
     "execution_count": 152,
     "metadata": {},
     "output_type": "execute_result"
    },
    {
     "data": {
      "image/png": "[encoded data removed]",
      "text/plain": [
       "<Figure size 288x216 with 1 Axes>"
      ]
     },
     "metadata": {
      "needs_background": "light"
     },
     "output_type": "display_data"
    }
   ],
   "source": [
    "n, bins, patches = plt.hist(piaac['b_q12g'], facecolor='b', rwidth=0.9)\n",
    "plt.suptitle('Private lessons during last 12 months', fontsize=10)\n",
    "#plt.title('1=Primary, 2=Lower Secondary, 3=Upper Secondary, 4=Post-Secondary, 5=Professional, 6=Bachelor, 7=Master, 8=research degree', fontsize=10)\n",
    "plt.grid(axis='both')\n",
    "plt.annotate('1=Yes, 2=No', (0,0), (0, -20), xycoords='axes fraction', textcoords='offset points', va='top')\n",
    "\n"
   ]
  },
  {
   "cell_type": "code",
   "execution_count": 154,
   "metadata": {},
   "outputs": [
    {
     "data": {
      "text/plain": [
       "Text(0, -20, '1=open/distance educational course, 2=on-the-job-training \\n 3=seminar/workshop, 4=other/private lesson')"
      ]
     },
     "execution_count": 154,
     "metadata": {},
     "output_type": "execute_result"
    },
    {
     "data": {
      "image/png": "[encoded data removed]",
      "text/plain": [
       "<Figure size 288x216 with 1 Axes>"
      ]
     },
     "metadata": {
      "needs_background": "light"
     },
     "output_type": "display_data"
    }
   ],
   "source": [
    "n, bins, patches = plt.hist(piaac['b_q13'], facecolor='b', rwidth=0.9)\n",
    "plt.suptitle('Kind of activity', fontsize=10)\n",
    "#plt.title('1=Primary, 2=Lower Secondary, 3=Upper Secondary, 4=Post-Secondary, 5=Professional, 6=Bachelor, 7=Master, 8=research degree', fontsize=10)\n",
    "plt.grid(axis='both')\n",
    "plt.annotate('1=open/distance educational course, 2=on-the-job-training \\n 3=seminar/workshop, 4=other/private lesson', (0,0), (0, -20), xycoords='axes fraction', textcoords='offset points', va='top')\n",
    "\n"
   ]
  },
  {
   "cell_type": "code",
   "execution_count": 155,
   "metadata": {},
   "outputs": [
    {
     "data": {
      "text/plain": [
       "Text(0, -20, '1=Yes, 2=No')"
      ]
     },
     "execution_count": 155,
     "metadata": {},
     "output_type": "execute_result"
    },
    {
     "data": {
      "image/png": "[encoded data removed]",
      "text/plain": [
       "<Figure size 288x216 with 1 Axes>"
      ]
     },
     "metadata": {
      "needs_background": "light"
     },
     "output_type": "display_data"
    }
   ],
   "source": [
    "n, bins, patches = plt.hist(piaac['b_q14a'], facecolor='b', rwidth=0.9)\n",
    "plt.suptitle('Activity job-related?', fontsize=10)\n",
    "#plt.title('1=Primary, 2=Lower Secondary, 3=Upper Secondary, 4=Post-Secondary, 5=Professional, 6=Bachelor, 7=Master, 8=research degree', fontsize=10)\n",
    "plt.grid(axis='both')\n",
    "plt.annotate('1=Yes, 2=No', (0,0), (0, -20), xycoords='axes fraction', textcoords='offset points', va='top')\n",
    "\n"
   ]
  },
  {
   "cell_type": "code",
   "execution_count": 157,
   "metadata": {},
   "outputs": [
    {
     "data": {
      "text/plain": [
       "Text(0, -20, '1=To do my job better and/or improve career prospects \\n 2=To be less likely to lose my job \\n 3=To increase my possibilities of getting a job, or changing a job or profession \\n 4=To start my own business \\n 5=I was obliged to participate \\n 6=To increase my knowledge or skills on a subject that interests me \\n 7=To obtain a certificate, 8=8Other')"
      ]
     },
     "execution_count": 157,
     "metadata": {},
     "output_type": "execute_result"
    },
    {
     "data": {
      "image/png": "[encoded data removed]",
      "text/plain": [
       "<Figure size 288x216 with 1 Axes>"
      ]
     },
     "metadata": {
      "needs_background": "light"
     },
     "output_type": "display_data"
    }
   ],
   "source": [
    "n, bins, patches = plt.hist(piaac['b_q14b'], facecolor='b', rwidth=0.9)\n",
    "plt.suptitle('Activity job-related - Details?', fontsize=10)\n",
    "#plt.title('1=Primary, 2=Lower Secondary, 3=Upper Secondary, 4=Post-Secondary, 5=Professional, 6=Bachelor, 7=Master, 8=research degree', fontsize=10)\n",
    "plt.grid(axis='both')\n",
    "plt.annotate('1=To do my job better and/or improve career prospects \\n 2=To be less likely to lose my job \\n 3=To increase my possibilities of getting a job, or changing a job or profession \\n 4=To start my own business \\n 5=I was obliged to participate \\n 6=To increase my knowledge or skills on a subject that interests me \\n 7=To obtain a certificate, 8=8Other', (0,0), (0, -20), xycoords='axes fraction', textcoords='offset points', va='top')\n"
   ]
  },
  {
   "cell_type": "code",
   "execution_count": null,
   "metadata": {},
   "outputs": [],
   "source": []
  },
  {
   "cell_type": "code",
   "execution_count": 158,
   "metadata": {},
   "outputs": [
    {
     "data": {
      "text/plain": [
       "Text(0, -20, '1=Yes, 2=No')"
      ]
     },
     "execution_count": 158,
     "metadata": {},
     "output_type": "execute_result"
    },
    {
     "data": {
      "image/png": "[encoded data removed]",
      "text/plain": [
       "<Figure size 288x216 with 1 Axes>"
      ]
     },
     "metadata": {
      "needs_background": "light"
     },
     "output_type": "display_data"
    }
   ],
   "source": [
    "n, bins, patches = plt.hist(piaac['b_q15a'], facecolor='b', rwidth=0.9)\n",
    "plt.suptitle('Employed during activity?', fontsize=10)\n",
    "#plt.title('1=Primary, 2=Lower Secondary, 3=Upper Secondary, 4=Post-Secondary, 5=Professional, 6=Bachelor, 7=Master, 8=research degree', fontsize=10)\n",
    "plt.grid(axis='both')\n",
    "plt.annotate('1=Yes, 2=No', (0,0), (0, -20), xycoords='axes fraction', textcoords='offset points', va='top')\n",
    "\n"
   ]
  },
  {
   "cell_type": "code",
   "execution_count": 163,
   "metadata": {},
   "outputs": [
    {
     "data": {
      "text/plain": [
       "Text(0, -20, '1=Employed, 2=Unemployed, 3=Retired, 4=Not known')"
      ]
     },
     "execution_count": 163,
     "metadata": {},
     "output_type": "execute_result"
    },
    {
     "data": {
      "image/png": "[encoded data removed]",
      "text/plain": [
       "<Figure size 288x216 with 1 Axes>"
      ]
     },
     "metadata": {
      "needs_background": "light"
     },
     "output_type": "display_data"
    }
   ],
   "source": [
    "n, bins, patches = plt.hist(piaac['c_d05'], facecolor='b', rwidth=0.9)\n",
    "plt.suptitle('Employment status', fontsize=10)\n",
    "#plt.title('1=Primary, 2=Lower Secondary, 3=Upper Secondary, 4=Post-Secondary, 5=Professional, 6=Bachelor, 7=Master, 8=research degree', fontsize=10)\n",
    "plt.grid(axis='both')\n",
    "plt.annotate('1=Employed, 2=Unemployed, 3=Retired, 4=Not known', (0,0), (0, -20), xycoords='axes fraction', textcoords='offset points', va='top')\n"
   ]
  },
  {
   "cell_type": "code",
   "execution_count": null,
   "metadata": {},
   "outputs": [],
   "source": []
  },
  {
   "cell_type": "code",
   "execution_count": null,
   "metadata": {},
   "outputs": [],
   "source": []
  },
  {
   "cell_type": "code",
   "execution_count": null,
   "metadata": {},
   "outputs": [],
   "source": []
  },
  {
   "cell_type": "code",
   "execution_count": null,
   "metadata": {},
   "outputs": [],
   "source": []
  },
  {
   "cell_type": "code",
   "execution_count": null,
   "metadata": {},
   "outputs": [],
   "source": []
  },
  {
   "cell_type": "code",
   "execution_count": null,
   "metadata": {},
   "outputs": [],
   "source": []
  }
 ],
 "metadata": {
  "kernelspec": {
   "display_name": "Python 3",
   "language": "python",
   "name": "python3"
  },
  "language_info": {
   "codemirror_mode": {
    "name": "ipython",
    "version": 3
   },
   "file_extension": ".py",
   "mimetype": "text/x-python",
   "name": "python",
   "nbconvert_exporter": "python",
   "pygments_lexer": "ipython3",
   "version": "3.8.3"
  }
 },
 "nbformat": 4,
 "nbformat_minor": 5
}
