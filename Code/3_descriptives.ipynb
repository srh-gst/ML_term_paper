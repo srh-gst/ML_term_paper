{
 "cells": [
  {
   "cell_type": "markdown",
   "id": "higher-backup",
   "metadata": {},
   "source": [
    "# ML Term Paper - Code: Describe Data\n",
    "by Ann-Christin and Sarah 18/02/21\n",
    "\n",
    "This notebook uses the piaac_red file to describe the data used in the analysis. "
   ]
  },
  {
   "cell_type": "code",
   "execution_count": 53,
   "id": "treated-packet",
   "metadata": {},
   "outputs": [
    {
     "name": "stdout",
     "output_type": "stream",
     "text": [
      "done\n"
     ]
    }
   ],
   "source": [
    "# Packages to import \n",
    "\n",
    "import re\n",
    "\n",
    "import random\n",
    "#from PIL import Image\n",
    "import seaborn as sns\n",
    "import sklearn.decomposition\n",
    "import sklearn.manifold\n",
    "import umap #if missing: pip install umap\n",
    "import scipy.stats\n",
    "\n",
    "\n",
    "\n",
    "import numpy as np\n",
    "import pandas as pd\n",
    "import matplotlib\n",
    "import matplotlib.pyplot as plt\n",
    "\n",
    "from sklearn.linear_model import LinearRegression\n",
    "from sklearn.metrics import mean_squared_error, r2_score\n",
    "from sklearn.model_selection import KFold, cross_val_score\n",
    "from sklearn.model_selection import train_test_split\n",
    "\n",
    "from sklearn import ensemble\n",
    "from sklearn import tree as tree\n",
    "from pandas import Series, DataFrame\n",
    "print(\"done\")"
   ]
  },
  {
   "cell_type": "code",
   "execution_count": 54,
   "id": "statistical-alloy",
   "metadata": {},
   "outputs": [
    {
     "name": "stdout",
     "output_type": "stream",
     "text": [
      "done\n"
     ]
    }
   ],
   "source": [
    "import os\n",
    "path = \"E:\\Data\\krea\\PIAAC\"\n",
    "os.chdir(path)\n",
    "print(\"done\")"
   ]
  },
  {
   "cell_type": "code",
   "execution_count": 55,
   "id": "sporting-gabriel",
   "metadata": {},
   "outputs": [
    {
     "data": {
      "text/plain": [
       "(230691, 132)"
      ]
     },
     "execution_count": 55,
     "metadata": {},
     "output_type": "execute_result"
    }
   ],
   "source": [
    "data = pd.read_csv(\"data\\piaac_red.csv\", sep=',', error_bad_lines=False, index_col=False, dtype='unicode')\n",
    "data.shape"
   ]
  },
  {
   "cell_type": "code",
   "execution_count": 4,
   "id": "practical-pasta",
   "metadata": {},
   "outputs": [
    {
     "data": {
      "text/html": [
       "<div>\n",
       "<style scoped>\n",
       "    .dataframe tbody tr th:only-of-type {\n",
       "        vertical-align: middle;\n",
       "    }\n",
       "\n",
       "    .dataframe tbody tr th {\n",
       "        vertical-align: top;\n",
       "    }\n",
       "\n",
       "    .dataframe thead th {\n",
       "        text-align: right;\n",
       "    }\n",
       "</style>\n",
       "<table border=\"1\" class=\"dataframe\">\n",
       "  <thead>\n",
       "    <tr style=\"text-align: right;\">\n",
       "      <th></th>\n",
       "      <th>Unnamed: 0</th>\n",
       "      <th>cntry</th>\n",
       "      <th>cntry_e</th>\n",
       "      <th>inpiaac</th>\n",
       "      <th>seqid</th>\n",
       "      <th>cnt_brth</th>\n",
       "      <th>ageg10lfs</th>\n",
       "      <th>age_r</th>\n",
       "      <th>gender_r</th>\n",
       "      <th>j_q03b</th>\n",
       "      <th>...</th>\n",
       "      <th>nfe12jr</th>\n",
       "      <th>nfe12njr</th>\n",
       "      <th>fnfaet12</th>\n",
       "      <th>fnfaet12jr</th>\n",
       "      <th>fnfaet12njr</th>\n",
       "      <th>nfehrsnjr</th>\n",
       "      <th>nfehrsjr</th>\n",
       "      <th>nfehrs</th>\n",
       "      <th>nopaidworkever</th>\n",
       "      <th>unempflag</th>\n",
       "    </tr>\n",
       "  </thead>\n",
       "  <tbody>\n",
       "    <tr>\n",
       "      <th>count</th>\n",
       "      <td>230691</td>\n",
       "      <td>3660</td>\n",
       "      <td>3660</td>\n",
       "      <td>3660</td>\n",
       "      <td>230691</td>\n",
       "      <td>160270</td>\n",
       "      <td>227031</td>\n",
       "      <td>166949</td>\n",
       "      <td>230689</td>\n",
       "      <td>103091</td>\n",
       "      <td>...</td>\n",
       "      <td>216972</td>\n",
       "      <td>216972</td>\n",
       "      <td>200153</td>\n",
       "      <td>198853</td>\n",
       "      <td>198853</td>\n",
       "      <td>54687</td>\n",
       "      <td>54687</td>\n",
       "      <td>80121</td>\n",
       "      <td>228135</td>\n",
       "      <td>3477</td>\n",
       "    </tr>\n",
       "    <tr>\n",
       "      <th>unique</th>\n",
       "      <td>230691</td>\n",
       "      <td>1</td>\n",
       "      <td>1</td>\n",
       "      <td>2</td>\n",
       "      <td>26967</td>\n",
       "      <td>182</td>\n",
       "      <td>5</td>\n",
       "      <td>50</td>\n",
       "      <td>2</td>\n",
       "      <td>24</td>\n",
       "      <td>...</td>\n",
       "      <td>2</td>\n",
       "      <td>2</td>\n",
       "      <td>2</td>\n",
       "      <td>2</td>\n",
       "      <td>2</td>\n",
       "      <td>539</td>\n",
       "      <td>568</td>\n",
       "      <td>474</td>\n",
       "      <td>2</td>\n",
       "      <td>2</td>\n",
       "    </tr>\n",
       "    <tr>\n",
       "      <th>top</th>\n",
       "      <td>129637</td>\n",
       "      <td>USA</td>\n",
       "      <td>USA</td>\n",
       "      <td>1.0</td>\n",
       "      <td>2678.0</td>\n",
       "      <td>Poland</td>\n",
       "      <td>35-44</td>\n",
       "      <td>21.0</td>\n",
       "      <td>Female</td>\n",
       "      <td>2.0</td>\n",
       "      <td>...</td>\n",
       "      <td>Did not participate in NFE for JR reasons</td>\n",
       "      <td>Did not participate in NFE for NJR reasons</td>\n",
       "      <td>Did not participate in formal or non-formal AET</td>\n",
       "      <td>Did not participate in formal or non-formal AE...</td>\n",
       "      <td>Did not participate in formal or non-formal AE...</td>\n",
       "      <td>0.0</td>\n",
       "      <td>0.0</td>\n",
       "      <td>40.0</td>\n",
       "      <td>Has had paid work</td>\n",
       "      <td>0.0</td>\n",
       "    </tr>\n",
       "    <tr>\n",
       "      <th>freq</th>\n",
       "      <td>1</td>\n",
       "      <td>3660</td>\n",
       "      <td>3660</td>\n",
       "      <td>3296</td>\n",
       "      <td>35</td>\n",
       "      <td>9612</td>\n",
       "      <td>46872</td>\n",
       "      <td>3872</td>\n",
       "      <td>122830</td>\n",
       "      <td>44747</td>\n",
       "      <td>...</td>\n",
       "      <td>140246</td>\n",
       "      <td>200186</td>\n",
       "      <td>106426</td>\n",
       "      <td>122590</td>\n",
       "      <td>182689</td>\n",
       "      <td>32659</td>\n",
       "      <td>6681</td>\n",
       "      <td>6877</td>\n",
       "      <td>204720</td>\n",
       "      <td>3339</td>\n",
       "    </tr>\n",
       "  </tbody>\n",
       "</table>\n",
       "<p>4 rows × 132 columns</p>\n",
       "</div>"
      ],
      "text/plain": [
       "       Unnamed: 0 cntry cntry_e inpiaac   seqid cnt_brth ageg10lfs   age_r  \\\n",
       "count      230691  3660    3660    3660  230691   160270    227031  166949   \n",
       "unique     230691     1       1       2   26967      182         5      50   \n",
       "top        129637   USA     USA     1.0  2678.0   Poland     35-44    21.0   \n",
       "freq            1  3660    3660    3296      35     9612     46872    3872   \n",
       "\n",
       "       gender_r  j_q03b  ...                                    nfe12jr  \\\n",
       "count    230689  103091  ...                                     216972   \n",
       "unique        2      24  ...                                          2   \n",
       "top      Female     2.0  ...  Did not participate in NFE for JR reasons   \n",
       "freq     122830   44747  ...                                     140246   \n",
       "\n",
       "                                          nfe12njr  \\\n",
       "count                                       216972   \n",
       "unique                                           2   \n",
       "top     Did not participate in NFE for NJR reasons   \n",
       "freq                                        200186   \n",
       "\n",
       "                                               fnfaet12  \\\n",
       "count                                            200153   \n",
       "unique                                                2   \n",
       "top     Did not participate in formal or non-formal AET   \n",
       "freq                                             106426   \n",
       "\n",
       "                                               fnfaet12jr  \\\n",
       "count                                              198853   \n",
       "unique                                                  2   \n",
       "top     Did not participate in formal or non-formal AE...   \n",
       "freq                                               122590   \n",
       "\n",
       "                                              fnfaet12njr nfehrsnjr nfehrsjr  \\\n",
       "count                                              198853     54687    54687   \n",
       "unique                                                  2       539      568   \n",
       "top     Did not participate in formal or non-formal AE...       0.0      0.0   \n",
       "freq                                               182689     32659     6681   \n",
       "\n",
       "       nfehrs     nopaidworkever unempflag  \n",
       "count   80121             228135      3477  \n",
       "unique    474                  2         2  \n",
       "top      40.0  Has had paid work       0.0  \n",
       "freq     6877             204720      3339  \n",
       "\n",
       "[4 rows x 132 columns]"
      ]
     },
     "execution_count": 4,
     "metadata": {},
     "output_type": "execute_result"
    }
   ],
   "source": [
    "data.describe()"
   ]
  },
  {
   "cell_type": "markdown",
   "id": "shared-constitution",
   "metadata": {},
   "source": [
    "## Changing Data Types"
   ]
  },
  {
   "cell_type": "code",
   "execution_count": 56,
   "id": "suitable-colorado",
   "metadata": {},
   "outputs": [],
   "source": [
    "data['gender_r'] = data['gender_r'].astype('category')\n",
    "data[\"age_r\"] = pd.to_numeric(data[\"age_r\"])\n",
    "data['b_q12a'] = data['b_q12a'].astype('category') # yes/no open educational training\n",
    "data['b_q12b'] = pd.to_numeric(data[\"b_q12b\"]) # number of open/distance educational trainings\n",
    "data[\"b_q12d\"] = pd.to_numeric(data[\"b_q12d\"]) # number of on-the-job training\n",
    "data['b_q12e'] = data['b_q12e'].astype('category')  # yes/no seminars training\n",
    "data['b_q12f'] = pd.to_numeric(data[\"b_q12f\"]) # number of seminars\n",
    "data['b_q12g'] = data['b_q12g'].astype('category')  # yes/no private training\n",
    "data['b_q12h'] = pd.to_numeric(data[\"b_q12h\"]) # number of private educational trainings\n",
    "data['j_q03a'] = data['j_q03a'].astype('category') # yes/no children\n",
    "data['j_q03b'] = pd.to_numeric(data['j_q03b']) # number of children\n",
    "data['yrsqual_t'] = pd.to_numeric(data['yrsqual_t'])\n",
    "data['yrsget'] = pd.to_numeric(data['yrsget'])\n",
    "data['iscoskil4'] = data['iscoskil4'].astype('category')\n",
    "data['h_q05g'] = data['h_q05g'].astype('category') # Skill use everyday life - ICT - Computer - How often - Programming language  \n",
    "data['g_q05g'] = data['g_q05g'].astype('category') # skill use work - ICT programming lanugage how often\n",
    "#data['g_q05'] = data['g_q05'].astype('category') # use computer at work yes/no"
   ]
  },
  {
   "cell_type": "markdown",
   "id": "boxed-heath",
   "metadata": {},
   "source": [
    "## Summary Statistics"
   ]
  },
  {
   "cell_type": "code",
   "execution_count": 6,
   "id": "irish-relief",
   "metadata": {},
   "outputs": [
    {
     "data": {
      "text/plain": [
       "<bound method NDFrame.describe of 0           Male\n",
       "1           Male\n",
       "2         Female\n",
       "3         Female\n",
       "4           Male\n",
       "           ...  \n",
       "230686      Male\n",
       "230687      Male\n",
       "230688    Female\n",
       "230689      Male\n",
       "230690      Male\n",
       "Name: gender_r, Length: 230691, dtype: category\n",
       "Categories (2, object): ['Female', 'Male']>"
      ]
     },
     "execution_count": 6,
     "metadata": {},
     "output_type": "execute_result"
    }
   ],
   "source": [
    "data['gender_r'].describe"
   ]
  },
  {
   "cell_type": "code",
   "execution_count": 7,
   "id": "acoustic-borough",
   "metadata": {},
   "outputs": [
    {
     "data": {
      "text/plain": [
       "Female    122830\n",
       "Male      107859\n",
       "Name: gender_r, dtype: int64"
      ]
     },
     "execution_count": 7,
     "metadata": {},
     "output_type": "execute_result"
    }
   ],
   "source": [
    "data['gender_r'].value_counts()"
   ]
  },
  {
   "cell_type": "code",
   "execution_count": 8,
   "id": "chronic-status",
   "metadata": {},
   "outputs": [],
   "source": [
    "#data['age_r'] = data['age_r'].fillna(0)\n",
    "#data['age_r'].describe"
   ]
  },
  {
   "cell_type": "code",
   "execution_count": 9,
   "id": "synthetic-bidding",
   "metadata": {},
   "outputs": [
    {
     "data": {
      "text/plain": [
       "<bound method NDFrame.describe of 0        NaN\n",
       "1        NaN\n",
       "2        NaN\n",
       "3        NaN\n",
       "4        NaN\n",
       "          ..\n",
       "230686   NaN\n",
       "230687   NaN\n",
       "230688   NaN\n",
       "230689   NaN\n",
       "230690   NaN\n",
       "Name: age_r, Length: 230691, dtype: float64>"
      ]
     },
     "execution_count": 9,
     "metadata": {},
     "output_type": "execute_result"
    }
   ],
   "source": [
    "\n",
    "data['age_r'].describe"
   ]
  },
  {
   "cell_type": "code",
   "execution_count": 10,
   "id": "inappropriate-potato",
   "metadata": {},
   "outputs": [
    {
     "data": {
      "text/plain": [
       "21.0    3872\n",
       "23.0    3862\n",
       "19.0    3823\n",
       "20.0    3802\n",
       "22.0    3721\n",
       "26.0    3683\n",
       "24.0    3671\n",
       "40.0    3632\n",
       "25.0    3589\n",
       "39.0    3517\n",
       "37.0    3502\n",
       "41.0    3462\n",
       "38.0    3461\n",
       "36.0    3458\n",
       "33.0    3425\n",
       "31.0    3424\n",
       "34.0    3417\n",
       "35.0    3415\n",
       "30.0    3414\n",
       "32.0    3385\n",
       "47.0    3370\n",
       "45.0    3365\n",
       "42.0    3360\n",
       "17.0    3353\n",
       "18.0    3353\n",
       "48.0    3350\n",
       "29.0    3340\n",
       "46.0    3321\n",
       "43.0    3321\n",
       "44.0    3289\n",
       "49.0    3266\n",
       "52.0    3236\n",
       "28.0    3201\n",
       "55.0    3192\n",
       "27.0    3184\n",
       "53.0    3173\n",
       "50.0    3172\n",
       "64.0    3158\n",
       "51.0    3147\n",
       "56.0    3125\n",
       "16.0    3123\n",
       "57.0    3092\n",
       "58.0    3074\n",
       "54.0    3070\n",
       "59.0    3018\n",
       "60.0    3003\n",
       "62.0    2998\n",
       "61.0    2992\n",
       "63.0    2982\n",
       "65.0    2786\n",
       "Name: age_r, dtype: int64"
      ]
     },
     "execution_count": 10,
     "metadata": {},
     "output_type": "execute_result"
    }
   ],
   "source": [
    "data['age_r'].value_counts()"
   ]
  },
  {
   "cell_type": "code",
   "execution_count": 11,
   "id": "racial-quantity",
   "metadata": {},
   "outputs": [],
   "source": [
    "#data['age_r'] = data['age_r'].astype('integer')"
   ]
  },
  {
   "cell_type": "code",
   "execution_count": 12,
   "id": "acceptable-juice",
   "metadata": {},
   "outputs": [
    {
     "data": {
      "text/plain": [
       "<bound method NDFrame.describe of 0        NaN\n",
       "1        NaN\n",
       "2        NaN\n",
       "3        NaN\n",
       "4        NaN\n",
       "          ..\n",
       "230686   NaN\n",
       "230687   NaN\n",
       "230688   NaN\n",
       "230689   NaN\n",
       "230690   NaN\n",
       "Name: age_r, Length: 230691, dtype: float64>"
      ]
     },
     "execution_count": 12,
     "metadata": {},
     "output_type": "execute_result"
    }
   ],
   "source": [
    "data['age_r'].describe"
   ]
  },
  {
   "cell_type": "code",
   "execution_count": 13,
   "id": "distant-diploma",
   "metadata": {},
   "outputs": [
    {
     "data": {
      "text/plain": [
       "age_r    39.687485\n",
       "dtype: float64"
      ]
     },
     "execution_count": 13,
     "metadata": {},
     "output_type": "execute_result"
    }
   ],
   "source": [
    "data[[\"age_r\"]].mean()"
   ]
  },
  {
   "cell_type": "code",
   "execution_count": 14,
   "id": "lonely-comfort",
   "metadata": {},
   "outputs": [
    {
     "data": {
      "text/html": [
       "<div>\n",
       "<style scoped>\n",
       "    .dataframe tbody tr th:only-of-type {\n",
       "        vertical-align: middle;\n",
       "    }\n",
       "\n",
       "    .dataframe tbody tr th {\n",
       "        vertical-align: top;\n",
       "    }\n",
       "\n",
       "    .dataframe thead th {\n",
       "        text-align: right;\n",
       "    }\n",
       "</style>\n",
       "<table border=\"1\" class=\"dataframe\">\n",
       "  <thead>\n",
       "    <tr style=\"text-align: right;\">\n",
       "      <th></th>\n",
       "      <th>age_r</th>\n",
       "    </tr>\n",
       "    <tr>\n",
       "      <th>gender_r</th>\n",
       "      <th></th>\n",
       "    </tr>\n",
       "  </thead>\n",
       "  <tbody>\n",
       "    <tr>\n",
       "      <th>Female</th>\n",
       "      <td>39.957589</td>\n",
       "    </tr>\n",
       "    <tr>\n",
       "      <th>Male</th>\n",
       "      <td>39.378828</td>\n",
       "    </tr>\n",
       "  </tbody>\n",
       "</table>\n",
       "</div>"
      ],
      "text/plain": [
       "              age_r\n",
       "gender_r           \n",
       "Female    39.957589\n",
       "Male      39.378828"
      ]
     },
     "execution_count": 14,
     "metadata": {},
     "output_type": "execute_result"
    }
   ],
   "source": [
    "data[[\"gender_r\", \"age_r\"]].groupby(\"gender_r\").mean()"
   ]
  },
  {
   "cell_type": "code",
   "execution_count": 15,
   "id": "coupled-teddy",
   "metadata": {},
   "outputs": [
    {
     "data": {
      "text/plain": [
       "<bound method NDFrame.describe of 0        NaN\n",
       "1        NaN\n",
       "2        NaN\n",
       "3        NaN\n",
       "4        NaN\n",
       "          ..\n",
       "230686   NaN\n",
       "230687   NaN\n",
       "230688   NaN\n",
       "230689   NaN\n",
       "230690   NaN\n",
       "Name: b_q12d, Length: 230691, dtype: float64>"
      ]
     },
     "execution_count": 15,
     "metadata": {},
     "output_type": "execute_result"
    }
   ],
   "source": [
    "\n",
    "data['b_q12d'].describe\n"
   ]
  },
  {
   "cell_type": "code",
   "execution_count": 16,
   "id": "editorial-habitat",
   "metadata": {},
   "outputs": [
    {
     "data": {
      "text/plain": [
       "               b_q12d\n",
       "age_r   count  0.0          31.0\n",
       "               1.0       14106.0\n",
       "               2.0        9846.0\n",
       "               3.0        5918.0\n",
       "               4.0        3196.0\n",
       "                          ...   \n",
       "b_q12h  max    46.0          NaN\n",
       "               47.0          NaN\n",
       "               48.0         45.0\n",
       "               49.0          NaN\n",
       "               50.0         50.0\n",
       "Length: 2520, dtype: float64"
      ]
     },
     "execution_count": 16,
     "metadata": {},
     "output_type": "execute_result"
    }
   ],
   "source": [
    "#data.groupby('b_q12d').describe()\n",
    "data.groupby('b_q12d').describe().unstack(1)"
   ]
  },
  {
   "cell_type": "code",
   "execution_count": 165,
   "id": "amino-milton",
   "metadata": {},
   "outputs": [
    {
     "data": {
      "text/plain": [
       "<bound method NDFrame.describe of 0        NaN\n",
       "1        NaN\n",
       "2        NaN\n",
       "3        NaN\n",
       "4        NaN\n",
       "          ..\n",
       "230686   NaN\n",
       "230687   NaN\n",
       "230688   NaN\n",
       "230689   NaN\n",
       "230690   NaN\n",
       "Name: b_q12b, Length: 230691, dtype: float64>"
      ]
     },
     "execution_count": 165,
     "metadata": {},
     "output_type": "execute_result"
    }
   ],
   "source": [
    "\n",
    "data['b_q12b'].describe # number of open/distance educational trainings"
   ]
  },
  {
   "cell_type": "code",
   "execution_count": 166,
   "id": "worse-journalism",
   "metadata": {},
   "outputs": [
    {
     "data": {
      "text/plain": [
       "<bound method NDFrame.describe of 0          No\n",
       "1         Yes\n",
       "2          No\n",
       "3          No\n",
       "4         Yes\n",
       "         ... \n",
       "230686     No\n",
       "230687     No\n",
       "230688     No\n",
       "230689     No\n",
       "230690     No\n",
       "Name: b_q12a, Length: 230691, dtype: category\n",
       "Categories (2, object): ['No', 'Yes']>"
      ]
     },
     "execution_count": 166,
     "metadata": {},
     "output_type": "execute_result"
    }
   ],
   "source": [
    "\n",
    "data['b_q12a'].describe# yes/no open educational training"
   ]
  },
  {
   "cell_type": "code",
   "execution_count": 104,
   "id": "favorite-genome",
   "metadata": {},
   "outputs": [
    {
     "data": {
      "text/plain": [
       "<bound method NDFrame.describe of 0          No\n",
       "1         Yes\n",
       "2          No\n",
       "3          No\n",
       "4          No\n",
       "         ... \n",
       "230686    Yes\n",
       "230687     No\n",
       "230688     No\n",
       "230689     No\n",
       "230690     No\n",
       "Name: b_q12e, Length: 230691, dtype: category\n",
       "Categories (2, object): ['No', 'Yes']>"
      ]
     },
     "execution_count": 104,
     "metadata": {},
     "output_type": "execute_result"
    }
   ],
   "source": [
    "\n",
    "data['b_q12e'].describe # yes/no semianrs / workshops"
   ]
  },
  {
   "cell_type": "code",
   "execution_count": 170,
   "id": "dental-stevens",
   "metadata": {},
   "outputs": [
    {
     "data": {
      "text/plain": [
       "<bound method NDFrame.describe of 0        NaN\n",
       "1        NaN\n",
       "2        NaN\n",
       "3        NaN\n",
       "4        NaN\n",
       "          ..\n",
       "230686   NaN\n",
       "230687   NaN\n",
       "230688   NaN\n",
       "230689   NaN\n",
       "230690   NaN\n",
       "Name: b_q12f, Length: 230691, dtype: float64>"
      ]
     },
     "execution_count": 170,
     "metadata": {},
     "output_type": "execute_result"
    }
   ],
   "source": [
    "\n",
    "data['b_q12f'].describe # number of seminars "
   ]
  },
  {
   "cell_type": "code",
   "execution_count": 171,
   "id": "surprising-horror",
   "metadata": {},
   "outputs": [
    {
     "data": {
      "text/plain": [
       "<bound method NDFrame.describe of 0         No\n",
       "1         No\n",
       "2         No\n",
       "3         No\n",
       "4         No\n",
       "          ..\n",
       "230686    No\n",
       "230687    No\n",
       "230688    No\n",
       "230689    No\n",
       "230690    No\n",
       "Name: b_q12g, Length: 230691, dtype: category\n",
       "Categories (2, object): ['No', 'Yes']>"
      ]
     },
     "execution_count": 171,
     "metadata": {},
     "output_type": "execute_result"
    }
   ],
   "source": [
    "\n",
    "data['b_q12g'].describe # yes/no private training"
   ]
  },
  {
   "cell_type": "code",
   "execution_count": 172,
   "id": "pharmaceutical-hacker",
   "metadata": {},
   "outputs": [
    {
     "data": {
      "text/plain": [
       "<bound method NDFrame.describe of 0        NaN\n",
       "1        NaN\n",
       "2        NaN\n",
       "3        NaN\n",
       "4        NaN\n",
       "          ..\n",
       "230686   NaN\n",
       "230687   NaN\n",
       "230688   NaN\n",
       "230689   NaN\n",
       "230690   NaN\n",
       "Name: b_q12h, Length: 230691, dtype: float64>"
      ]
     },
     "execution_count": 172,
     "metadata": {},
     "output_type": "execute_result"
    }
   ],
   "source": [
    "\n",
    "data['b_q12h'].describe # number of private educational trainings"
   ]
  },
  {
   "cell_type": "code",
   "execution_count": 173,
   "id": "dimensional-fourth",
   "metadata": {},
   "outputs": [
    {
     "data": {
      "text/plain": [
       "<bound method NDFrame.describe of 0         A\n",
       "1         1\n",
       "2         4\n",
       "3         2\n",
       "4         1\n",
       "         ..\n",
       "230686    2\n",
       "230687    3\n",
       "230688    2\n",
       "230689    3\n",
       "230690    1\n",
       "Name: iscoskil4, Length: 230691, dtype: category\n",
       "Categories (7, object): ['1', '2', '3', '4', 'A', 'N', 'U']>"
      ]
     },
     "execution_count": 173,
     "metadata": {},
     "output_type": "execute_result"
    }
   ],
   "source": [
    "\n",
    "data['iscoskil4'].describe"
   ]
  },
  {
   "cell_type": "code",
   "execution_count": 175,
   "id": "pleased-owner",
   "metadata": {},
   "outputs": [
    {
     "data": {
      "text/plain": [
       "<bound method NDFrame.describe of 0         NaN\n",
       "1         NaN\n",
       "2         NaN\n",
       "3         NaN\n",
       "4         NaN\n",
       "         ... \n",
       "230686    NaN\n",
       "230687    NaN\n",
       "230688    NaN\n",
       "230689    NaN\n",
       "230690    NaN\n",
       "Name: j_q03b, Length: 230691, dtype: object>"
      ]
     },
     "execution_count": 175,
     "metadata": {},
     "output_type": "execute_result"
    }
   ],
   "source": [
    "\n",
    "data['j_q03b'].describe # number of children"
   ]
  },
  {
   "cell_type": "code",
   "execution_count": 112,
   "id": "essential-vegetable",
   "metadata": {},
   "outputs": [
    {
     "data": {
      "text/plain": [
       "<bound method NDFrame.describe of 0          NaN\n",
       "1         19.0\n",
       "2          NaN\n",
       "3          NaN\n",
       "4          NaN\n",
       "          ... \n",
       "230686     NaN\n",
       "230687     NaN\n",
       "230688     NaN\n",
       "230689     NaN\n",
       "230690     NaN\n",
       "Name: yrsqual_t, Length: 230691, dtype: category\n",
       "Categories (21, object): ['10.0', '11.0', '12.0', '13.0', ..., '6.0', '7.0', '8.0', '9.0']>"
      ]
     },
     "execution_count": 112,
     "metadata": {},
     "output_type": "execute_result"
    }
   ],
   "source": [
    "\n",
    "data['yrsqual_t'].describe"
   ]
  },
  {
   "cell_type": "code",
   "execution_count": 114,
   "id": "nuclear-promise",
   "metadata": {},
   "outputs": [
    {
     "data": {
      "text/plain": [
       "<bound method NDFrame.describe of 0          NaN\n",
       "1         19.0\n",
       "2          NaN\n",
       "3          NaN\n",
       "4          NaN\n",
       "          ... \n",
       "230686     8.0\n",
       "230687    11.0\n",
       "230688    11.0\n",
       "230689    12.0\n",
       "230690     NaN\n",
       "Name: yrsget, Length: 230691, dtype: category\n",
       "Categories (22, object): ['0.0', '10.0', '11.0', '12.0', ..., '6.0', '7.0', '8.0', '9.0']>"
      ]
     },
     "execution_count": 114,
     "metadata": {},
     "output_type": "execute_result"
    }
   ],
   "source": [
    "data['yrsget'].describe"
   ]
  },
  {
   "cell_type": "code",
   "execution_count": 115,
   "id": "color-custody",
   "metadata": {},
   "outputs": [
    {
     "data": {
      "text/plain": [
       "<bound method NDFrame.describe of 0         Never\n",
       "1         Never\n",
       "2         Never\n",
       "3         Never\n",
       "4         Never\n",
       "          ...  \n",
       "230686    Never\n",
       "230687      NaN\n",
       "230688    Never\n",
       "230689    Never\n",
       "230690      NaN\n",
       "Name: h_q05g, Length: 230691, dtype: category\n",
       "Categories (5, object): ['At least once a week but not every day', 'Every day', 'Less than once a month', 'Less than once a week but at least once a month', 'Never']>"
      ]
     },
     "execution_count": 115,
     "metadata": {},
     "output_type": "execute_result"
    }
   ],
   "source": [
    "\n",
    "data['h_q05g'].describe"
   ]
  },
  {
   "cell_type": "code",
   "execution_count": 122,
   "id": "increased-nursing",
   "metadata": {},
   "outputs": [
    {
     "name": "stdout",
     "output_type": "stream",
     "text": [
      "<bound method NDFrame._add_numeric_operations.<locals>.mean of         age_r\n",
      "0         NaN\n",
      "1         NaN\n",
      "2         NaN\n",
      "3         NaN\n",
      "4         NaN\n",
      "...       ...\n",
      "230686    NaN\n",
      "230687    NaN\n",
      "230688    NaN\n",
      "230689    NaN\n",
      "230690    NaN\n",
      "\n",
      "[230691 rows x 1 columns]>\n",
      "<bound method NDFrame._add_numeric_operations.<locals>.mean of        gender_r\n",
      "0          Male\n",
      "1          Male\n",
      "2        Female\n",
      "3        Female\n",
      "4          Male\n",
      "...         ...\n",
      "230686     Male\n",
      "230687     Male\n",
      "230688   Female\n",
      "230689     Male\n",
      "230690     Male\n",
      "\n",
      "[230691 rows x 1 columns]>\n",
      "<bound method NDFrame._add_numeric_operations.<locals>.mean of         b_q12d\n",
      "0          NaN\n",
      "1          NaN\n",
      "2          NaN\n",
      "3          NaN\n",
      "4          NaN\n",
      "...        ...\n",
      "230686     NaN\n",
      "230687     NaN\n",
      "230688     NaN\n",
      "230689     NaN\n",
      "230690     NaN\n",
      "\n",
      "[230691 rows x 1 columns]>\n",
      "<bound method NDFrame._add_numeric_operations.<locals>.mean of        b_q12a\n",
      "0          No\n",
      "1         Yes\n",
      "2          No\n",
      "3          No\n",
      "4         Yes\n",
      "...       ...\n",
      "230686     No\n",
      "230687     No\n",
      "230688     No\n",
      "230689     No\n",
      "230690     No\n",
      "\n",
      "[230691 rows x 1 columns]>\n",
      "<bound method NDFrame._add_numeric_operations.<locals>.mean of        b_q12e\n",
      "0          No\n",
      "1         Yes\n",
      "2          No\n",
      "3          No\n",
      "4          No\n",
      "...       ...\n",
      "230686    Yes\n",
      "230687     No\n",
      "230688     No\n",
      "230689     No\n",
      "230690     No\n",
      "\n",
      "[230691 rows x 1 columns]>\n",
      "<bound method NDFrame._add_numeric_operations.<locals>.mean of        iscoskil4\n",
      "0              A\n",
      "1              1\n",
      "2              4\n",
      "3              2\n",
      "4              1\n",
      "...          ...\n",
      "230686         2\n",
      "230687         3\n",
      "230688         2\n",
      "230689         3\n",
      "230690         1\n",
      "\n",
      "[230691 rows x 1 columns]>\n",
      "<bound method NDFrame._add_numeric_operations.<locals>.mean of        yrsqual_t\n",
      "0            NaN\n",
      "1           19.0\n",
      "2            NaN\n",
      "3            NaN\n",
      "4            NaN\n",
      "...          ...\n",
      "230686       NaN\n",
      "230687       NaN\n",
      "230688       NaN\n",
      "230689       NaN\n",
      "230690       NaN\n",
      "\n",
      "[230691 rows x 1 columns]>\n",
      "<bound method NDFrame._add_numeric_operations.<locals>.mean of        yrsget\n",
      "0         NaN\n",
      "1        19.0\n",
      "2         NaN\n",
      "3         NaN\n",
      "4         NaN\n",
      "...       ...\n",
      "230686    8.0\n",
      "230687   11.0\n",
      "230688   11.0\n",
      "230689   12.0\n",
      "230690    NaN\n",
      "\n",
      "[230691 rows x 1 columns]>\n",
      "<bound method NDFrame._add_numeric_operations.<locals>.mean of        h_q05g\n",
      "0       Never\n",
      "1       Never\n",
      "2       Never\n",
      "3       Never\n",
      "4       Never\n",
      "...       ...\n",
      "230686  Never\n",
      "230687    NaN\n",
      "230688  Never\n",
      "230689  Never\n",
      "230690    NaN\n",
      "\n",
      "[230691 rows x 1 columns]>\n"
     ]
    }
   ],
   "source": [
    "#col_names = ['age_r', 'gender_r', 'b_q12d', 'b_q12a', 'b_q12e', 'iscoskil4', 'yrsqual_t', 'yrsget', 'h_q05g']\n",
    "\n",
    "for ii in ['age_r', 'gender_r', 'b_q12d', 'b_q12a', 'b_q12e', 'iscoskil4', 'yrsqual_t', 'yrsget', 'h_q05g']:\n",
    "    print(data[[ii]].mean)\n",
    "   \n",
    "    \n",
    "    \n",
    "    \n",
    "    #for ii, band in enumerate(bands):\n",
    "    #    sns.histplot(dataframe[band].values.reshape(-1,), ax=ax[ii], kde=True, bins=25) # Reshape into 1D array\n",
    "     #   ax[ii].set_title('{} band'.format(band_names[ii])) # Subplot titles\n",
    "\n",
    "#data[['age_r', 'gender_r', 'b_q12d', 'b_q12a', 'b_q12e', 'iscoskil4', 'yrsqual_t', 'yrsget', 'h_q05g']].describe()"
   ]
  },
  {
   "cell_type": "code",
   "execution_count": null,
   "id": "patient-treat",
   "metadata": {},
   "outputs": [],
   "source": []
  },
  {
   "cell_type": "code",
   "execution_count": null,
   "id": "seven-hollywood",
   "metadata": {},
   "outputs": [],
   "source": []
  },
  {
   "cell_type": "markdown",
   "id": "dominican-opening",
   "metadata": {},
   "source": [
    "## Histograms\n",
    "### Plots of demographics"
   ]
  },
  {
   "cell_type": "code",
   "execution_count": 27,
   "id": "recorded-poison",
   "metadata": {},
   "outputs": [
    {
     "data": {
      "image/png": "[encoded data removed]",
      "text/plain": [
       "<Figure size 360x360 with 1 Axes>"
      ]
     },
     "metadata": {
      "needs_background": "light"
     },
     "output_type": "display_data"
    }
   ],
   "source": [
    "sns_plot = sns.catplot(x=\"gender_r\", kind=\"count\", data=data)\n",
    "plt.title('Gender of Respondent')\n",
    "plt.grid(axis='both')\n",
    "plt.xlabel('Gender')\n",
    "sns_plot.savefig(\"plots/barplot_gender.png\")\n"
   ]
  },
  {
   "cell_type": "code",
   "execution_count": 117,
   "id": "hydraulic-dryer",
   "metadata": {},
   "outputs": [
    {
     "data": {
      "image/png": "[encoded data removed]",
      "text/plain": [
       "<Figure size 432x288 with 1 Axes>"
      ]
     },
     "metadata": {
      "needs_background": "light"
     },
     "output_type": "display_data"
    }
   ],
   "source": [
    "plt.hist(x='age_r', bins=10, range=None, density=False,  histtype='bar',rwidth=0.9, data=data)\n",
    "plt.title('Age of Respondent')\n",
    "plt.grid(axis='both')\n",
    "plt.xlabel('Age')\n",
    "plt.ylabel('Count')\n",
    "plt.savefig('plots\\hist_age.png', bbox_inches='tight')"
   ]
  },
  {
   "cell_type": "markdown",
   "id": "seasonal-chair",
   "metadata": {},
   "source": [
    "### Trainings - plots\n",
    "\n",
    "- b_q12b = number of open/distance educational trainings\n",
    "- b_q12d = number of on-the-job training\n",
    "- b_q12f = number of seminars\n",
    "- b_q12h = number of private educational trainings"
   ]
  },
  {
   "cell_type": "code",
   "execution_count": 134,
   "id": "distinguished-moscow",
   "metadata": {},
   "outputs": [
    {
     "data": {
      "image/png": "[encoded data removed]",
      "text/plain": [
       "<Figure size 432x288 with 1 Axes>"
      ]
     },
     "metadata": {
      "needs_background": "light"
     },
     "output_type": "display_data"
    }
   ],
   "source": [
    "plt.hist(x='b_q12d', bins=50, range=None, density=False,  histtype='bar',rwidth=0.7, data=data)\n",
    "plt.title('On the job training')\n",
    "plt.grid(axis='both')\n",
    "plt.xlabel('Number of on the job trainings in the last year')\n",
    "plt.ylabel('Count')\n",
    "plt.savefig('plots\\hist_count_onthejob.png', bbox_inches='tight')\n"
   ]
  },
  {
   "cell_type": "code",
   "execution_count": 121,
   "id": "banned-character",
   "metadata": {},
   "outputs": [
    {
     "data": {
      "image/png": "[encoded data removed]",
      "text/plain": [
       "<Figure size 432x288 with 1 Axes>"
      ]
     },
     "metadata": {
      "needs_background": "light"
     },
     "output_type": "display_data"
    }
   ],
   "source": [
    "plt.hist(x='b_q12d', bins=25, range=None, density=True,  histtype='bar',rwidth=0.7, data=data)\n",
    "plt.title('On the job training')\n",
    "plt.grid(axis='both')\n",
    "plt.xlabel('Number of on the job trainings in the last year')\n",
    "plt.ylabel('Density')\n",
    "plt.savefig('plots\\hist_density_onthejob.png', bbox_inches='tight')\n"
   ]
  },
  {
   "cell_type": "code",
   "execution_count": 122,
   "id": "arctic-shopping",
   "metadata": {},
   "outputs": [
    {
     "data": {
      "image/png": "[encoded data removed]",
      "text/plain": [
       "<Figure size 432x288 with 1 Axes>"
      ]
     },
     "metadata": {
      "needs_background": "light"
     },
     "output_type": "display_data"
    }
   ],
   "source": [
    "plt.hist(x='b_q12f', bins=25, range=None, density=False,  histtype='bar',rwidth=0.7, data=data)\n",
    "plt.title('Seminars / Workshops')\n",
    "plt.grid(axis='both')\n",
    "plt.xlabel('Number of seminars/workshops in the last year')\n",
    "plt.ylabel('Count')\n",
    "plt.savefig('plots\\hist_count_seminars.png', bbox_inches='tight')\n"
   ]
  },
  {
   "cell_type": "code",
   "execution_count": 123,
   "id": "frank-omega",
   "metadata": {},
   "outputs": [
    {
     "data": {
      "image/png": "[encoded data removed]",
      "text/plain": [
       "<Figure size 432x288 with 1 Axes>"
      ]
     },
     "metadata": {
      "needs_background": "light"
     },
     "output_type": "display_data"
    }
   ],
   "source": [
    "plt.hist(x='b_q12d', bins=25, range=None, density=True,  histtype='bar',rwidth=0.7, data=data)\n",
    "plt.title('On the job training')\n",
    "plt.grid(axis='both')\n",
    "plt.xlabel('Number of on the job trainings in the last year')\n",
    "plt.ylabel('Density')\n",
    "plt.savefig('plots\\hist_density_onthejob.png', bbox_inches='tight')\n"
   ]
  },
  {
   "cell_type": "code",
   "execution_count": 125,
   "id": "varied-douglas",
   "metadata": {},
   "outputs": [
    {
     "data": {
      "image/png": "[encoded data removed]",
      "text/plain": [
       "<Figure size 432x288 with 1 Axes>"
      ]
     },
     "metadata": {
      "needs_background": "light"
     },
     "output_type": "display_data"
    }
   ],
   "source": [
    "plt.hist(x='b_q12b', bins=25, range=None, density=True,  histtype='bar',rwidth=0.7, data=data)\n",
    "plt.title('Open/distance educational trainings')\n",
    "plt.grid(axis='both')\n",
    "plt.xlabel('Open/distance educational trainings in the last year')\n",
    "plt.ylabel('Density')\n",
    "plt.savefig('plots\\hist_density_open.png', bbox_inches='tight')\n"
   ]
  },
  {
   "cell_type": "code",
   "execution_count": 124,
   "id": "direct-heart",
   "metadata": {},
   "outputs": [
    {
     "data": {
      "image/png": "[encoded data removed]",
      "text/plain": [
       "<Figure size 432x288 with 1 Axes>"
      ]
     },
     "metadata": {
      "needs_background": "light"
     },
     "output_type": "display_data"
    }
   ],
   "source": [
    "plt.hist(x='b_q12b', bins=25, range=None, density=False,  histtype='bar',rwidth=0.7, data=data)\n",
    "plt.title('Open/distance educational trainings')\n",
    "plt.grid(axis='both')\n",
    "plt.xlabel('Open/distance educational trainings in the last year')\n",
    "plt.ylabel('Count')\n",
    "plt.savefig('plots\\hist_count_open.png', bbox_inches='tight')\n"
   ]
  },
  {
   "cell_type": "code",
   "execution_count": 126,
   "id": "black-generation",
   "metadata": {},
   "outputs": [
    {
     "data": {
      "image/png": "[encoded data removed]",
      "text/plain": [
       "<Figure size 432x288 with 1 Axes>"
      ]
     },
     "metadata": {
      "needs_background": "light"
     },
     "output_type": "display_data"
    }
   ],
   "source": [
    "plt.hist(x='b_q12h', bins=25, range=None, density=False,  histtype='bar',rwidth=0.7, data=data)\n",
    "plt.title('Private educational trainings')\n",
    "plt.grid(axis='both')\n",
    "plt.xlabel('Private educational trainings in the last year')\n",
    "plt.ylabel('Count')\n",
    "plt.savefig('plots\\hist_count_private.png', bbox_inches='tight')\n"
   ]
  },
  {
   "cell_type": "code",
   "execution_count": 127,
   "id": "ordinary-material",
   "metadata": {},
   "outputs": [
    {
     "data": {
      "image/png": "[encoded data removed]",
      "text/plain": [
       "<Figure size 432x288 with 1 Axes>"
      ]
     },
     "metadata": {
      "needs_background": "light"
     },
     "output_type": "display_data"
    }
   ],
   "source": [
    "plt.hist(x='b_q12h', bins=25, range=None, density=True,  histtype='bar',rwidth=0.7, data=data)\n",
    "plt.title('Private educational trainings')\n",
    "plt.grid(axis='both')\n",
    "plt.xlabel('Private educational trainings in the last year')\n",
    "plt.ylabel('Density')\n",
    "plt.savefig('plots\\hist_density_private.png', bbox_inches='tight')\n"
   ]
  },
  {
   "cell_type": "code",
   "execution_count": null,
   "id": "recent-sleep",
   "metadata": {},
   "outputs": [],
   "source": []
  },
  {
   "cell_type": "code",
   "execution_count": null,
   "id": "periodic-complexity",
   "metadata": {},
   "outputs": [],
   "source": []
  },
  {
   "cell_type": "markdown",
   "id": "systematic-chapter",
   "metadata": {},
   "source": [
    "### Plots - Skills"
   ]
  },
  {
   "cell_type": "code",
   "execution_count": 141,
   "id": "desperate-writer",
   "metadata": {},
   "outputs": [
    {
     "data": {
      "image/png": "[encoded data removed]",
      "text/plain": [
       "<Figure size 360x360 with 1 Axes>"
      ]
     },
     "metadata": {
      "needs_background": "light"
     },
     "output_type": "display_data"
    }
   ],
   "source": [
    "sns_plot = sns.catplot(x=\"iscoskil4\", kind=\"count\", data=data)\n",
    "plt.title('Job Classification')\n",
    "plt.grid(axis='both')\n",
    "plt.xlabel('Classification')\n",
    "plt.annotate('1=Skilled occupations, 2= Semi-skilled white-collar occupations \\n3= Semi-skilled blue-collar occupations \\n4= Elementary occupations \\nN=Not stated, U=Unkown', (0,0), (0, -40), xycoords='axes fraction', textcoords='offset points', va='top')\n",
    "\n",
    "sns_plot.savefig(\"plots/barplot_job_classification.png\")\n"
   ]
  },
  {
   "cell_type": "code",
   "execution_count": 185,
   "id": "irish-correspondence",
   "metadata": {},
   "outputs": [
    {
     "data": {
      "image/png": "[encoded data removed]",
      "text/plain": [
       "<Figure size 360x360 with 1 Axes>"
      ]
     },
     "metadata": {
      "needs_background": "light"
     },
     "output_type": "display_data"
    }
   ],
   "source": [
    "sns_plot = sns.catplot(x=\"iscoskil4\", y=\"age_r\",kind=\"box\", data=data)\n",
    "plt.title('Job Classification')\n",
    "plt.grid(axis='both')\n",
    "plt.xlabel('Classification')\n",
    "plt.ylabel('Age')\n",
    "plt.annotate('1= Skilled occupations \\n2= Semi-skilled white-collar occupations \\n3= Semi-skilled blue-collar occupations \\n4= Elementary occupations \\nA=has not worked for more than 5 years \\nN=Not stated, U=Unkown', (0,0), (0, -40), xycoords='axes fraction', textcoords='offset points', va='top')\n",
    "\n",
    "sns_plot.savefig(\"plots/box_age_job_classification.png\")\n"
   ]
  },
  {
   "cell_type": "code",
   "execution_count": 155,
   "id": "prepared-platform",
   "metadata": {},
   "outputs": [
    {
     "data": {
      "image/png": "[encoded data removed]",
      "text/plain": [
       "<Figure size 360x360 with 1 Axes>"
      ]
     },
     "metadata": {
      "needs_background": "light"
     },
     "output_type": "display_data"
    }
   ],
   "source": [
    "sns_plot = sns.catplot(x=\"iscoskil4\", y=\"b_q12d\",kind=\"violin\", hue=\"gender_r\", split=True,data=data, legend=False)\n",
    "plt.title('Job Classification and On the Job Trainings')\n",
    "plt.grid(axis='both')\n",
    "plt.xlabel('Classification')\n",
    "plt.ylabel('Number of on the job trainings')\n",
    "plt.annotate('1=Skilled occupations \\n2= Semi-skilled white-collar occupations \\n3= Semi-skilled blue-collar occupations \\n4= Elementary occupations \\nN=Not stated, U=Unkown', (0,0), (0, -40), xycoords='axes fraction', textcoords='offset points', va='top')\n",
    "plt.legend(title='Gender',loc='upper right')\n",
    "sns_plot.savefig(\"plots/violin_gender_OntheJob_classification.png\")\n"
   ]
  },
  {
   "cell_type": "code",
   "execution_count": 182,
   "id": "boring-wrist",
   "metadata": {},
   "outputs": [
    {
     "data": {
      "image/png": "[encoded data removed]",
      "text/plain": [
       "<Figure size 360x360 with 1 Axes>"
      ]
     },
     "metadata": {
      "needs_background": "light"
     },
     "output_type": "display_data"
    }
   ],
   "source": [
    "sns_plot = sns.catplot(x=\"iscoskil4\", y=\"b_q12f\",kind=\"violin\", hue=\"gender_r\", split=True,data=data, legend=False)\n",
    "plt.title('Job Classification and Seminars/Workshops')\n",
    "plt.grid(axis='both')\n",
    "plt.xlabel('Classification')\n",
    "plt.ylabel('Number of seminars/workshops')\n",
    "plt.annotate('1=Skilled occupations \\n2= Semi-skilled white-collar occupations \\n3= Semi-skilled blue-collar occupations \\n4= Elementary occupations \\nN=Not stated, U=Unkown', (0,0), (0, -40), xycoords='axes fraction', textcoords='offset points', va='top')\n",
    "plt.legend(title='Gender',loc='upper right')\n",
    "sns_plot.savefig(\"plots/violin_gender_seminars_classification.png\")\n"
   ]
  },
  {
   "cell_type": "code",
   "execution_count": null,
   "id": "featured-silver",
   "metadata": {},
   "outputs": [],
   "source": [
    "b_q12d"
   ]
  },
  {
   "cell_type": "code",
   "execution_count": 191,
   "id": "federal-being",
   "metadata": {},
   "outputs": [
    {
     "data": {
      "image/png": "[encoded data removed]",
      "text/plain": [
       "<Figure size 360x360 with 1 Axes>"
      ]
     },
     "metadata": {
      "needs_background": "light"
     },
     "output_type": "display_data"
    }
   ],
   "source": [
    "sns_plot = sns.catplot(x=\"iscoskil4\", y=\"b_q12b\",kind=\"violin\",hue=\"gender_r\", split=True, data=data,  legend=False)\n",
    "plt.title('Job Classification and Number of open/distance Educational Trainings')\n",
    "plt.grid(axis='both')\n",
    "plt.ylabel('Number of open/distance Educational Trainings')\n",
    "plt.xlabel('Classification')\n",
    "plt.annotate('1= Skilled occupations \\n2= Semi-skilled white-collar occupations \\n3= Semi-skilled blue-collar occupations \\n4= Elementary occupations \\nA=has not worked for more than 5 years \\nN=Not stated, U=Unkown', (0,0), (0, -40), xycoords='axes fraction', textcoords='offset points', va='top')\n",
    "plt.legend(title='Gender',loc='upper right')\n",
    "sns_plot.savefig(\"plots/violin_gender_open_classification.png\")\n"
   ]
  },
  {
   "cell_type": "markdown",
   "id": "american-verse",
   "metadata": {},
   "source": [
    "## Regressions to test for correlations between middle-skilled jobs and trainings\n",
    "\n",
    "- b_q12b = number of open/distance educational trainings\n",
    "- b_q12d = number of on-the-job training\n",
    "- b_q12f = number of seminars\n",
    "- b_q12h = number of private educational trainings"
   ]
  },
  {
   "cell_type": "code",
   "execution_count": 57,
   "id": "genuine-scholarship",
   "metadata": {},
   "outputs": [],
   "source": [
    "import statsmodels.formula.api as sm\n",
    "from stargazer.stargazer import Stargazer"
   ]
  },
  {
   "cell_type": "markdown",
   "id": "covered-oakland",
   "metadata": {},
   "source": [
    "### Prepare for Regression - Create dummies \n",
    "\n",
    "- for the occupational level\n",
    "- for the use of ICT skill\n",
    "\n",
    "\n",
    "\n"
   ]
  },
  {
   "cell_type": "code",
   "execution_count": 77,
   "id": "quality-postage",
   "metadata": {},
   "outputs": [
    {
     "data": {
      "text/plain": [
       "<bound method NDFrame.head of        Unnamed: 0 cntry cntry_e inpiaac    seqid cnt_brth ageg10lfs  age_r  \\\n",
       "0               0   USA     USA     1.0   9355.0      NaN       NaN    NaN   \n",
       "1               1   USA     USA     1.0  10882.0      NaN       NaN    NaN   \n",
       "2               2   USA     USA     1.0  12329.0      NaN       NaN    NaN   \n",
       "3               3   USA     USA     1.0  10711.0      NaN       NaN    NaN   \n",
       "4               4   USA     USA     1.0  10383.0      NaN       NaN    NaN   \n",
       "...           ...   ...     ...     ...      ...      ...       ...    ...   \n",
       "230686     230686   NaN     NaN     NaN   5126.0  Austria     45-54    NaN   \n",
       "230687     230687   NaN     NaN     NaN   5127.0   Serbia     25-34    NaN   \n",
       "230688     230688   NaN     NaN     NaN   5128.0  Austria     35-44    NaN   \n",
       "230689     230689   NaN     NaN     NaN   5129.0  Austria     25-34    NaN   \n",
       "230690     230690   NaN     NaN     NaN   5130.0  Austria   55 plus    NaN   \n",
       "\n",
       "       gender_r  j_q03b  ... h_q05g_At least once a week but not every day  \\\n",
       "0          Male     NaN  ...                                             0   \n",
       "1          Male     NaN  ...                                             0   \n",
       "2        Female     NaN  ...                                             0   \n",
       "3        Female     NaN  ...                                             0   \n",
       "4          Male     NaN  ...                                             0   \n",
       "...         ...     ...  ...                                           ...   \n",
       "230686     Male     NaN  ...                                             0   \n",
       "230687     Male     NaN  ...                                             0   \n",
       "230688   Female     NaN  ...                                             0   \n",
       "230689     Male     NaN  ...                                             0   \n",
       "230690     Male     NaN  ...                                             0   \n",
       "\n",
       "       h_q05g_Every day h_q05g_Less than once a month  \\\n",
       "0                     0                             0   \n",
       "1                     0                             0   \n",
       "2                     0                             0   \n",
       "3                     0                             0   \n",
       "4                     0                             0   \n",
       "...                 ...                           ...   \n",
       "230686                0                             0   \n",
       "230687                0                             0   \n",
       "230688                0                             0   \n",
       "230689                0                             0   \n",
       "230690                0                             0   \n",
       "\n",
       "       h_q05g_Less than once a week but at least once a month h_q05g_Never  \\\n",
       "0                                                       0                1   \n",
       "1                                                       0                1   \n",
       "2                                                       0                1   \n",
       "3                                                       0                1   \n",
       "4                                                       0                1   \n",
       "...                                                   ...              ...   \n",
       "230686                                                  0                1   \n",
       "230687                                                  0                0   \n",
       "230688                                                  0                1   \n",
       "230689                                                  0                1   \n",
       "230690                                                  0                0   \n",
       "\n",
       "       g_q05g_At least once a week but not every day g_q05g_Every day  \\\n",
       "0                                                  0                0   \n",
       "1                                                  0                0   \n",
       "2                                                  0                0   \n",
       "3                                                  0                0   \n",
       "4                                                  0                0   \n",
       "...                                              ...              ...   \n",
       "230686                                             0                0   \n",
       "230687                                             0                0   \n",
       "230688                                             0                0   \n",
       "230689                                             0                0   \n",
       "230690                                             0                0   \n",
       "\n",
       "       g_q05g_Less than once a month  \\\n",
       "0                                  0   \n",
       "1                                  0   \n",
       "2                                  0   \n",
       "3                                  0   \n",
       "4                                  0   \n",
       "...                              ...   \n",
       "230686                             0   \n",
       "230687                             0   \n",
       "230688                             0   \n",
       "230689                             0   \n",
       "230690                             0   \n",
       "\n",
       "       g_q05g_Less than once a week but at least once a month g_q05g_Never  \n",
       "0                                                       0                0  \n",
       "1                                                       0                1  \n",
       "2                                                       0                0  \n",
       "3                                                       0                1  \n",
       "4                                                       0                1  \n",
       "...                                                   ...              ...  \n",
       "230686                                                  0                1  \n",
       "230687                                                  0                0  \n",
       "230688                                                  0                1  \n",
       "230689                                                  0                1  \n",
       "230690                                                  0                0  \n",
       "\n",
       "[230691 rows x 146 columns]>"
      ]
     },
     "execution_count": 77,
     "metadata": {},
     "output_type": "execute_result"
    }
   ],
   "source": [
    "data2 = pd.get_dummies(data, columns = ['iscoskil4', 'h_q05g', 'g_q05g'])\n",
    "data2.head"
   ]
  },
  {
   "cell_type": "code",
   "execution_count": 78,
   "id": "impaired-colony",
   "metadata": {},
   "outputs": [
    {
     "data": {
      "text/html": [
       "<div>\n",
       "<style scoped>\n",
       "    .dataframe tbody tr th:only-of-type {\n",
       "        vertical-align: middle;\n",
       "    }\n",
       "\n",
       "    .dataframe tbody tr th {\n",
       "        vertical-align: top;\n",
       "    }\n",
       "\n",
       "    .dataframe thead th {\n",
       "        text-align: right;\n",
       "    }\n",
       "</style>\n",
       "<table border=\"1\" class=\"dataframe\">\n",
       "  <thead>\n",
       "    <tr style=\"text-align: right;\">\n",
       "      <th></th>\n",
       "      <th>Unnamed: 0</th>\n",
       "      <th>cntry</th>\n",
       "      <th>cntry_e</th>\n",
       "      <th>inpiaac</th>\n",
       "      <th>seqid</th>\n",
       "      <th>cnt_brth</th>\n",
       "      <th>ageg10lfs</th>\n",
       "      <th>age_r</th>\n",
       "      <th>gender_r</th>\n",
       "      <th>j_q03b</th>\n",
       "      <th>...</th>\n",
       "      <th>h_q05g_4</th>\n",
       "      <th>h_q05g_5</th>\n",
       "      <th>h_q05g_2</th>\n",
       "      <th>h_q05g_3</th>\n",
       "      <th>h_q05g_1</th>\n",
       "      <th>g_q05g_4</th>\n",
       "      <th>g_q05g_5</th>\n",
       "      <th>g_q05g_2</th>\n",
       "      <th>g_q05g_3</th>\n",
       "      <th>g_q05g_1</th>\n",
       "    </tr>\n",
       "  </thead>\n",
       "  <tbody>\n",
       "    <tr>\n",
       "      <th>0</th>\n",
       "      <td>0</td>\n",
       "      <td>USA</td>\n",
       "      <td>USA</td>\n",
       "      <td>1.0</td>\n",
       "      <td>9355.0</td>\n",
       "      <td>NaN</td>\n",
       "      <td>NaN</td>\n",
       "      <td>NaN</td>\n",
       "      <td>Male</td>\n",
       "      <td>NaN</td>\n",
       "      <td>...</td>\n",
       "      <td>0</td>\n",
       "      <td>0</td>\n",
       "      <td>0</td>\n",
       "      <td>0</td>\n",
       "      <td>1</td>\n",
       "      <td>0</td>\n",
       "      <td>0</td>\n",
       "      <td>0</td>\n",
       "      <td>0</td>\n",
       "      <td>0</td>\n",
       "    </tr>\n",
       "    <tr>\n",
       "      <th>1</th>\n",
       "      <td>1</td>\n",
       "      <td>USA</td>\n",
       "      <td>USA</td>\n",
       "      <td>1.0</td>\n",
       "      <td>10882.0</td>\n",
       "      <td>NaN</td>\n",
       "      <td>NaN</td>\n",
       "      <td>NaN</td>\n",
       "      <td>Male</td>\n",
       "      <td>NaN</td>\n",
       "      <td>...</td>\n",
       "      <td>0</td>\n",
       "      <td>0</td>\n",
       "      <td>0</td>\n",
       "      <td>0</td>\n",
       "      <td>1</td>\n",
       "      <td>0</td>\n",
       "      <td>0</td>\n",
       "      <td>0</td>\n",
       "      <td>0</td>\n",
       "      <td>1</td>\n",
       "    </tr>\n",
       "    <tr>\n",
       "      <th>2</th>\n",
       "      <td>2</td>\n",
       "      <td>USA</td>\n",
       "      <td>USA</td>\n",
       "      <td>1.0</td>\n",
       "      <td>12329.0</td>\n",
       "      <td>NaN</td>\n",
       "      <td>NaN</td>\n",
       "      <td>NaN</td>\n",
       "      <td>Female</td>\n",
       "      <td>NaN</td>\n",
       "      <td>...</td>\n",
       "      <td>0</td>\n",
       "      <td>0</td>\n",
       "      <td>0</td>\n",
       "      <td>0</td>\n",
       "      <td>1</td>\n",
       "      <td>0</td>\n",
       "      <td>0</td>\n",
       "      <td>0</td>\n",
       "      <td>0</td>\n",
       "      <td>0</td>\n",
       "    </tr>\n",
       "    <tr>\n",
       "      <th>3</th>\n",
       "      <td>3</td>\n",
       "      <td>USA</td>\n",
       "      <td>USA</td>\n",
       "      <td>1.0</td>\n",
       "      <td>10711.0</td>\n",
       "      <td>NaN</td>\n",
       "      <td>NaN</td>\n",
       "      <td>NaN</td>\n",
       "      <td>Female</td>\n",
       "      <td>NaN</td>\n",
       "      <td>...</td>\n",
       "      <td>0</td>\n",
       "      <td>0</td>\n",
       "      <td>0</td>\n",
       "      <td>0</td>\n",
       "      <td>1</td>\n",
       "      <td>0</td>\n",
       "      <td>0</td>\n",
       "      <td>0</td>\n",
       "      <td>0</td>\n",
       "      <td>1</td>\n",
       "    </tr>\n",
       "    <tr>\n",
       "      <th>4</th>\n",
       "      <td>4</td>\n",
       "      <td>USA</td>\n",
       "      <td>USA</td>\n",
       "      <td>1.0</td>\n",
       "      <td>10383.0</td>\n",
       "      <td>NaN</td>\n",
       "      <td>NaN</td>\n",
       "      <td>NaN</td>\n",
       "      <td>Male</td>\n",
       "      <td>NaN</td>\n",
       "      <td>...</td>\n",
       "      <td>0</td>\n",
       "      <td>0</td>\n",
       "      <td>0</td>\n",
       "      <td>0</td>\n",
       "      <td>1</td>\n",
       "      <td>0</td>\n",
       "      <td>0</td>\n",
       "      <td>0</td>\n",
       "      <td>0</td>\n",
       "      <td>1</td>\n",
       "    </tr>\n",
       "  </tbody>\n",
       "</table>\n",
       "<p>5 rows × 146 columns</p>\n",
       "</div>"
      ],
      "text/plain": [
       "  Unnamed: 0 cntry cntry_e inpiaac    seqid cnt_brth ageg10lfs  age_r  \\\n",
       "0          0   USA     USA     1.0   9355.0      NaN       NaN    NaN   \n",
       "1          1   USA     USA     1.0  10882.0      NaN       NaN    NaN   \n",
       "2          2   USA     USA     1.0  12329.0      NaN       NaN    NaN   \n",
       "3          3   USA     USA     1.0  10711.0      NaN       NaN    NaN   \n",
       "4          4   USA     USA     1.0  10383.0      NaN       NaN    NaN   \n",
       "\n",
       "  gender_r  j_q03b  ... h_q05g_4 h_q05g_5 h_q05g_2 h_q05g_3 h_q05g_1 g_q05g_4  \\\n",
       "0     Male     NaN  ...        0        0        0        0        1        0   \n",
       "1     Male     NaN  ...        0        0        0        0        1        0   \n",
       "2   Female     NaN  ...        0        0        0        0        1        0   \n",
       "3   Female     NaN  ...        0        0        0        0        1        0   \n",
       "4     Male     NaN  ...        0        0        0        0        1        0   \n",
       "\n",
       "  g_q05g_5 g_q05g_2 g_q05g_3 g_q05g_1  \n",
       "0        0        0        0        0  \n",
       "1        0        0        0        1  \n",
       "2        0        0        0        0  \n",
       "3        0        0        0        1  \n",
       "4        0        0        0        1  \n",
       "\n",
       "[5 rows x 146 columns]"
      ]
     },
     "execution_count": 78,
     "metadata": {},
     "output_type": "execute_result"
    }
   ],
   "source": [
    "data2.rename(columns={'h_q05g_Every day': 'h_q05g_5', 'h_q05g_At least once a week but not every day': 'h_q05g_4','h_q05g_Less than once a week but at least once a month': 'h_q05g_3', 'h_q05g_Less than once a month': 'h_q05g_2', 'h_q05g_Never': 'h_q05g_1'}, inplace=True)\n",
    "data2.rename(columns={'g_q05g_Every day': 'g_q05g_5', 'g_q05g_At least once a week but not every day': 'g_q05g_4','g_q05g_Less than once a week but at least once a month': 'g_q05g_3', 'g_q05g_Less than once a month': 'g_q05g_2', 'g_q05g_Never': 'g_q05g_1'}, inplace=True)\n",
    "\n",
    "data2.head()\n"
   ]
  },
  {
   "cell_type": "markdown",
   "id": "electoral-spare",
   "metadata": {},
   "source": [
    "#### Number of on-the-job training"
   ]
  },
  {
   "cell_type": "code",
   "execution_count": 79,
   "id": "coated-stupid",
   "metadata": {},
   "outputs": [
    {
     "data": {
      "text/html": [
       "<table class=\"simpletable\">\n",
       "<caption>OLS Regression Results</caption>\n",
       "<tr>\n",
       "  <th>Dep. Variable:</th>         <td>b_q12d</td>      <th>  R-squared:         </th>  <td>   0.015</td>  \n",
       "</tr>\n",
       "<tr>\n",
       "  <th>Model:</th>                   <td>OLS</td>       <th>  Adj. R-squared:    </th>  <td>   0.015</td>  \n",
       "</tr>\n",
       "<tr>\n",
       "  <th>Method:</th>             <td>Least Squares</td>  <th>  F-statistic:       </th>  <td>   39.96</td>  \n",
       "</tr>\n",
       "<tr>\n",
       "  <th>Date:</th>             <td>Fri, 19 Feb 2021</td> <th>  Prob (F-statistic):</th>  <td>2.49e-132</td> \n",
       "</tr>\n",
       "<tr>\n",
       "  <th>Time:</th>                 <td>18:41:32</td>     <th>  Log-Likelihood:    </th> <td>-1.2962e+05</td>\n",
       "</tr>\n",
       "<tr>\n",
       "  <th>No. Observations:</th>      <td> 44665</td>      <th>  AIC:               </th>  <td>2.593e+05</td> \n",
       "</tr>\n",
       "<tr>\n",
       "  <th>Df Residuals:</th>          <td> 44647</td>      <th>  BIC:               </th>  <td>2.594e+05</td> \n",
       "</tr>\n",
       "<tr>\n",
       "  <th>Df Model:</th>              <td>    17</td>      <th>                     </th>      <td> </td>     \n",
       "</tr>\n",
       "<tr>\n",
       "  <th>Covariance Type:</th>      <td>nonrobust</td>    <th>                     </th>      <td> </td>     \n",
       "</tr>\n",
       "</table>\n",
       "<table class=\"simpletable\">\n",
       "<tr>\n",
       "          <td></td>            <th>coef</th>     <th>std err</th>      <th>t</th>      <th>P>|t|</th>  <th>[0.025</th>    <th>0.975]</th>  \n",
       "</tr>\n",
       "<tr>\n",
       "  <th>Intercept</th>        <td>    1.2688</td> <td>    0.215</td> <td>    5.896</td> <td> 0.000</td> <td>    0.847</td> <td>    1.691</td>\n",
       "</tr>\n",
       "<tr>\n",
       "  <th>gender_r[T.Male]</th> <td>   -0.0362</td> <td>    0.045</td> <td>   -0.803</td> <td> 0.422</td> <td>   -0.125</td> <td>    0.052</td>\n",
       "</tr>\n",
       "<tr>\n",
       "  <th>j_q03a[T.Yes]</th>    <td>    0.0392</td> <td>    0.044</td> <td>    0.884</td> <td> 0.377</td> <td>   -0.048</td> <td>    0.126</td>\n",
       "</tr>\n",
       "<tr>\n",
       "  <th>yrsqual_t</th>        <td>    0.1032</td> <td>    0.008</td> <td>   13.098</td> <td> 0.000</td> <td>    0.088</td> <td>    0.119</td>\n",
       "</tr>\n",
       "<tr>\n",
       "  <th>iscoskil4_1</th>      <td>    0.8468</td> <td>    0.190</td> <td>    4.464</td> <td> 0.000</td> <td>    0.475</td> <td>    1.219</td>\n",
       "</tr>\n",
       "<tr>\n",
       "  <th>iscoskil4_2</th>      <td>    0.3268</td> <td>    0.191</td> <td>    1.712</td> <td> 0.087</td> <td>   -0.047</td> <td>    0.701</td>\n",
       "</tr>\n",
       "<tr>\n",
       "  <th>iscoskil4_3</th>      <td>    0.1007</td> <td>    0.196</td> <td>    0.515</td> <td> 0.607</td> <td>   -0.283</td> <td>    0.484</td>\n",
       "</tr>\n",
       "<tr>\n",
       "  <th>iscoskil4_4</th>      <td>    0.0279</td> <td>    0.211</td> <td>    0.132</td> <td> 0.895</td> <td>   -0.385</td> <td>    0.441</td>\n",
       "</tr>\n",
       "<tr>\n",
       "  <th>iscoskil4_U</th>      <td>    0.6697</td> <td>    0.283</td> <td>    2.369</td> <td> 0.018</td> <td>    0.116</td> <td>    1.224</td>\n",
       "</tr>\n",
       "<tr>\n",
       "  <th>iscoskil4_N</th>      <td>    0.9907</td> <td>    0.333</td> <td>    2.971</td> <td> 0.003</td> <td>    0.337</td> <td>    1.644</td>\n",
       "</tr>\n",
       "<tr>\n",
       "  <th>h_q05g_5</th>         <td>   -0.1108</td> <td>    0.235</td> <td>   -0.472</td> <td> 0.637</td> <td>   -0.571</td> <td>    0.349</td>\n",
       "</tr>\n",
       "<tr>\n",
       "  <th>h_q05g_4</th>         <td>    0.0981</td> <td>    0.175</td> <td>    0.562</td> <td> 0.574</td> <td>   -0.244</td> <td>    0.440</td>\n",
       "</tr>\n",
       "<tr>\n",
       "  <th>h_q05g_3</th>         <td>   -0.0075</td> <td>    0.156</td> <td>   -0.048</td> <td> 0.962</td> <td>   -0.313</td> <td>    0.298</td>\n",
       "</tr>\n",
       "<tr>\n",
       "  <th>h_q05g_2</th>         <td>   -0.1772</td> <td>    0.102</td> <td>   -1.741</td> <td> 0.082</td> <td>   -0.377</td> <td>    0.022</td>\n",
       "</tr>\n",
       "<tr>\n",
       "  <th>g_q05g_5</th>         <td>   -0.1213</td> <td>    0.120</td> <td>   -1.013</td> <td> 0.311</td> <td>   -0.356</td> <td>    0.114</td>\n",
       "</tr>\n",
       "<tr>\n",
       "  <th>g_q05g_4</th>         <td>   -0.2082</td> <td>    0.145</td> <td>   -1.434</td> <td> 0.151</td> <td>   -0.493</td> <td>    0.076</td>\n",
       "</tr>\n",
       "<tr>\n",
       "  <th>g_q05g_3</th>         <td>   -0.1569</td> <td>    0.151</td> <td>   -1.039</td> <td> 0.299</td> <td>   -0.453</td> <td>    0.139</td>\n",
       "</tr>\n",
       "<tr>\n",
       "  <th>g_q05g_2</th>         <td>    0.1275</td> <td>    0.108</td> <td>    1.185</td> <td> 0.236</td> <td>   -0.083</td> <td>    0.338</td>\n",
       "</tr>\n",
       "</table>\n",
       "<table class=\"simpletable\">\n",
       "<tr>\n",
       "  <th>Omnibus:</th>       <td>49855.109</td> <th>  Durbin-Watson:     </th>  <td>   1.946</td>  \n",
       "</tr>\n",
       "<tr>\n",
       "  <th>Prob(Omnibus):</th>  <td> 0.000</td>   <th>  Jarque-Bera (JB):  </th> <td>4441031.468</td>\n",
       "</tr>\n",
       "<tr>\n",
       "  <th>Skew:</th>           <td> 5.842</td>   <th>  Prob(JB):          </th>  <td>    0.00</td>  \n",
       "</tr>\n",
       "<tr>\n",
       "  <th>Kurtosis:</th>       <td>50.432</td>   <th>  Cond. No.          </th>  <td>    355.</td>  \n",
       "</tr>\n",
       "</table><br/><br/>Notes:<br/>[1] Standard Errors assume that the covariance matrix of the errors is correctly specified."
      ],
      "text/plain": [
       "<class 'statsmodels.iolib.summary.Summary'>\n",
       "\"\"\"\n",
       "                            OLS Regression Results                            \n",
       "==============================================================================\n",
       "Dep. Variable:                 b_q12d   R-squared:                       0.015\n",
       "Model:                            OLS   Adj. R-squared:                  0.015\n",
       "Method:                 Least Squares   F-statistic:                     39.96\n",
       "Date:                Fri, 19 Feb 2021   Prob (F-statistic):          2.49e-132\n",
       "Time:                        18:41:32   Log-Likelihood:            -1.2962e+05\n",
       "No. Observations:               44665   AIC:                         2.593e+05\n",
       "Df Residuals:                   44647   BIC:                         2.594e+05\n",
       "Df Model:                          17                                         \n",
       "Covariance Type:            nonrobust                                         \n",
       "====================================================================================\n",
       "                       coef    std err          t      P>|t|      [0.025      0.975]\n",
       "------------------------------------------------------------------------------------\n",
       "Intercept            1.2688      0.215      5.896      0.000       0.847       1.691\n",
       "gender_r[T.Male]    -0.0362      0.045     -0.803      0.422      -0.125       0.052\n",
       "j_q03a[T.Yes]        0.0392      0.044      0.884      0.377      -0.048       0.126\n",
       "yrsqual_t            0.1032      0.008     13.098      0.000       0.088       0.119\n",
       "iscoskil4_1          0.8468      0.190      4.464      0.000       0.475       1.219\n",
       "iscoskil4_2          0.3268      0.191      1.712      0.087      -0.047       0.701\n",
       "iscoskil4_3          0.1007      0.196      0.515      0.607      -0.283       0.484\n",
       "iscoskil4_4          0.0279      0.211      0.132      0.895      -0.385       0.441\n",
       "iscoskil4_U          0.6697      0.283      2.369      0.018       0.116       1.224\n",
       "iscoskil4_N          0.9907      0.333      2.971      0.003       0.337       1.644\n",
       "h_q05g_5            -0.1108      0.235     -0.472      0.637      -0.571       0.349\n",
       "h_q05g_4             0.0981      0.175      0.562      0.574      -0.244       0.440\n",
       "h_q05g_3            -0.0075      0.156     -0.048      0.962      -0.313       0.298\n",
       "h_q05g_2            -0.1772      0.102     -1.741      0.082      -0.377       0.022\n",
       "g_q05g_5            -0.1213      0.120     -1.013      0.311      -0.356       0.114\n",
       "g_q05g_4            -0.2082      0.145     -1.434      0.151      -0.493       0.076\n",
       "g_q05g_3            -0.1569      0.151     -1.039      0.299      -0.453       0.139\n",
       "g_q05g_2             0.1275      0.108      1.185      0.236      -0.083       0.338\n",
       "==============================================================================\n",
       "Omnibus:                    49855.109   Durbin-Watson:                   1.946\n",
       "Prob(Omnibus):                  0.000   Jarque-Bera (JB):          4441031.468\n",
       "Skew:                           5.842   Prob(JB):                         0.00\n",
       "Kurtosis:                      50.432   Cond. No.                         355.\n",
       "==============================================================================\n",
       "\n",
       "Notes:\n",
       "[1] Standard Errors assume that the covariance matrix of the errors is correctly specified.\n",
       "\"\"\""
      ]
     },
     "execution_count": 79,
     "metadata": {},
     "output_type": "execute_result"
    }
   ],
   "source": [
    "result_ojt = sm.ols(formula=\"b_q12d ~  gender_r + yrsqual_t + j_q03a + iscoskil4_1 + iscoskil4_2 + iscoskil4_3 + iscoskil4_4 + iscoskil4_U + iscoskil4_N + h_q05g_5 + h_q05g_4 + h_q05g_3 + h_q05g_2 +g_q05g_5 + g_q05g_4 + g_q05g_3 + g_q05g_2\", data=data2).fit()\n",
    "result_ojt.summary()\n",
    "\n",
    "#print(result.params)\n",
    "\n",
    "\n"
   ]
  },
  {
   "cell_type": "markdown",
   "id": "concerned-assist",
   "metadata": {},
   "source": [
    "#### number of open/distance educational trainings"
   ]
  },
  {
   "cell_type": "code",
   "execution_count": 80,
   "id": "copyrighted-devon",
   "metadata": {},
   "outputs": [
    {
     "data": {
      "text/html": [
       "<table class=\"simpletable\">\n",
       "<caption>OLS Regression Results</caption>\n",
       "<tr>\n",
       "  <th>Dep. Variable:</th>         <td>b_q12b</td>      <th>  R-squared:         </th> <td>   0.011</td> \n",
       "</tr>\n",
       "<tr>\n",
       "  <th>Model:</th>                   <td>OLS</td>       <th>  Adj. R-squared:    </th> <td>   0.010</td> \n",
       "</tr>\n",
       "<tr>\n",
       "  <th>Method:</th>             <td>Least Squares</td>  <th>  F-statistic:       </th> <td>   10.67</td> \n",
       "</tr>\n",
       "<tr>\n",
       "  <th>Date:</th>             <td>Fri, 19 Feb 2021</td> <th>  Prob (F-statistic):</th> <td>2.32e-29</td> \n",
       "</tr>\n",
       "<tr>\n",
       "  <th>Time:</th>                 <td>18:42:09</td>     <th>  Log-Likelihood:    </th> <td> -42897.</td> \n",
       "</tr>\n",
       "<tr>\n",
       "  <th>No. Observations:</th>      <td> 15648</td>      <th>  AIC:               </th> <td>8.583e+04</td>\n",
       "</tr>\n",
       "<tr>\n",
       "  <th>Df Residuals:</th>          <td> 15630</td>      <th>  BIC:               </th> <td>8.597e+04</td>\n",
       "</tr>\n",
       "<tr>\n",
       "  <th>Df Model:</th>              <td>    17</td>      <th>                     </th>     <td> </td>    \n",
       "</tr>\n",
       "<tr>\n",
       "  <th>Covariance Type:</th>      <td>nonrobust</td>    <th>                     </th>     <td> </td>    \n",
       "</tr>\n",
       "</table>\n",
       "<table class=\"simpletable\">\n",
       "<tr>\n",
       "          <td></td>            <th>coef</th>     <th>std err</th>      <th>t</th>      <th>P>|t|</th>  <th>[0.025</th>    <th>0.975]</th>  \n",
       "</tr>\n",
       "<tr>\n",
       "  <th>Intercept</th>        <td>    1.2778</td> <td>    0.184</td> <td>    6.946</td> <td> 0.000</td> <td>    0.917</td> <td>    1.638</td>\n",
       "</tr>\n",
       "<tr>\n",
       "  <th>gender_r[T.Male]</th> <td>    0.1520</td> <td>    0.064</td> <td>    2.366</td> <td> 0.018</td> <td>    0.026</td> <td>    0.278</td>\n",
       "</tr>\n",
       "<tr>\n",
       "  <th>j_q03a[T.Yes]</th>    <td>    0.0734</td> <td>    0.062</td> <td>    1.177</td> <td> 0.239</td> <td>   -0.049</td> <td>    0.196</td>\n",
       "</tr>\n",
       "<tr>\n",
       "  <th>yrsqual_t</th>        <td>    0.0488</td> <td>    0.011</td> <td>    4.379</td> <td> 0.000</td> <td>    0.027</td> <td>    0.071</td>\n",
       "</tr>\n",
       "<tr>\n",
       "  <th>iscoskil4_1</th>      <td>    0.6564</td> <td>    0.125</td> <td>    5.246</td> <td> 0.000</td> <td>    0.411</td> <td>    0.902</td>\n",
       "</tr>\n",
       "<tr>\n",
       "  <th>iscoskil4_2</th>      <td>    0.1636</td> <td>    0.128</td> <td>    1.279</td> <td> 0.201</td> <td>   -0.087</td> <td>    0.414</td>\n",
       "</tr>\n",
       "<tr>\n",
       "  <th>iscoskil4_3</th>      <td>    0.1738</td> <td>    0.150</td> <td>    1.155</td> <td> 0.248</td> <td>   -0.121</td> <td>    0.469</td>\n",
       "</tr>\n",
       "<tr>\n",
       "  <th>iscoskil4_4</th>      <td>   -0.2286</td> <td>    0.183</td> <td>   -1.252</td> <td> 0.211</td> <td>   -0.587</td> <td>    0.129</td>\n",
       "</tr>\n",
       "<tr>\n",
       "  <th>iscoskil4_U</th>      <td>    0.1099</td> <td>    0.324</td> <td>    0.339</td> <td> 0.734</td> <td>   -0.525</td> <td>    0.745</td>\n",
       "</tr>\n",
       "<tr>\n",
       "  <th>iscoskil4_N</th>      <td>    1.0160</td> <td>    0.432</td> <td>    2.353</td> <td> 0.019</td> <td>    0.170</td> <td>    1.862</td>\n",
       "</tr>\n",
       "<tr>\n",
       "  <th>h_q05g_5</th>         <td>    0.3607</td> <td>    0.242</td> <td>    1.491</td> <td> 0.136</td> <td>   -0.114</td> <td>    0.835</td>\n",
       "</tr>\n",
       "<tr>\n",
       "  <th>h_q05g_4</th>         <td>    0.0749</td> <td>    0.185</td> <td>    0.404</td> <td> 0.686</td> <td>   -0.288</td> <td>    0.438</td>\n",
       "</tr>\n",
       "<tr>\n",
       "  <th>h_q05g_3</th>         <td>   -0.0553</td> <td>    0.170</td> <td>   -0.325</td> <td> 0.745</td> <td>   -0.388</td> <td>    0.278</td>\n",
       "</tr>\n",
       "<tr>\n",
       "  <th>h_q05g_2</th>         <td>    0.1106</td> <td>    0.129</td> <td>    0.859</td> <td> 0.391</td> <td>   -0.142</td> <td>    0.363</td>\n",
       "</tr>\n",
       "<tr>\n",
       "  <th>g_q05g_5</th>         <td>    0.1610</td> <td>    0.157</td> <td>    1.024</td> <td> 0.306</td> <td>   -0.147</td> <td>    0.469</td>\n",
       "</tr>\n",
       "<tr>\n",
       "  <th>g_q05g_4</th>         <td>    0.1629</td> <td>    0.188</td> <td>    0.867</td> <td> 0.386</td> <td>   -0.205</td> <td>    0.531</td>\n",
       "</tr>\n",
       "<tr>\n",
       "  <th>g_q05g_3</th>         <td>    0.0614</td> <td>    0.194</td> <td>    0.317</td> <td> 0.751</td> <td>   -0.318</td> <td>    0.441</td>\n",
       "</tr>\n",
       "<tr>\n",
       "  <th>g_q05g_2</th>         <td>    0.0221</td> <td>    0.147</td> <td>    0.150</td> <td> 0.881</td> <td>   -0.267</td> <td>    0.311</td>\n",
       "</tr>\n",
       "</table>\n",
       "<table class=\"simpletable\">\n",
       "<tr>\n",
       "  <th>Omnibus:</th>       <td>20315.328</td> <th>  Durbin-Watson:     </th>  <td>   1.930</td>  \n",
       "</tr>\n",
       "<tr>\n",
       "  <th>Prob(Omnibus):</th>  <td> 0.000</td>   <th>  Jarque-Bera (JB):  </th> <td>3711757.951</td>\n",
       "</tr>\n",
       "<tr>\n",
       "  <th>Skew:</th>           <td> 7.348</td>   <th>  Prob(JB):          </th>  <td>    0.00</td>  \n",
       "</tr>\n",
       "<tr>\n",
       "  <th>Kurtosis:</th>       <td>77.006</td>   <th>  Cond. No.          </th>  <td>    216.</td>  \n",
       "</tr>\n",
       "</table><br/><br/>Notes:<br/>[1] Standard Errors assume that the covariance matrix of the errors is correctly specified."
      ],
      "text/plain": [
       "<class 'statsmodels.iolib.summary.Summary'>\n",
       "\"\"\"\n",
       "                            OLS Regression Results                            \n",
       "==============================================================================\n",
       "Dep. Variable:                 b_q12b   R-squared:                       0.011\n",
       "Model:                            OLS   Adj. R-squared:                  0.010\n",
       "Method:                 Least Squares   F-statistic:                     10.67\n",
       "Date:                Fri, 19 Feb 2021   Prob (F-statistic):           2.32e-29\n",
       "Time:                        18:42:09   Log-Likelihood:                -42897.\n",
       "No. Observations:               15648   AIC:                         8.583e+04\n",
       "Df Residuals:                   15630   BIC:                         8.597e+04\n",
       "Df Model:                          17                                         \n",
       "Covariance Type:            nonrobust                                         \n",
       "====================================================================================\n",
       "                       coef    std err          t      P>|t|      [0.025      0.975]\n",
       "------------------------------------------------------------------------------------\n",
       "Intercept            1.2778      0.184      6.946      0.000       0.917       1.638\n",
       "gender_r[T.Male]     0.1520      0.064      2.366      0.018       0.026       0.278\n",
       "j_q03a[T.Yes]        0.0734      0.062      1.177      0.239      -0.049       0.196\n",
       "yrsqual_t            0.0488      0.011      4.379      0.000       0.027       0.071\n",
       "iscoskil4_1          0.6564      0.125      5.246      0.000       0.411       0.902\n",
       "iscoskil4_2          0.1636      0.128      1.279      0.201      -0.087       0.414\n",
       "iscoskil4_3          0.1738      0.150      1.155      0.248      -0.121       0.469\n",
       "iscoskil4_4         -0.2286      0.183     -1.252      0.211      -0.587       0.129\n",
       "iscoskil4_U          0.1099      0.324      0.339      0.734      -0.525       0.745\n",
       "iscoskil4_N          1.0160      0.432      2.353      0.019       0.170       1.862\n",
       "h_q05g_5             0.3607      0.242      1.491      0.136      -0.114       0.835\n",
       "h_q05g_4             0.0749      0.185      0.404      0.686      -0.288       0.438\n",
       "h_q05g_3            -0.0553      0.170     -0.325      0.745      -0.388       0.278\n",
       "h_q05g_2             0.1106      0.129      0.859      0.391      -0.142       0.363\n",
       "g_q05g_5             0.1610      0.157      1.024      0.306      -0.147       0.469\n",
       "g_q05g_4             0.1629      0.188      0.867      0.386      -0.205       0.531\n",
       "g_q05g_3             0.0614      0.194      0.317      0.751      -0.318       0.441\n",
       "g_q05g_2             0.0221      0.147      0.150      0.881      -0.267       0.311\n",
       "==============================================================================\n",
       "Omnibus:                    20315.328   Durbin-Watson:                   1.930\n",
       "Prob(Omnibus):                  0.000   Jarque-Bera (JB):          3711757.951\n",
       "Skew:                           7.348   Prob(JB):                         0.00\n",
       "Kurtosis:                      77.006   Cond. No.                         216.\n",
       "==============================================================================\n",
       "\n",
       "Notes:\n",
       "[1] Standard Errors assume that the covariance matrix of the errors is correctly specified.\n",
       "\"\"\""
      ]
     },
     "execution_count": 80,
     "metadata": {},
     "output_type": "execute_result"
    }
   ],
   "source": [
    "result_od = sm.ols(formula=\"b_q12b ~ gender_r + yrsqual_t + j_q03a + iscoskil4_1 + iscoskil4_2 + iscoskil4_3 + iscoskil4_4 + iscoskil4_U + iscoskil4_N + h_q05g_5 + h_q05g_4 + h_q05g_3 + h_q05g_2 +g_q05g_5 + g_q05g_4 + g_q05g_3 + g_q05g_2\", data=data2).fit()\n",
    "result_od.summary()\n",
    "\n",
    "#print(result.params)\n",
    "\n",
    "\n"
   ]
  },
  {
   "cell_type": "markdown",
   "id": "amazing-fellowship",
   "metadata": {},
   "source": [
    "#### number of seminars\n"
   ]
  },
  {
   "cell_type": "code",
   "execution_count": 81,
   "id": "continuing-nature",
   "metadata": {},
   "outputs": [
    {
     "data": {
      "text/html": [
       "<table class=\"simpletable\">\n",
       "<caption>OLS Regression Results</caption>\n",
       "<tr>\n",
       "  <th>Dep. Variable:</th>         <td>b_q12f</td>      <th>  R-squared:         </th>  <td>   0.007</td>  \n",
       "</tr>\n",
       "<tr>\n",
       "  <th>Model:</th>                   <td>OLS</td>       <th>  Adj. R-squared:    </th>  <td>   0.007</td>  \n",
       "</tr>\n",
       "<tr>\n",
       "  <th>Method:</th>             <td>Least Squares</td>  <th>  F-statistic:       </th>  <td>   17.97</td>  \n",
       "</tr>\n",
       "<tr>\n",
       "  <th>Date:</th>             <td>Fri, 19 Feb 2021</td> <th>  Prob (F-statistic):</th>  <td>1.41e-54</td>  \n",
       "</tr>\n",
       "<tr>\n",
       "  <th>Time:</th>                 <td>18:42:19</td>     <th>  Log-Likelihood:    </th> <td>-1.1287e+05</td>\n",
       "</tr>\n",
       "<tr>\n",
       "  <th>No. Observations:</th>      <td> 40891</td>      <th>  AIC:               </th>  <td>2.258e+05</td> \n",
       "</tr>\n",
       "<tr>\n",
       "  <th>Df Residuals:</th>          <td> 40873</td>      <th>  BIC:               </th>  <td>2.259e+05</td> \n",
       "</tr>\n",
       "<tr>\n",
       "  <th>Df Model:</th>              <td>    17</td>      <th>                     </th>      <td> </td>     \n",
       "</tr>\n",
       "<tr>\n",
       "  <th>Covariance Type:</th>      <td>nonrobust</td>    <th>                     </th>      <td> </td>     \n",
       "</tr>\n",
       "</table>\n",
       "<table class=\"simpletable\">\n",
       "<tr>\n",
       "          <td></td>            <th>coef</th>     <th>std err</th>      <th>t</th>      <th>P>|t|</th>  <th>[0.025</th>    <th>0.975]</th>  \n",
       "</tr>\n",
       "<tr>\n",
       "  <th>Intercept</th>        <td>    1.8989</td> <td>    0.129</td> <td>   14.694</td> <td> 0.000</td> <td>    1.646</td> <td>    2.152</td>\n",
       "</tr>\n",
       "<tr>\n",
       "  <th>gender_r[T.Male]</th> <td>    0.0343</td> <td>    0.040</td> <td>    0.858</td> <td> 0.391</td> <td>   -0.044</td> <td>    0.113</td>\n",
       "</tr>\n",
       "<tr>\n",
       "  <th>j_q03a[T.Yes]</th>    <td>   -0.0456</td> <td>    0.041</td> <td>   -1.125</td> <td> 0.261</td> <td>   -0.125</td> <td>    0.034</td>\n",
       "</tr>\n",
       "<tr>\n",
       "  <th>yrsqual_t</th>        <td>    0.0728</td> <td>    0.007</td> <td>    9.976</td> <td> 0.000</td> <td>    0.058</td> <td>    0.087</td>\n",
       "</tr>\n",
       "<tr>\n",
       "  <th>iscoskil4_1</th>      <td>    0.2277</td> <td>    0.092</td> <td>    2.470</td> <td> 0.014</td> <td>    0.047</td> <td>    0.408</td>\n",
       "</tr>\n",
       "<tr>\n",
       "  <th>iscoskil4_2</th>      <td>   -0.1339</td> <td>    0.096</td> <td>   -1.390</td> <td> 0.164</td> <td>   -0.323</td> <td>    0.055</td>\n",
       "</tr>\n",
       "<tr>\n",
       "  <th>iscoskil4_3</th>      <td>   -0.3149</td> <td>    0.112</td> <td>   -2.808</td> <td> 0.005</td> <td>   -0.535</td> <td>   -0.095</td>\n",
       "</tr>\n",
       "<tr>\n",
       "  <th>iscoskil4_4</th>      <td>   -0.1642</td> <td>    0.143</td> <td>   -1.150</td> <td> 0.250</td> <td>   -0.444</td> <td>    0.116</td>\n",
       "</tr>\n",
       "<tr>\n",
       "  <th>iscoskil4_U</th>      <td>    0.1709</td> <td>    0.187</td> <td>    0.915</td> <td> 0.360</td> <td>   -0.195</td> <td>    0.537</td>\n",
       "</tr>\n",
       "<tr>\n",
       "  <th>iscoskil4_N</th>      <td>    0.2356</td> <td>    0.289</td> <td>    0.816</td> <td> 0.415</td> <td>   -0.331</td> <td>    0.802</td>\n",
       "</tr>\n",
       "<tr>\n",
       "  <th>h_q05g_5</th>         <td>    0.0579</td> <td>    0.188</td> <td>    0.308</td> <td> 0.758</td> <td>   -0.310</td> <td>    0.426</td>\n",
       "</tr>\n",
       "<tr>\n",
       "  <th>h_q05g_4</th>         <td>    0.1045</td> <td>    0.139</td> <td>    0.752</td> <td> 0.452</td> <td>   -0.168</td> <td>    0.377</td>\n",
       "</tr>\n",
       "<tr>\n",
       "  <th>h_q05g_3</th>         <td>   -0.0041</td> <td>    0.130</td> <td>   -0.031</td> <td> 0.975</td> <td>   -0.259</td> <td>    0.250</td>\n",
       "</tr>\n",
       "<tr>\n",
       "  <th>h_q05g_2</th>         <td>   -0.0692</td> <td>    0.087</td> <td>   -0.793</td> <td> 0.428</td> <td>   -0.240</td> <td>    0.102</td>\n",
       "</tr>\n",
       "<tr>\n",
       "  <th>g_q05g_5</th>         <td>   -0.0771</td> <td>    0.103</td> <td>   -0.751</td> <td> 0.452</td> <td>   -0.278</td> <td>    0.124</td>\n",
       "</tr>\n",
       "<tr>\n",
       "  <th>g_q05g_4</th>         <td>    0.0828</td> <td>    0.123</td> <td>    0.675</td> <td> 0.499</td> <td>   -0.158</td> <td>    0.323</td>\n",
       "</tr>\n",
       "<tr>\n",
       "  <th>g_q05g_3</th>         <td>    0.0681</td> <td>    0.125</td> <td>    0.545</td> <td> 0.586</td> <td>   -0.177</td> <td>    0.313</td>\n",
       "</tr>\n",
       "<tr>\n",
       "  <th>g_q05g_2</th>         <td>    0.0254</td> <td>    0.091</td> <td>    0.279</td> <td> 0.781</td> <td>   -0.153</td> <td>    0.204</td>\n",
       "</tr>\n",
       "</table>\n",
       "<table class=\"simpletable\">\n",
       "<tr>\n",
       "  <th>Omnibus:</th>       <td>45891.346</td> <th>  Durbin-Watson:     </th>  <td>   1.954</td>  \n",
       "</tr>\n",
       "<tr>\n",
       "  <th>Prob(Omnibus):</th>  <td> 0.000</td>   <th>  Jarque-Bera (JB):  </th> <td>4616614.517</td>\n",
       "</tr>\n",
       "<tr>\n",
       "  <th>Skew:</th>           <td> 5.841</td>   <th>  Prob(JB):          </th>  <td>    0.00</td>  \n",
       "</tr>\n",
       "<tr>\n",
       "  <th>Kurtosis:</th>       <td>53.726</td>   <th>  Cond. No.          </th>  <td>    239.</td>  \n",
       "</tr>\n",
       "</table><br/><br/>Notes:<br/>[1] Standard Errors assume that the covariance matrix of the errors is correctly specified."
      ],
      "text/plain": [
       "<class 'statsmodels.iolib.summary.Summary'>\n",
       "\"\"\"\n",
       "                            OLS Regression Results                            \n",
       "==============================================================================\n",
       "Dep. Variable:                 b_q12f   R-squared:                       0.007\n",
       "Model:                            OLS   Adj. R-squared:                  0.007\n",
       "Method:                 Least Squares   F-statistic:                     17.97\n",
       "Date:                Fri, 19 Feb 2021   Prob (F-statistic):           1.41e-54\n",
       "Time:                        18:42:19   Log-Likelihood:            -1.1287e+05\n",
       "No. Observations:               40891   AIC:                         2.258e+05\n",
       "Df Residuals:                   40873   BIC:                         2.259e+05\n",
       "Df Model:                          17                                         \n",
       "Covariance Type:            nonrobust                                         \n",
       "====================================================================================\n",
       "                       coef    std err          t      P>|t|      [0.025      0.975]\n",
       "------------------------------------------------------------------------------------\n",
       "Intercept            1.8989      0.129     14.694      0.000       1.646       2.152\n",
       "gender_r[T.Male]     0.0343      0.040      0.858      0.391      -0.044       0.113\n",
       "j_q03a[T.Yes]       -0.0456      0.041     -1.125      0.261      -0.125       0.034\n",
       "yrsqual_t            0.0728      0.007      9.976      0.000       0.058       0.087\n",
       "iscoskil4_1          0.2277      0.092      2.470      0.014       0.047       0.408\n",
       "iscoskil4_2         -0.1339      0.096     -1.390      0.164      -0.323       0.055\n",
       "iscoskil4_3         -0.3149      0.112     -2.808      0.005      -0.535      -0.095\n",
       "iscoskil4_4         -0.1642      0.143     -1.150      0.250      -0.444       0.116\n",
       "iscoskil4_U          0.1709      0.187      0.915      0.360      -0.195       0.537\n",
       "iscoskil4_N          0.2356      0.289      0.816      0.415      -0.331       0.802\n",
       "h_q05g_5             0.0579      0.188      0.308      0.758      -0.310       0.426\n",
       "h_q05g_4             0.1045      0.139      0.752      0.452      -0.168       0.377\n",
       "h_q05g_3            -0.0041      0.130     -0.031      0.975      -0.259       0.250\n",
       "h_q05g_2            -0.0692      0.087     -0.793      0.428      -0.240       0.102\n",
       "g_q05g_5            -0.0771      0.103     -0.751      0.452      -0.278       0.124\n",
       "g_q05g_4             0.0828      0.123      0.675      0.499      -0.158       0.323\n",
       "g_q05g_3             0.0681      0.125      0.545      0.586      -0.177       0.313\n",
       "g_q05g_2             0.0254      0.091      0.279      0.781      -0.153       0.204\n",
       "==============================================================================\n",
       "Omnibus:                    45891.346   Durbin-Watson:                   1.954\n",
       "Prob(Omnibus):                  0.000   Jarque-Bera (JB):          4616614.517\n",
       "Skew:                           5.841   Prob(JB):                         0.00\n",
       "Kurtosis:                      53.726   Cond. No.                         239.\n",
       "==============================================================================\n",
       "\n",
       "Notes:\n",
       "[1] Standard Errors assume that the covariance matrix of the errors is correctly specified.\n",
       "\"\"\""
      ]
     },
     "execution_count": 81,
     "metadata": {},
     "output_type": "execute_result"
    }
   ],
   "source": [
    "result_sem = sm.ols(formula=\"b_q12f ~  gender_r + yrsqual_t + j_q03a + iscoskil4_1 + iscoskil4_2 + iscoskil4_3 + iscoskil4_4 + iscoskil4_U + iscoskil4_N + h_q05g_5 + h_q05g_4 + h_q05g_3 + h_q05g_2 +g_q05g_5 + g_q05g_4 + g_q05g_3 + g_q05g_2\", data=data2).fit()\n",
    "result_sem.summary()\n",
    "\n",
    "#print(result.params)"
   ]
  },
  {
   "cell_type": "markdown",
   "id": "spread-bleeding",
   "metadata": {},
   "source": [
    "#### number of private educational trainings"
   ]
  },
  {
   "cell_type": "code",
   "execution_count": 82,
   "id": "strategic-column",
   "metadata": {},
   "outputs": [
    {
     "data": {
      "text/html": [
       "<table class=\"simpletable\">\n",
       "<caption>OLS Regression Results</caption>\n",
       "<tr>\n",
       "  <th>Dep. Variable:</th>         <td>b_q12h</td>      <th>  R-squared:         </th> <td>   0.004</td> \n",
       "</tr>\n",
       "<tr>\n",
       "  <th>Model:</th>                   <td>OLS</td>       <th>  Adj. R-squared:    </th> <td>   0.003</td> \n",
       "</tr>\n",
       "<tr>\n",
       "  <th>Method:</th>             <td>Least Squares</td>  <th>  F-statistic:       </th> <td>   3.446</td> \n",
       "</tr>\n",
       "<tr>\n",
       "  <th>Date:</th>             <td>Fri, 19 Feb 2021</td> <th>  Prob (F-statistic):</th> <td>1.85e-06</td> \n",
       "</tr>\n",
       "<tr>\n",
       "  <th>Time:</th>                 <td>18:42:27</td>     <th>  Log-Likelihood:    </th> <td> -45719.</td> \n",
       "</tr>\n",
       "<tr>\n",
       "  <th>No. Observations:</th>      <td> 16030</td>      <th>  AIC:               </th> <td>9.147e+04</td>\n",
       "</tr>\n",
       "<tr>\n",
       "  <th>Df Residuals:</th>          <td> 16012</td>      <th>  BIC:               </th> <td>9.161e+04</td>\n",
       "</tr>\n",
       "<tr>\n",
       "  <th>Df Model:</th>              <td>    17</td>      <th>                     </th>     <td> </td>    \n",
       "</tr>\n",
       "<tr>\n",
       "  <th>Covariance Type:</th>      <td>nonrobust</td>    <th>                     </th>     <td> </td>    \n",
       "</tr>\n",
       "</table>\n",
       "<table class=\"simpletable\">\n",
       "<tr>\n",
       "          <td></td>            <th>coef</th>     <th>std err</th>      <th>t</th>      <th>P>|t|</th>  <th>[0.025</th>    <th>0.975]</th>  \n",
       "</tr>\n",
       "<tr>\n",
       "  <th>Intercept</th>        <td>    1.8062</td> <td>    0.192</td> <td>    9.390</td> <td> 0.000</td> <td>    1.429</td> <td>    2.183</td>\n",
       "</tr>\n",
       "<tr>\n",
       "  <th>gender_r[T.Male]</th> <td>    0.0134</td> <td>    0.072</td> <td>    0.185</td> <td> 0.853</td> <td>   -0.128</td> <td>    0.155</td>\n",
       "</tr>\n",
       "<tr>\n",
       "  <th>j_q03a[T.Yes]</th>    <td>    0.0168</td> <td>    0.069</td> <td>    0.244</td> <td> 0.807</td> <td>   -0.118</td> <td>    0.152</td>\n",
       "</tr>\n",
       "<tr>\n",
       "  <th>yrsqual_t</th>        <td>    0.0238</td> <td>    0.013</td> <td>    1.867</td> <td> 0.062</td> <td>   -0.001</td> <td>    0.049</td>\n",
       "</tr>\n",
       "<tr>\n",
       "  <th>iscoskil4_1</th>      <td>    0.2112</td> <td>    0.120</td> <td>    1.754</td> <td> 0.079</td> <td>   -0.025</td> <td>    0.447</td>\n",
       "</tr>\n",
       "<tr>\n",
       "  <th>iscoskil4_2</th>      <td>   -0.1356</td> <td>    0.122</td> <td>   -1.109</td> <td> 0.267</td> <td>   -0.375</td> <td>    0.104</td>\n",
       "</tr>\n",
       "<tr>\n",
       "  <th>iscoskil4_3</th>      <td>   -0.3045</td> <td>    0.146</td> <td>   -2.083</td> <td> 0.037</td> <td>   -0.591</td> <td>   -0.018</td>\n",
       "</tr>\n",
       "<tr>\n",
       "  <th>iscoskil4_4</th>      <td>   -0.1577</td> <td>    0.176</td> <td>   -0.898</td> <td> 0.369</td> <td>   -0.502</td> <td>    0.186</td>\n",
       "</tr>\n",
       "<tr>\n",
       "  <th>iscoskil4_U</th>      <td>    0.2812</td> <td>    0.291</td> <td>    0.967</td> <td> 0.333</td> <td>   -0.289</td> <td>    0.851</td>\n",
       "</tr>\n",
       "<tr>\n",
       "  <th>iscoskil4_N</th>      <td>   -0.1586</td> <td>    0.545</td> <td>   -0.291</td> <td> 0.771</td> <td>   -1.226</td> <td>    0.909</td>\n",
       "</tr>\n",
       "<tr>\n",
       "  <th>h_q05g_5</th>         <td>    0.1628</td> <td>    0.343</td> <td>    0.475</td> <td> 0.635</td> <td>   -0.510</td> <td>    0.835</td>\n",
       "</tr>\n",
       "<tr>\n",
       "  <th>h_q05g_4</th>         <td>    0.2120</td> <td>    0.229</td> <td>    0.925</td> <td> 0.355</td> <td>   -0.237</td> <td>    0.661</td>\n",
       "</tr>\n",
       "<tr>\n",
       "  <th>h_q05g_3</th>         <td>   -0.1149</td> <td>    0.218</td> <td>   -0.528</td> <td> 0.597</td> <td>   -0.541</td> <td>    0.312</td>\n",
       "</tr>\n",
       "<tr>\n",
       "  <th>h_q05g_2</th>         <td>   -0.1962</td> <td>    0.144</td> <td>   -1.358</td> <td> 0.174</td> <td>   -0.479</td> <td>    0.087</td>\n",
       "</tr>\n",
       "<tr>\n",
       "  <th>g_q05g_5</th>         <td>    0.1360</td> <td>    0.207</td> <td>    0.656</td> <td> 0.512</td> <td>   -0.270</td> <td>    0.542</td>\n",
       "</tr>\n",
       "<tr>\n",
       "  <th>g_q05g_4</th>         <td>    0.0151</td> <td>    0.252</td> <td>    0.060</td> <td> 0.952</td> <td>   -0.479</td> <td>    0.509</td>\n",
       "</tr>\n",
       "<tr>\n",
       "  <th>g_q05g_3</th>         <td>   -0.1228</td> <td>    0.244</td> <td>   -0.504</td> <td> 0.614</td> <td>   -0.601</td> <td>    0.355</td>\n",
       "</tr>\n",
       "<tr>\n",
       "  <th>g_q05g_2</th>         <td>    0.2976</td> <td>    0.180</td> <td>    1.654</td> <td> 0.098</td> <td>   -0.055</td> <td>    0.650</td>\n",
       "</tr>\n",
       "</table>\n",
       "<table class=\"simpletable\">\n",
       "<tr>\n",
       "  <th>Omnibus:</th>       <td>21400.917</td> <th>  Durbin-Watson:     </th>  <td>   1.984</td>  \n",
       "</tr>\n",
       "<tr>\n",
       "  <th>Prob(Omnibus):</th>  <td> 0.000</td>   <th>  Jarque-Bera (JB):  </th> <td>3674877.122</td>\n",
       "</tr>\n",
       "<tr>\n",
       "  <th>Skew:</th>           <td> 7.800</td>   <th>  Prob(JB):          </th>  <td>    0.00</td>  \n",
       "</tr>\n",
       "<tr>\n",
       "  <th>Kurtosis:</th>       <td>75.516</td>   <th>  Cond. No.          </th>  <td>    234.</td>  \n",
       "</tr>\n",
       "</table><br/><br/>Notes:<br/>[1] Standard Errors assume that the covariance matrix of the errors is correctly specified."
      ],
      "text/plain": [
       "<class 'statsmodels.iolib.summary.Summary'>\n",
       "\"\"\"\n",
       "                            OLS Regression Results                            \n",
       "==============================================================================\n",
       "Dep. Variable:                 b_q12h   R-squared:                       0.004\n",
       "Model:                            OLS   Adj. R-squared:                  0.003\n",
       "Method:                 Least Squares   F-statistic:                     3.446\n",
       "Date:                Fri, 19 Feb 2021   Prob (F-statistic):           1.85e-06\n",
       "Time:                        18:42:27   Log-Likelihood:                -45719.\n",
       "No. Observations:               16030   AIC:                         9.147e+04\n",
       "Df Residuals:                   16012   BIC:                         9.161e+04\n",
       "Df Model:                          17                                         \n",
       "Covariance Type:            nonrobust                                         \n",
       "====================================================================================\n",
       "                       coef    std err          t      P>|t|      [0.025      0.975]\n",
       "------------------------------------------------------------------------------------\n",
       "Intercept            1.8062      0.192      9.390      0.000       1.429       2.183\n",
       "gender_r[T.Male]     0.0134      0.072      0.185      0.853      -0.128       0.155\n",
       "j_q03a[T.Yes]        0.0168      0.069      0.244      0.807      -0.118       0.152\n",
       "yrsqual_t            0.0238      0.013      1.867      0.062      -0.001       0.049\n",
       "iscoskil4_1          0.2112      0.120      1.754      0.079      -0.025       0.447\n",
       "iscoskil4_2         -0.1356      0.122     -1.109      0.267      -0.375       0.104\n",
       "iscoskil4_3         -0.3045      0.146     -2.083      0.037      -0.591      -0.018\n",
       "iscoskil4_4         -0.1577      0.176     -0.898      0.369      -0.502       0.186\n",
       "iscoskil4_U          0.2812      0.291      0.967      0.333      -0.289       0.851\n",
       "iscoskil4_N         -0.1586      0.545     -0.291      0.771      -1.226       0.909\n",
       "h_q05g_5             0.1628      0.343      0.475      0.635      -0.510       0.835\n",
       "h_q05g_4             0.2120      0.229      0.925      0.355      -0.237       0.661\n",
       "h_q05g_3            -0.1149      0.218     -0.528      0.597      -0.541       0.312\n",
       "h_q05g_2            -0.1962      0.144     -1.358      0.174      -0.479       0.087\n",
       "g_q05g_5             0.1360      0.207      0.656      0.512      -0.270       0.542\n",
       "g_q05g_4             0.0151      0.252      0.060      0.952      -0.479       0.509\n",
       "g_q05g_3            -0.1228      0.244     -0.504      0.614      -0.601       0.355\n",
       "g_q05g_2             0.2976      0.180      1.654      0.098      -0.055       0.650\n",
       "==============================================================================\n",
       "Omnibus:                    21400.917   Durbin-Watson:                   1.984\n",
       "Prob(Omnibus):                  0.000   Jarque-Bera (JB):          3674877.122\n",
       "Skew:                           7.800   Prob(JB):                         0.00\n",
       "Kurtosis:                      75.516   Cond. No.                         234.\n",
       "==============================================================================\n",
       "\n",
       "Notes:\n",
       "[1] Standard Errors assume that the covariance matrix of the errors is correctly specified.\n",
       "\"\"\""
      ]
     },
     "execution_count": 82,
     "metadata": {},
     "output_type": "execute_result"
    }
   ],
   "source": [
    "result_priv = sm.ols(formula=\"b_q12h ~  gender_r + yrsqual_t + j_q03a + iscoskil4_1 + iscoskil4_2 + iscoskil4_3 + iscoskil4_4 + iscoskil4_U + iscoskil4_N + h_q05g_5 + h_q05g_4 + h_q05g_3 + h_q05g_2 +g_q05g_5 + g_q05g_4 + g_q05g_3 + g_q05g_2\", data=data2).fit()\n",
    "result_priv.summary()\n",
    "\n",
    "#print(result.params)\n"
   ]
  },
  {
   "cell_type": "code",
   "execution_count": 104,
   "id": "complex-passport",
   "metadata": {},
   "outputs": [
    {
     "data": {
      "text/html": [
       "<table style=\"text-align:center\"><tr><td colspan=\"5\" style=\"border-bottom: 1px solid black\"></td></tr><tr><td style=\"text-align:left\"></td><tr><td></td><td colspan=\"1\">On the job training</td><td colspan=\"1\">Open/Distance training</td><td colspan=\"1\">Seminars/Workshops</td><td colspan=\"1\">Private Lessons</td></tr><tr><td style=\"text-align:left\"></td><td>(1)</td><td>(2)</td><td>(3)</td><td>(4)</td></tr><tr><td colspan=\"5\" style=\"border-bottom: 1px solid black\"></td></tr><tr><td style=\"text-align:left\">Intercept</td><td>1.27<sup>***</sup></td><td>1.28<sup>***</sup></td><td>1.90<sup>***</sup></td><td>1.81<sup>***</sup></td></tr><tr><td style=\"text-align:left\"></td><td>(0.85 , 1.69)</td><td>(0.92 , 1.64)</td><td>(1.65 , 2.15)</td><td>(1.43 , 2.18)</td></tr><tr><td style=\"text-align:left\">Programming at work-Less than once a month</td><td>0.13<sup></sup></td><td>0.02<sup></sup></td><td>0.03<sup></sup></td><td>0.30<sup>*</sup></td></tr><tr><td style=\"text-align:left\"></td><td>(-0.08 , 0.34)</td><td>(-0.27 , 0.31)</td><td>(-0.15 , 0.20)</td><td>(-0.06 , 0.65)</td></tr><tr><td style=\"text-align:left\">Programming at work-Less than once a week</td><td>-0.16<sup></sup></td><td>0.06<sup></sup></td><td>0.07<sup></sup></td><td>-0.12<sup></sup></td></tr><tr><td style=\"text-align:left\"></td><td>(-0.45 , 0.14)</td><td>(-0.32 , 0.44)</td><td>(-0.18 , 0.31)</td><td>(-0.60 , 0.35)</td></tr><tr><td style=\"text-align:left\">Programming at work-Less than everyday</td><td>-0.21<sup></sup></td><td>0.16<sup></sup></td><td>0.08<sup></sup></td><td>0.02<sup></sup></td></tr><tr><td style=\"text-align:left\"></td><td>(-0.49 , 0.08)</td><td>(-0.21 , 0.53)</td><td>(-0.16 , 0.32)</td><td>(-0.48 , 0.51)</td></tr><tr><td style=\"text-align:left\">Programming at work-Everyday</td><td>-0.12<sup></sup></td><td>0.16<sup></sup></td><td>-0.08<sup></sup></td><td>0.14<sup></sup></td></tr><tr><td style=\"text-align:left\"></td><td>(-0.36 , 0.11)</td><td>(-0.15 , 0.47)</td><td>(-0.28 , 0.12)</td><td>(-0.27 , 0.54)</td></tr><tr><td style=\"text-align:left\">Gender:Male</td><td>-0.04<sup></sup></td><td>0.15<sup>**</sup></td><td>0.03<sup></sup></td><td>0.01<sup></sup></td></tr><tr><td style=\"text-align:left\"></td><td>(-0.12 , 0.05)</td><td>(0.03 , 0.28)</td><td>(-0.04 , 0.11)</td><td>(-0.13 , 0.16)</td></tr><tr><td style=\"text-align:left\">Programming at home-Less than once a month</td><td>-0.18<sup>*</sup></td><td>0.11<sup></sup></td><td>-0.07<sup></sup></td><td>-0.20<sup></sup></td></tr><tr><td style=\"text-align:left\"></td><td>(-0.38 , 0.02)</td><td>(-0.14 , 0.36)</td><td>(-0.24 , 0.10)</td><td>(-0.48 , 0.09)</td></tr><tr><td style=\"text-align:left\">Programming at home-Less than once a week</td><td>-0.01<sup></sup></td><td>-0.06<sup></sup></td><td>-0.00<sup></sup></td><td>-0.11<sup></sup></td></tr><tr><td style=\"text-align:left\"></td><td>(-0.31 , 0.30)</td><td>(-0.39 , 0.28)</td><td>(-0.26 , 0.25)</td><td>(-0.54 , 0.31)</td></tr><tr><td style=\"text-align:left\">Programming at home-Less than everyday</td><td>0.10<sup></sup></td><td>0.07<sup></sup></td><td>0.10<sup></sup></td><td>0.21<sup></sup></td></tr><tr><td style=\"text-align:left\"></td><td>(-0.24 , 0.44)</td><td>(-0.29 , 0.44)</td><td>(-0.17 , 0.38)</td><td>(-0.24 , 0.66)</td></tr><tr><td style=\"text-align:left\">Programming at home-Everyday</td><td>-0.11<sup></sup></td><td>0.36<sup></sup></td><td>0.06<sup></sup></td><td>0.16<sup></sup></td></tr><tr><td style=\"text-align:left\"></td><td>(-0.57 , 0.35)</td><td>(-0.11 , 0.83)</td><td>(-0.31 , 0.43)</td><td>(-0.51 , 0.84)</td></tr><tr><td style=\"text-align:left\">Skilled occupations</td><td>0.85<sup>***</sup></td><td>0.66<sup>***</sup></td><td>0.23<sup>**</sup></td><td>0.21<sup>*</sup></td></tr><tr><td style=\"text-align:left\"></td><td>(0.47 , 1.22)</td><td>(0.41 , 0.90)</td><td>(0.05 , 0.41)</td><td>(-0.02 , 0.45)</td></tr><tr><td style=\"text-align:left\">Semi-skilled white-collar</td><td>0.33<sup>*</sup></td><td>0.16<sup></sup></td><td>-0.13<sup></sup></td><td>-0.14<sup></sup></td></tr><tr><td style=\"text-align:left\"></td><td>(-0.05 , 0.70)</td><td>(-0.09 , 0.41)</td><td>(-0.32 , 0.05)</td><td>(-0.38 , 0.10)</td></tr><tr><td style=\"text-align:left\">Semi-skilled blue-collar</td><td>0.10<sup></sup></td><td>0.17<sup></sup></td><td>-0.31<sup>***</sup></td><td>-0.30<sup>**</sup></td></tr><tr><td style=\"text-align:left\"></td><td>(-0.28 , 0.48)</td><td>(-0.12 , 0.47)</td><td>(-0.53 , -0.10)</td><td>(-0.59 , -0.02)</td></tr><tr><td style=\"text-align:left\">Elementary occupations</td><td>0.03<sup></sup></td><td>-0.23<sup></sup></td><td>-0.16<sup></sup></td><td>-0.16<sup></sup></td></tr><tr><td style=\"text-align:left\"></td><td>(-0.38 , 0.44)</td><td>(-0.59 , 0.13)</td><td>(-0.44 , 0.12)</td><td>(-0.50 , 0.19)</td></tr><tr><td style=\"text-align:left\">not stated occupation</td><td>0.99<sup>***</sup></td><td>1.02<sup>**</sup></td><td>0.24<sup></sup></td><td>-0.16<sup></sup></td></tr><tr><td style=\"text-align:left\"></td><td>(0.34 , 1.64)</td><td>(0.17 , 1.86)</td><td>(-0.33 , 0.80)</td><td>(-1.23 , 0.91)</td></tr><tr><td style=\"text-align:left\">Unknown occupation</td><td>0.67<sup>**</sup></td><td>0.11<sup></sup></td><td>0.17<sup></sup></td><td>0.28<sup></sup></td></tr><tr><td style=\"text-align:left\"></td><td>(0.12 , 1.22)</td><td>(-0.52 , 0.74)</td><td>(-0.20 , 0.54)</td><td>(-0.29 , 0.85)</td></tr><tr><td style=\"text-align:left\">Children:Yes</td><td>0.04<sup></sup></td><td>0.07<sup></sup></td><td>-0.05<sup></sup></td><td>0.02<sup></sup></td></tr><tr><td style=\"text-align:left\"></td><td>(-0.05 , 0.13)</td><td>(-0.05 , 0.20)</td><td>(-0.13 , 0.03)</td><td>(-0.12 , 0.15)</td></tr><tr><td style=\"text-align:left\">Total years of schooling</td><td>0.10<sup>***</sup></td><td>0.05<sup>***</sup></td><td>0.07<sup>***</sup></td><td>0.02<sup>*</sup></td></tr><tr><td style=\"text-align:left\"></td><td>(0.09 , 0.12)</td><td>(0.03 , 0.07)</td><td>(0.06 , 0.09)</td><td>(-0.00 , 0.05)</td></tr><td colspan=\"5\" style=\"border-bottom: 1px solid black\"></td></tr><tr><td style=\"text-align: left\">Observations</td><td>44,665</td><td>15,648</td><td>40,891</td><td>16,030</td></tr><tr><td style=\"text-align: left\">R<sup>2</sup></td><td>0.01</td><td>0.01</td><td>0.01</td><td>0.00</td></tr><tr><td style=\"text-align: left\">Adjusted R<sup>2</sup></td><td>0.01</td><td>0.01</td><td>0.01</td><td>0.00</td></tr><tr><td style=\"text-align: left\">Residual Std. Error</td><td>4.41 (df=44647)</td><td>3.75 (df=15630)</td><td>3.82 (df=40873)</td><td>4.19 (df=16012)</td></tr><tr><td style=\"text-align: left\">F Statistic</td><td>39.96<sup>***</sup> (df=17; 44647)</td><td>10.67<sup>***</sup> (df=17; 15630)</td><td>17.97<sup>***</sup> (df=17; 40873)</td><td>3.45<sup>***</sup> (df=17; 16012)</td></tr><tr><td colspan=\"5\" style=\"border-bottom: 1px solid black\"></td></tr><tr><td style=\"text-align: left\">Note:</td>\n",
       " <td colspan=\"4\" style=\"text-align: right\">\n",
       "  <sup>*</sup>p&lt;0.1;\n",
       "  <sup>**</sup>p&lt;0.05;\n",
       "  <sup>***</sup>p&lt;0.01\n",
       " </td></tr></table>"
      ],
      "text/plain": [
       "<stargazer.stargazer.Stargazer at 0x74218d1788>"
      ]
     },
     "execution_count": 104,
     "metadata": {},
     "output_type": "execute_result"
    }
   ],
   "source": [
    "stargazer = Stargazer([result_ojt, result_od, result_sem, result_priv])\n",
    "stargazer.custom_columns(['On the job training', 'Open/Distance training', 'Seminars/Workshops', 'Private Lessons'], [1, 1, 1, 1])\n",
    "stargazer.significant_digits(2)\n",
    "stargazer.show_confidence_intervals(True)\n",
    "stargazer.rename_covariates({'gender_r[T.Male]':'Gender:Male','g_q05g_3':'Programming at work-Less than once a week','g_q05g_4':'Programming at work-Less than everyday','g_q05g_5':'Programming at work-Everyday','g_q05g_2':'Programming at work-Less than once a month','h_q05g_3':'Programming at home-Less than once a week','h_q05g_4':'Programming at home-Less than everyday','h_q05g_5':'Programming at home-Everyday','h_q05g_2':'Programming at home-Less than once a month','iscoskil4_1':'Skilled occupations','iscoskil4_2':'Semi-skilled white-collar','iscoskil4_3':'Semi-skilled blue-collar','iscoskil4_4':'Elementary occupations','iscoskil4_U':'Unknown occupation','iscoskil4_N':'not stated occupation','j_q03a[T.Yes]':'Children:Yes','yrsqual_t':'Total years of schooling'})\n",
    "#stargazer.rename_covariates({'g_q05g_3':'Programming at work-Less than once a week'})\n",
    "#stargazer.rename_covariates({'g_q05g_4':'Programming at work-Less than everyday'})\n",
    "#stargazer.rename_covariates({'g_q05g_5': 'Programming at work-Everyday'})\n",
    "#stargazer.rename_covariates({'g_q05g_2': 'Programming at work-Less than once a month'})\n",
    "stargazer\n",
    "#stargazer.render_latex()\n",
    "#stargazer.render_html()"
   ]
  },
  {
   "cell_type": "code",
   "execution_count": 114,
   "id": "commercial-fruit",
   "metadata": {},
   "outputs": [],
   "source": [
    "#sns.regplot(x=\"b_q12d\", y=\"iscoskil4\", data=data)\n",
    "#sns.lmplot(x=\"iscoskil4\", y=\"b_q12h\", data=data,x_estimator=np.mean)\n",
    "#sns.lmplot(x=\"b_q12h\", y=\"iscoskil4\", data=data,logistic=True, y_jitter=.03)"
   ]
  },
  {
   "cell_type": "code",
   "execution_count": 115,
   "id": "representative-excuse",
   "metadata": {},
   "outputs": [],
   "source": [
    "#plt.scatter(x=\"yrsget\", y=\"b_q12d\", s=None, c=None, marker=None, cmap=None, norm=None, vmin=None, vmax=None, alpha=None, linewidths=None, edgecolors=None, data=data)"
   ]
  },
  {
   "cell_type": "code",
   "execution_count": null,
   "id": "micro-republican",
   "metadata": {},
   "outputs": [],
   "source": []
  },
  {
   "cell_type": "code",
   "execution_count": null,
   "id": "bright-perfume",
   "metadata": {},
   "outputs": [],
   "source": []
  }
 ],
 "metadata": {
  "kernelspec": {
   "display_name": "Python 3",
   "language": "python",
   "name": "python3"
  },
  "language_info": {
   "codemirror_mode": {
    "name": "ipython",
    "version": 3
   },
   "file_extension": ".py",
   "mimetype": "text/x-python",
   "name": "python",
   "nbconvert_exporter": "python",
   "pygments_lexer": "ipython3",
   "version": "3.7.9"
  }
 },
 "nbformat": 4,
 "nbformat_minor": 5
}
