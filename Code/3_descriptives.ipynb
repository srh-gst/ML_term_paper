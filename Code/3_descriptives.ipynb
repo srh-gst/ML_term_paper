{
 "cells": [
  {
   "cell_type": "markdown",
   "id": "temporal-mountain",
   "metadata": {},
   "source": [
    "# ML Term Paper - Code: Describe Data\n",
    "by Ann-Christin and Sarah 18/02/21\n",
    "\n",
    "This notebook uses the piaac_red file to describe the data used in the analysis. "
   ]
  },
  {
   "cell_type": "code",
   "execution_count": 3,
   "id": "incorporated-agency",
   "metadata": {},
   "outputs": [
    {
     "name": "stdout",
     "output_type": "stream",
     "text": [
      "done\n"
     ]
    }
   ],
   "source": [
    "# Packages to import \n",
    "\n",
    "import re\n",
    "\n",
    "import random\n",
    "#from PIL import Image\n",
    "import seaborn as sns\n",
    "import sklearn.decomposition\n",
    "import sklearn.manifold\n",
    "import umap #if missing: pip install umap\n",
    "import scipy.stats\n",
    "\n",
    "\n",
    "\n",
    "import numpy as np\n",
    "import pandas as pd\n",
    "import matplotlib\n",
    "import matplotlib.pyplot as plt\n",
    "\n",
    "from sklearn.linear_model import LinearRegression\n",
    "from sklearn.metrics import mean_squared_error, r2_score\n",
    "from sklearn.model_selection import KFold, cross_val_score\n",
    "from sklearn.model_selection import train_test_split\n",
    "\n",
    "from sklearn import ensemble\n",
    "from sklearn import tree as tree\n",
    "from pandas import Series, DataFrame\n",
    "print(\"done\")"
   ]
  },
  {
   "cell_type": "code",
   "execution_count": 4,
   "id": "right-listening",
   "metadata": {},
   "outputs": [
    {
     "name": "stdout",
     "output_type": "stream",
     "text": [
      "done\n"
     ]
    }
   ],
   "source": [
    "import os\n",
    "path = \"E:\\Data\\krea\\PIAAC\"\n",
    "os.chdir(path)\n",
    "print(\"done\")"
   ]
  },
  {
   "cell_type": "code",
   "execution_count": 178,
   "id": "extended-taste",
   "metadata": {},
   "outputs": [
    {
     "data": {
      "text/plain": [
       "(230691, 132)"
      ]
     },
     "execution_count": 178,
     "metadata": {},
     "output_type": "execute_result"
    }
   ],
   "source": [
    "data = pd.read_csv(\"data\\piaac_red.csv\", sep=',', error_bad_lines=False, index_col=False, dtype='unicode')\n",
    "data.shape"
   ]
  },
  {
   "cell_type": "code",
   "execution_count": 7,
   "id": "fabulous-nickel",
   "metadata": {},
   "outputs": [
    {
     "data": {
      "text/html": [
       "<div>\n",
       "<style scoped>\n",
       "    .dataframe tbody tr th:only-of-type {\n",
       "        vertical-align: middle;\n",
       "    }\n",
       "\n",
       "    .dataframe tbody tr th {\n",
       "        vertical-align: top;\n",
       "    }\n",
       "\n",
       "    .dataframe thead th {\n",
       "        text-align: right;\n",
       "    }\n",
       "</style>\n",
       "<table border=\"1\" class=\"dataframe\">\n",
       "  <thead>\n",
       "    <tr style=\"text-align: right;\">\n",
       "      <th></th>\n",
       "      <th>Unnamed: 0</th>\n",
       "      <th>cntry</th>\n",
       "      <th>cntry_e</th>\n",
       "      <th>inpiaac</th>\n",
       "      <th>seqid</th>\n",
       "      <th>cnt_brth</th>\n",
       "      <th>ageg10lfs</th>\n",
       "      <th>age_r</th>\n",
       "      <th>gender_r</th>\n",
       "      <th>j_q03b</th>\n",
       "      <th>...</th>\n",
       "      <th>nfe12jr</th>\n",
       "      <th>nfe12njr</th>\n",
       "      <th>fnfaet12</th>\n",
       "      <th>fnfaet12jr</th>\n",
       "      <th>fnfaet12njr</th>\n",
       "      <th>nfehrsnjr</th>\n",
       "      <th>nfehrsjr</th>\n",
       "      <th>nfehrs</th>\n",
       "      <th>nopaidworkever</th>\n",
       "      <th>unempflag</th>\n",
       "    </tr>\n",
       "  </thead>\n",
       "  <tbody>\n",
       "    <tr>\n",
       "      <th>count</th>\n",
       "      <td>230691</td>\n",
       "      <td>3660</td>\n",
       "      <td>3660</td>\n",
       "      <td>3660</td>\n",
       "      <td>230691</td>\n",
       "      <td>160270</td>\n",
       "      <td>227031</td>\n",
       "      <td>166949</td>\n",
       "      <td>230689</td>\n",
       "      <td>103091</td>\n",
       "      <td>...</td>\n",
       "      <td>216972</td>\n",
       "      <td>216972</td>\n",
       "      <td>200153</td>\n",
       "      <td>198853</td>\n",
       "      <td>198853</td>\n",
       "      <td>54687</td>\n",
       "      <td>54687</td>\n",
       "      <td>80121</td>\n",
       "      <td>228135</td>\n",
       "      <td>3477</td>\n",
       "    </tr>\n",
       "    <tr>\n",
       "      <th>unique</th>\n",
       "      <td>230691</td>\n",
       "      <td>1</td>\n",
       "      <td>1</td>\n",
       "      <td>2</td>\n",
       "      <td>26967</td>\n",
       "      <td>182</td>\n",
       "      <td>5</td>\n",
       "      <td>50</td>\n",
       "      <td>2</td>\n",
       "      <td>24</td>\n",
       "      <td>...</td>\n",
       "      <td>2</td>\n",
       "      <td>2</td>\n",
       "      <td>2</td>\n",
       "      <td>2</td>\n",
       "      <td>2</td>\n",
       "      <td>539</td>\n",
       "      <td>568</td>\n",
       "      <td>474</td>\n",
       "      <td>2</td>\n",
       "      <td>2</td>\n",
       "    </tr>\n",
       "    <tr>\n",
       "      <th>top</th>\n",
       "      <td>197393</td>\n",
       "      <td>USA</td>\n",
       "      <td>USA</td>\n",
       "      <td>1.0</td>\n",
       "      <td>2390.0</td>\n",
       "      <td>Poland</td>\n",
       "      <td>35-44</td>\n",
       "      <td>21.0</td>\n",
       "      <td>Female</td>\n",
       "      <td>2.0</td>\n",
       "      <td>...</td>\n",
       "      <td>Did not participate in NFE for JR reasons</td>\n",
       "      <td>Did not participate in NFE for NJR reasons</td>\n",
       "      <td>Did not participate in formal or non-formal AET</td>\n",
       "      <td>Did not participate in formal or non-formal AE...</td>\n",
       "      <td>Did not participate in formal or non-formal AE...</td>\n",
       "      <td>0.0</td>\n",
       "      <td>0.0</td>\n",
       "      <td>40.0</td>\n",
       "      <td>Has had paid work</td>\n",
       "      <td>0.0</td>\n",
       "    </tr>\n",
       "    <tr>\n",
       "      <th>freq</th>\n",
       "      <td>1</td>\n",
       "      <td>3660</td>\n",
       "      <td>3660</td>\n",
       "      <td>3296</td>\n",
       "      <td>35</td>\n",
       "      <td>9612</td>\n",
       "      <td>46872</td>\n",
       "      <td>3872</td>\n",
       "      <td>122830</td>\n",
       "      <td>44747</td>\n",
       "      <td>...</td>\n",
       "      <td>140246</td>\n",
       "      <td>200186</td>\n",
       "      <td>106426</td>\n",
       "      <td>122590</td>\n",
       "      <td>182689</td>\n",
       "      <td>32659</td>\n",
       "      <td>6681</td>\n",
       "      <td>6877</td>\n",
       "      <td>204720</td>\n",
       "      <td>3339</td>\n",
       "    </tr>\n",
       "  </tbody>\n",
       "</table>\n",
       "<p>4 rows × 130 columns</p>\n",
       "</div>"
      ],
      "text/plain": [
       "       Unnamed: 0 cntry cntry_e inpiaac   seqid cnt_brth ageg10lfs   age_r  \\\n",
       "count      230691  3660    3660    3660  230691   160270    227031  166949   \n",
       "unique     230691     1       1       2   26967      182         5      50   \n",
       "top        197393   USA     USA     1.0  2390.0   Poland     35-44    21.0   \n",
       "freq            1  3660    3660    3296      35     9612     46872    3872   \n",
       "\n",
       "       gender_r  j_q03b  ...                                    nfe12jr  \\\n",
       "count    230689  103091  ...                                     216972   \n",
       "unique        2      24  ...                                          2   \n",
       "top      Female     2.0  ...  Did not participate in NFE for JR reasons   \n",
       "freq     122830   44747  ...                                     140246   \n",
       "\n",
       "                                          nfe12njr  \\\n",
       "count                                       216972   \n",
       "unique                                           2   \n",
       "top     Did not participate in NFE for NJR reasons   \n",
       "freq                                        200186   \n",
       "\n",
       "                                               fnfaet12  \\\n",
       "count                                            200153   \n",
       "unique                                                2   \n",
       "top     Did not participate in formal or non-formal AET   \n",
       "freq                                             106426   \n",
       "\n",
       "                                               fnfaet12jr  \\\n",
       "count                                              198853   \n",
       "unique                                                  2   \n",
       "top     Did not participate in formal or non-formal AE...   \n",
       "freq                                               122590   \n",
       "\n",
       "                                              fnfaet12njr nfehrsnjr nfehrsjr  \\\n",
       "count                                              198853     54687    54687   \n",
       "unique                                                  2       539      568   \n",
       "top     Did not participate in formal or non-formal AE...       0.0      0.0   \n",
       "freq                                               182689     32659     6681   \n",
       "\n",
       "       nfehrs     nopaidworkever unempflag  \n",
       "count   80121             228135      3477  \n",
       "unique    474                  2         2  \n",
       "top      40.0  Has had paid work       0.0  \n",
       "freq     6877             204720      3339  \n",
       "\n",
       "[4 rows x 130 columns]"
      ]
     },
     "execution_count": 7,
     "metadata": {},
     "output_type": "execute_result"
    }
   ],
   "source": [
    "data.describe()"
   ]
  },
  {
   "cell_type": "markdown",
   "id": "damaged-programmer",
   "metadata": {},
   "source": [
    "## Changing Data Types"
   ]
  },
  {
   "cell_type": "code",
   "execution_count": 183,
   "id": "indoor-failing",
   "metadata": {},
   "outputs": [],
   "source": [
    "data['gender_r'] = data['gender_r'].astype('category')\n",
    "data[\"age_r\"] = pd.to_numeric(data[\"age_r\"])\n",
    "data['b_q12a'] = data['b_q12a'].astype('category') # yes/no open educational training\n",
    "data['b_q12b'] = pd.to_numeric(data[\"b_q12b\"]) # number of open/distance educational trainings\n",
    "data[\"b_q12d\"] = pd.to_numeric(data[\"b_q12d\"]) # count on-the-job training\n",
    "data['b_q12e'] = data['b_q12e'].astype('category')  # yes/no seminars training\n",
    "data['b_q12f'] = pd.to_numeric(data[\"b_q12f\"]) # number of seminars\n",
    "data['b_q12g'] = data['b_q12g'].astype('category')  # yes/no private training\n",
    "data['b_q12h'] = pd.to_numeric(data[\"b_q12h\"]) # number of private educational trainings\n",
    "data['j_q03a'] = data['j_q03a'].astype('category') # yes/no children\n",
    "data['j_q03b'] = pd.to_numeric(data['j_q03b']) # number of children\n",
    "data['yrsqual_t'] = pd.to_numeric(data['yrsqual_t'])\n",
    "data['yrsget'] = pd.to_numeric(data['yrsget'])\n",
    "data['iscoskil4'] = data['iscoskil4'].astype('category')\n",
    "data['h_q05g'] = data['h_q05g'].astype('category') # Skill use everyday life - ICT - Computer - How often - Programming language  \n",
    "data['g_q05g'] = data['g_q05g'].astype('category') # skill use work - ICT programming lanugage how often\n",
    "#data['g_q05'] = data['g_q05'].astype('category') # use computer at work yes/no"
   ]
  },
  {
   "cell_type": "markdown",
   "id": "deadly-newspaper",
   "metadata": {},
   "source": [
    "## Summary Statistics"
   ]
  },
  {
   "cell_type": "code",
   "execution_count": 44,
   "id": "automotive-spanking",
   "metadata": {},
   "outputs": [
    {
     "data": {
      "text/plain": [
       "<bound method NDFrame.describe of 0           Male\n",
       "1           Male\n",
       "2         Female\n",
       "3         Female\n",
       "4           Male\n",
       "           ...  \n",
       "230686      Male\n",
       "230687      Male\n",
       "230688    Female\n",
       "230689      Male\n",
       "230690      Male\n",
       "Name: gender_r, Length: 230691, dtype: category\n",
       "Categories (2, object): ['Female', 'Male']>"
      ]
     },
     "execution_count": 44,
     "metadata": {},
     "output_type": "execute_result"
    }
   ],
   "source": [
    "data['gender_r'].describe"
   ]
  },
  {
   "cell_type": "code",
   "execution_count": 28,
   "id": "banner-forward",
   "metadata": {},
   "outputs": [
    {
     "data": {
      "text/plain": [
       "Female    122830\n",
       "Male      107859\n",
       "Name: gender_r, dtype: int64"
      ]
     },
     "execution_count": 28,
     "metadata": {},
     "output_type": "execute_result"
    }
   ],
   "source": [
    "data['gender_r'].value_counts()"
   ]
  },
  {
   "cell_type": "code",
   "execution_count": 84,
   "id": "reported-slide",
   "metadata": {},
   "outputs": [],
   "source": [
    "#data['age_r'] = data['age_r'].fillna(0)\n",
    "#data['age_r'].describe"
   ]
  },
  {
   "cell_type": "code",
   "execution_count": 163,
   "id": "amazing-surname",
   "metadata": {},
   "outputs": [
    {
     "data": {
      "text/plain": [
       "<bound method NDFrame.describe of 0        NaN\n",
       "1        NaN\n",
       "2        NaN\n",
       "3        NaN\n",
       "4        NaN\n",
       "          ..\n",
       "230686   NaN\n",
       "230687   NaN\n",
       "230688   NaN\n",
       "230689   NaN\n",
       "230690   NaN\n",
       "Name: age_r, Length: 230691, dtype: float64>"
      ]
     },
     "execution_count": 163,
     "metadata": {},
     "output_type": "execute_result"
    }
   ],
   "source": [
    "\n",
    "data['age_r'].describe"
   ]
  },
  {
   "cell_type": "code",
   "execution_count": 58,
   "id": "perceived-announcement",
   "metadata": {},
   "outputs": [
    {
     "data": {
      "text/plain": [
       "21.0    3872\n",
       "23.0    3862\n",
       "19.0    3823\n",
       "20.0    3802\n",
       "22.0    3721\n",
       "26.0    3683\n",
       "24.0    3671\n",
       "40.0    3632\n",
       "25.0    3589\n",
       "39.0    3517\n",
       "37.0    3502\n",
       "41.0    3462\n",
       "38.0    3461\n",
       "36.0    3458\n",
       "33.0    3425\n",
       "31.0    3424\n",
       "34.0    3417\n",
       "35.0    3415\n",
       "30.0    3414\n",
       "32.0    3385\n",
       "47.0    3370\n",
       "45.0    3365\n",
       "42.0    3360\n",
       "17.0    3353\n",
       "18.0    3353\n",
       "48.0    3350\n",
       "29.0    3340\n",
       "46.0    3321\n",
       "43.0    3321\n",
       "44.0    3289\n",
       "49.0    3266\n",
       "52.0    3236\n",
       "28.0    3201\n",
       "55.0    3192\n",
       "27.0    3184\n",
       "53.0    3173\n",
       "50.0    3172\n",
       "64.0    3158\n",
       "51.0    3147\n",
       "56.0    3125\n",
       "16.0    3123\n",
       "57.0    3092\n",
       "58.0    3074\n",
       "54.0    3070\n",
       "59.0    3018\n",
       "60.0    3003\n",
       "62.0    2998\n",
       "61.0    2992\n",
       "63.0    2982\n",
       "65.0    2786\n",
       "Name: age_r, dtype: int64"
      ]
     },
     "execution_count": 58,
     "metadata": {},
     "output_type": "execute_result"
    }
   ],
   "source": [
    "data['age_r'].value_counts()"
   ]
  },
  {
   "cell_type": "code",
   "execution_count": 51,
   "id": "electric-oracle",
   "metadata": {},
   "outputs": [],
   "source": [
    "#data['age_r'] = data['age_r'].astype('integer')"
   ]
  },
  {
   "cell_type": "code",
   "execution_count": 59,
   "id": "periodic-process",
   "metadata": {},
   "outputs": [
    {
     "data": {
      "text/plain": [
       "<bound method NDFrame.describe of 0        NaN\n",
       "1        NaN\n",
       "2        NaN\n",
       "3        NaN\n",
       "4        NaN\n",
       "          ..\n",
       "230686   NaN\n",
       "230687   NaN\n",
       "230688   NaN\n",
       "230689   NaN\n",
       "230690   NaN\n",
       "Name: age_r, Length: 230691, dtype: float64>"
      ]
     },
     "execution_count": 59,
     "metadata": {},
     "output_type": "execute_result"
    }
   ],
   "source": [
    "data['age_r'].describe"
   ]
  },
  {
   "cell_type": "code",
   "execution_count": 77,
   "id": "foster-suite",
   "metadata": {},
   "outputs": [
    {
     "data": {
      "text/plain": [
       "age_r    39.687485\n",
       "dtype: float64"
      ]
     },
     "execution_count": 77,
     "metadata": {},
     "output_type": "execute_result"
    }
   ],
   "source": [
    "data[[\"age_r\"]].mean()"
   ]
  },
  {
   "cell_type": "code",
   "execution_count": 95,
   "id": "electronic-retro",
   "metadata": {},
   "outputs": [
    {
     "data": {
      "text/html": [
       "<div>\n",
       "<style scoped>\n",
       "    .dataframe tbody tr th:only-of-type {\n",
       "        vertical-align: middle;\n",
       "    }\n",
       "\n",
       "    .dataframe tbody tr th {\n",
       "        vertical-align: top;\n",
       "    }\n",
       "\n",
       "    .dataframe thead th {\n",
       "        text-align: right;\n",
       "    }\n",
       "</style>\n",
       "<table border=\"1\" class=\"dataframe\">\n",
       "  <thead>\n",
       "    <tr style=\"text-align: right;\">\n",
       "      <th></th>\n",
       "      <th>age_r</th>\n",
       "    </tr>\n",
       "    <tr>\n",
       "      <th>gender_r</th>\n",
       "      <th></th>\n",
       "    </tr>\n",
       "  </thead>\n",
       "  <tbody>\n",
       "    <tr>\n",
       "      <th>Female</th>\n",
       "      <td>39.957589</td>\n",
       "    </tr>\n",
       "    <tr>\n",
       "      <th>Male</th>\n",
       "      <td>39.378828</td>\n",
       "    </tr>\n",
       "  </tbody>\n",
       "</table>\n",
       "</div>"
      ],
      "text/plain": [
       "              age_r\n",
       "gender_r           \n",
       "Female    39.957589\n",
       "Male      39.378828"
      ]
     },
     "execution_count": 95,
     "metadata": {},
     "output_type": "execute_result"
    }
   ],
   "source": [
    "data[[\"gender_r\", \"age_r\"]].groupby(\"gender_r\").mean()"
   ]
  },
  {
   "cell_type": "code",
   "execution_count": 164,
   "id": "buried-cabinet",
   "metadata": {},
   "outputs": [
    {
     "data": {
      "text/plain": [
       "<bound method NDFrame.describe of 0        NaN\n",
       "1        NaN\n",
       "2        NaN\n",
       "3        NaN\n",
       "4        NaN\n",
       "          ..\n",
       "230686   NaN\n",
       "230687   NaN\n",
       "230688   NaN\n",
       "230689   NaN\n",
       "230690   NaN\n",
       "Name: b_q12d, Length: 230691, dtype: float64>"
      ]
     },
     "execution_count": 164,
     "metadata": {},
     "output_type": "execute_result"
    }
   ],
   "source": [
    "\n",
    "data['b_q12d'].describe\n"
   ]
  },
  {
   "cell_type": "code",
   "execution_count": 110,
   "id": "stainless-honey",
   "metadata": {},
   "outputs": [
    {
     "data": {
      "text/plain": [
       "              b_q12d\n",
       "age_r  count  0.0          31.0\n",
       "              1.0       14106.0\n",
       "              2.0        9846.0\n",
       "              3.0        5918.0\n",
       "              4.0        3196.0\n",
       "                         ...   \n",
       "       max    46.0         38.0\n",
       "              47.0          NaN\n",
       "              48.0         61.0\n",
       "              49.0         32.0\n",
       "              50.0         64.0\n",
       "Length: 360, dtype: float64"
      ]
     },
     "execution_count": 110,
     "metadata": {},
     "output_type": "execute_result"
    }
   ],
   "source": [
    "#data.groupby('b_q12d').describe()\n",
    "data.groupby('b_q12d').describe().unstack(1)"
   ]
  },
  {
   "cell_type": "code",
   "execution_count": 165,
   "id": "modern-gospel",
   "metadata": {},
   "outputs": [
    {
     "data": {
      "text/plain": [
       "<bound method NDFrame.describe of 0        NaN\n",
       "1        NaN\n",
       "2        NaN\n",
       "3        NaN\n",
       "4        NaN\n",
       "          ..\n",
       "230686   NaN\n",
       "230687   NaN\n",
       "230688   NaN\n",
       "230689   NaN\n",
       "230690   NaN\n",
       "Name: b_q12b, Length: 230691, dtype: float64>"
      ]
     },
     "execution_count": 165,
     "metadata": {},
     "output_type": "execute_result"
    }
   ],
   "source": [
    "\n",
    "data['b_q12b'].describe # number of open/distance educational trainings"
   ]
  },
  {
   "cell_type": "code",
   "execution_count": 166,
   "id": "based-sequence",
   "metadata": {},
   "outputs": [
    {
     "data": {
      "text/plain": [
       "<bound method NDFrame.describe of 0          No\n",
       "1         Yes\n",
       "2          No\n",
       "3          No\n",
       "4         Yes\n",
       "         ... \n",
       "230686     No\n",
       "230687     No\n",
       "230688     No\n",
       "230689     No\n",
       "230690     No\n",
       "Name: b_q12a, Length: 230691, dtype: category\n",
       "Categories (2, object): ['No', 'Yes']>"
      ]
     },
     "execution_count": 166,
     "metadata": {},
     "output_type": "execute_result"
    }
   ],
   "source": [
    "\n",
    "data['b_q12a'].describe# yes/no open educational training"
   ]
  },
  {
   "cell_type": "code",
   "execution_count": 104,
   "id": "focal-resident",
   "metadata": {},
   "outputs": [
    {
     "data": {
      "text/plain": [
       "<bound method NDFrame.describe of 0          No\n",
       "1         Yes\n",
       "2          No\n",
       "3          No\n",
       "4          No\n",
       "         ... \n",
       "230686    Yes\n",
       "230687     No\n",
       "230688     No\n",
       "230689     No\n",
       "230690     No\n",
       "Name: b_q12e, Length: 230691, dtype: category\n",
       "Categories (2, object): ['No', 'Yes']>"
      ]
     },
     "execution_count": 104,
     "metadata": {},
     "output_type": "execute_result"
    }
   ],
   "source": [
    "\n",
    "data['b_q12e'].describe # yes/no semianrs / workshops"
   ]
  },
  {
   "cell_type": "code",
   "execution_count": 170,
   "id": "conditional-apache",
   "metadata": {},
   "outputs": [
    {
     "data": {
      "text/plain": [
       "<bound method NDFrame.describe of 0        NaN\n",
       "1        NaN\n",
       "2        NaN\n",
       "3        NaN\n",
       "4        NaN\n",
       "          ..\n",
       "230686   NaN\n",
       "230687   NaN\n",
       "230688   NaN\n",
       "230689   NaN\n",
       "230690   NaN\n",
       "Name: b_q12f, Length: 230691, dtype: float64>"
      ]
     },
     "execution_count": 170,
     "metadata": {},
     "output_type": "execute_result"
    }
   ],
   "source": [
    "\n",
    "data['b_q12f'].describe # number of seminars "
   ]
  },
  {
   "cell_type": "code",
   "execution_count": 171,
   "id": "corporate-egypt",
   "metadata": {},
   "outputs": [
    {
     "data": {
      "text/plain": [
       "<bound method NDFrame.describe of 0         No\n",
       "1         No\n",
       "2         No\n",
       "3         No\n",
       "4         No\n",
       "          ..\n",
       "230686    No\n",
       "230687    No\n",
       "230688    No\n",
       "230689    No\n",
       "230690    No\n",
       "Name: b_q12g, Length: 230691, dtype: category\n",
       "Categories (2, object): ['No', 'Yes']>"
      ]
     },
     "execution_count": 171,
     "metadata": {},
     "output_type": "execute_result"
    }
   ],
   "source": [
    "\n",
    "data['b_q12g'].describe # yes/no private training"
   ]
  },
  {
   "cell_type": "code",
   "execution_count": 172,
   "id": "considered-caribbean",
   "metadata": {},
   "outputs": [
    {
     "data": {
      "text/plain": [
       "<bound method NDFrame.describe of 0        NaN\n",
       "1        NaN\n",
       "2        NaN\n",
       "3        NaN\n",
       "4        NaN\n",
       "          ..\n",
       "230686   NaN\n",
       "230687   NaN\n",
       "230688   NaN\n",
       "230689   NaN\n",
       "230690   NaN\n",
       "Name: b_q12h, Length: 230691, dtype: float64>"
      ]
     },
     "execution_count": 172,
     "metadata": {},
     "output_type": "execute_result"
    }
   ],
   "source": [
    "\n",
    "data['b_q12h'].describe # number of private educational trainings"
   ]
  },
  {
   "cell_type": "code",
   "execution_count": 173,
   "id": "published-hydrogen",
   "metadata": {},
   "outputs": [
    {
     "data": {
      "text/plain": [
       "<bound method NDFrame.describe of 0         A\n",
       "1         1\n",
       "2         4\n",
       "3         2\n",
       "4         1\n",
       "         ..\n",
       "230686    2\n",
       "230687    3\n",
       "230688    2\n",
       "230689    3\n",
       "230690    1\n",
       "Name: iscoskil4, Length: 230691, dtype: category\n",
       "Categories (7, object): ['1', '2', '3', '4', 'A', 'N', 'U']>"
      ]
     },
     "execution_count": 173,
     "metadata": {},
     "output_type": "execute_result"
    }
   ],
   "source": [
    "\n",
    "data['iscoskil4'].describe"
   ]
  },
  {
   "cell_type": "code",
   "execution_count": 175,
   "id": "billion-happening",
   "metadata": {},
   "outputs": [
    {
     "data": {
      "text/plain": [
       "<bound method NDFrame.describe of 0         NaN\n",
       "1         NaN\n",
       "2         NaN\n",
       "3         NaN\n",
       "4         NaN\n",
       "         ... \n",
       "230686    NaN\n",
       "230687    NaN\n",
       "230688    NaN\n",
       "230689    NaN\n",
       "230690    NaN\n",
       "Name: j_q03b, Length: 230691, dtype: object>"
      ]
     },
     "execution_count": 175,
     "metadata": {},
     "output_type": "execute_result"
    }
   ],
   "source": [
    "\n",
    "data['j_q03b'].describe # number of children"
   ]
  },
  {
   "cell_type": "code",
   "execution_count": 112,
   "id": "typical-salmon",
   "metadata": {},
   "outputs": [
    {
     "data": {
      "text/plain": [
       "<bound method NDFrame.describe of 0          NaN\n",
       "1         19.0\n",
       "2          NaN\n",
       "3          NaN\n",
       "4          NaN\n",
       "          ... \n",
       "230686     NaN\n",
       "230687     NaN\n",
       "230688     NaN\n",
       "230689     NaN\n",
       "230690     NaN\n",
       "Name: yrsqual_t, Length: 230691, dtype: category\n",
       "Categories (21, object): ['10.0', '11.0', '12.0', '13.0', ..., '6.0', '7.0', '8.0', '9.0']>"
      ]
     },
     "execution_count": 112,
     "metadata": {},
     "output_type": "execute_result"
    }
   ],
   "source": [
    "\n",
    "data['yrsqual_t'].describe"
   ]
  },
  {
   "cell_type": "code",
   "execution_count": 114,
   "id": "comic-bathroom",
   "metadata": {},
   "outputs": [
    {
     "data": {
      "text/plain": [
       "<bound method NDFrame.describe of 0          NaN\n",
       "1         19.0\n",
       "2          NaN\n",
       "3          NaN\n",
       "4          NaN\n",
       "          ... \n",
       "230686     8.0\n",
       "230687    11.0\n",
       "230688    11.0\n",
       "230689    12.0\n",
       "230690     NaN\n",
       "Name: yrsget, Length: 230691, dtype: category\n",
       "Categories (22, object): ['0.0', '10.0', '11.0', '12.0', ..., '6.0', '7.0', '8.0', '9.0']>"
      ]
     },
     "execution_count": 114,
     "metadata": {},
     "output_type": "execute_result"
    }
   ],
   "source": [
    "data['yrsget'].describe"
   ]
  },
  {
   "cell_type": "code",
   "execution_count": 115,
   "id": "loving-empty",
   "metadata": {},
   "outputs": [
    {
     "data": {
      "text/plain": [
       "<bound method NDFrame.describe of 0         Never\n",
       "1         Never\n",
       "2         Never\n",
       "3         Never\n",
       "4         Never\n",
       "          ...  \n",
       "230686    Never\n",
       "230687      NaN\n",
       "230688    Never\n",
       "230689    Never\n",
       "230690      NaN\n",
       "Name: h_q05g, Length: 230691, dtype: category\n",
       "Categories (5, object): ['At least once a week but not every day', 'Every day', 'Less than once a month', 'Less than once a week but at least once a month', 'Never']>"
      ]
     },
     "execution_count": 115,
     "metadata": {},
     "output_type": "execute_result"
    }
   ],
   "source": [
    "\n",
    "data['h_q05g'].describe"
   ]
  },
  {
   "cell_type": "code",
   "execution_count": 122,
   "id": "noted-basic",
   "metadata": {},
   "outputs": [
    {
     "name": "stdout",
     "output_type": "stream",
     "text": [
      "<bound method NDFrame._add_numeric_operations.<locals>.mean of         age_r\n",
      "0         NaN\n",
      "1         NaN\n",
      "2         NaN\n",
      "3         NaN\n",
      "4         NaN\n",
      "...       ...\n",
      "230686    NaN\n",
      "230687    NaN\n",
      "230688    NaN\n",
      "230689    NaN\n",
      "230690    NaN\n",
      "\n",
      "[230691 rows x 1 columns]>\n",
      "<bound method NDFrame._add_numeric_operations.<locals>.mean of        gender_r\n",
      "0          Male\n",
      "1          Male\n",
      "2        Female\n",
      "3        Female\n",
      "4          Male\n",
      "...         ...\n",
      "230686     Male\n",
      "230687     Male\n",
      "230688   Female\n",
      "230689     Male\n",
      "230690     Male\n",
      "\n",
      "[230691 rows x 1 columns]>\n",
      "<bound method NDFrame._add_numeric_operations.<locals>.mean of         b_q12d\n",
      "0          NaN\n",
      "1          NaN\n",
      "2          NaN\n",
      "3          NaN\n",
      "4          NaN\n",
      "...        ...\n",
      "230686     NaN\n",
      "230687     NaN\n",
      "230688     NaN\n",
      "230689     NaN\n",
      "230690     NaN\n",
      "\n",
      "[230691 rows x 1 columns]>\n",
      "<bound method NDFrame._add_numeric_operations.<locals>.mean of        b_q12a\n",
      "0          No\n",
      "1         Yes\n",
      "2          No\n",
      "3          No\n",
      "4         Yes\n",
      "...       ...\n",
      "230686     No\n",
      "230687     No\n",
      "230688     No\n",
      "230689     No\n",
      "230690     No\n",
      "\n",
      "[230691 rows x 1 columns]>\n",
      "<bound method NDFrame._add_numeric_operations.<locals>.mean of        b_q12e\n",
      "0          No\n",
      "1         Yes\n",
      "2          No\n",
      "3          No\n",
      "4          No\n",
      "...       ...\n",
      "230686    Yes\n",
      "230687     No\n",
      "230688     No\n",
      "230689     No\n",
      "230690     No\n",
      "\n",
      "[230691 rows x 1 columns]>\n",
      "<bound method NDFrame._add_numeric_operations.<locals>.mean of        iscoskil4\n",
      "0              A\n",
      "1              1\n",
      "2              4\n",
      "3              2\n",
      "4              1\n",
      "...          ...\n",
      "230686         2\n",
      "230687         3\n",
      "230688         2\n",
      "230689         3\n",
      "230690         1\n",
      "\n",
      "[230691 rows x 1 columns]>\n",
      "<bound method NDFrame._add_numeric_operations.<locals>.mean of        yrsqual_t\n",
      "0            NaN\n",
      "1           19.0\n",
      "2            NaN\n",
      "3            NaN\n",
      "4            NaN\n",
      "...          ...\n",
      "230686       NaN\n",
      "230687       NaN\n",
      "230688       NaN\n",
      "230689       NaN\n",
      "230690       NaN\n",
      "\n",
      "[230691 rows x 1 columns]>\n",
      "<bound method NDFrame._add_numeric_operations.<locals>.mean of        yrsget\n",
      "0         NaN\n",
      "1        19.0\n",
      "2         NaN\n",
      "3         NaN\n",
      "4         NaN\n",
      "...       ...\n",
      "230686    8.0\n",
      "230687   11.0\n",
      "230688   11.0\n",
      "230689   12.0\n",
      "230690    NaN\n",
      "\n",
      "[230691 rows x 1 columns]>\n",
      "<bound method NDFrame._add_numeric_operations.<locals>.mean of        h_q05g\n",
      "0       Never\n",
      "1       Never\n",
      "2       Never\n",
      "3       Never\n",
      "4       Never\n",
      "...       ...\n",
      "230686  Never\n",
      "230687    NaN\n",
      "230688  Never\n",
      "230689  Never\n",
      "230690    NaN\n",
      "\n",
      "[230691 rows x 1 columns]>\n"
     ]
    }
   ],
   "source": [
    "#col_names = ['age_r', 'gender_r', 'b_q12d', 'b_q12a', 'b_q12e', 'iscoskil4', 'yrsqual_t', 'yrsget', 'h_q05g']\n",
    "\n",
    "for ii in ['age_r', 'gender_r', 'b_q12d', 'b_q12a', 'b_q12e', 'iscoskil4', 'yrsqual_t', 'yrsget', 'h_q05g']:\n",
    "    print(data[[ii]].mean)\n",
    "   \n",
    "    \n",
    "    \n",
    "    \n",
    "    #for ii, band in enumerate(bands):\n",
    "    #    sns.histplot(dataframe[band].values.reshape(-1,), ax=ax[ii], kde=True, bins=25) # Reshape into 1D array\n",
    "     #   ax[ii].set_title('{} band'.format(band_names[ii])) # Subplot titles\n",
    "\n",
    "#data[['age_r', 'gender_r', 'b_q12d', 'b_q12a', 'b_q12e', 'iscoskil4', 'yrsqual_t', 'yrsget', 'h_q05g']].describe()"
   ]
  },
  {
   "cell_type": "code",
   "execution_count": null,
   "id": "modified-romance",
   "metadata": {},
   "outputs": [],
   "source": []
  },
  {
   "cell_type": "code",
   "execution_count": null,
   "id": "impressive-exchange",
   "metadata": {},
   "outputs": [],
   "source": []
  },
  {
   "cell_type": "markdown",
   "id": "individual-anderson",
   "metadata": {},
   "source": [
    "## Histograms"
   ]
  },
  {
   "cell_type": "code",
   "execution_count": 27,
   "id": "realistic-helping",
   "metadata": {},
   "outputs": [
    {
     "data": {
      "image/png": "[encoded data removed]",
      "text/plain": [
       "<Figure size 360x360 with 1 Axes>"
      ]
     },
     "metadata": {
      "needs_background": "light"
     },
     "output_type": "display_data"
    }
   ],
   "source": [
    "sns_plot = sns.catplot(x=\"gender_r\", kind=\"count\", data=data)\n",
    "plt.title('Gender of Respondent')\n",
    "plt.grid(axis='both')\n",
    "plt.xlabel('Gender')\n",
    "sns_plot.savefig(\"plots/barplot_gender.png\")\n"
   ]
  },
  {
   "cell_type": "code",
   "execution_count": 134,
   "id": "caring-sierra",
   "metadata": {},
   "outputs": [
    {
     "data": {
      "image/png": "[encoded data removed]",
      "text/plain": [
       "<Figure size 432x288 with 1 Axes>"
      ]
     },
     "metadata": {
      "needs_background": "light"
     },
     "output_type": "display_data"
    }
   ],
   "source": [
    "plt.hist(x='b_q12d', bins=50, range=None, density=False,  histtype='bar',rwidth=0.7, data=data)\n",
    "plt.title('On the job training')\n",
    "plt.grid(axis='both')\n",
    "plt.xlabel('Number of on the job trainings in the last year')\n",
    "plt.ylabel('Count')\n",
    "plt.savefig('plots\\hist_count_onthejob.png', bbox_inches='tight')\n"
   ]
  },
  {
   "cell_type": "code",
   "execution_count": 135,
   "id": "lonely-donna",
   "metadata": {},
   "outputs": [
    {
     "data": {
      "image/png": "[encoded data removed]",
      "text/plain": [
       "<Figure size 432x288 with 1 Axes>"
      ]
     },
     "metadata": {
      "needs_background": "light"
     },
     "output_type": "display_data"
    }
   ],
   "source": [
    "plt.hist(x='b_q12d', bins=25, range=None, density=True,  histtype='bar',rwidth=0.7, data=data)\n",
    "plt.title('On the job training')\n",
    "plt.grid(axis='both')\n",
    "plt.xlabel('Number of on the job trainings in the last year')\n",
    "plt.ylabel('Density')\n",
    "plt.savefig('plots\\hist_density_onthejob.png', bbox_inches='tight')\n"
   ]
  },
  {
   "cell_type": "code",
   "execution_count": null,
   "id": "negative-nashville",
   "metadata": {},
   "outputs": [],
   "source": []
  },
  {
   "cell_type": "code",
   "execution_count": 75,
   "id": "conceptual-disabled",
   "metadata": {},
   "outputs": [
    {
     "data": {
      "image/png": "[encoded data removed]",
      "text/plain": [
       "<Figure size 432x288 with 1 Axes>"
      ]
     },
     "metadata": {
      "needs_background": "light"
     },
     "output_type": "display_data"
    }
   ],
   "source": [
    "plt.hist(x='age_r', bins=10, range=None, density=False,  histtype='bar',rwidth=0.9, data=data)\n",
    "plt.title('Age of Respondent')\n",
    "plt.grid(axis='both')\n",
    "plt.xlabel('Age')\n",
    "plt.ylabel('Count')\n",
    "plt.savefig('plots\\hist_age.png', bbox_inches='tight')"
   ]
  },
  {
   "cell_type": "code",
   "execution_count": null,
   "id": "seventh-footage",
   "metadata": {},
   "outputs": [],
   "source": []
  },
  {
   "cell_type": "code",
   "execution_count": null,
   "id": "center-legislature",
   "metadata": {},
   "outputs": [],
   "source": []
  },
  {
   "cell_type": "code",
   "execution_count": 141,
   "id": "severe-stanley",
   "metadata": {},
   "outputs": [
    {
     "data": {
      "image/png": "[encoded data removed]",
      "text/plain": [
       "<Figure size 360x360 with 1 Axes>"
      ]
     },
     "metadata": {
      "needs_background": "light"
     },
     "output_type": "display_data"
    }
   ],
   "source": [
    "sns_plot = sns.catplot(x=\"iscoskil4\", kind=\"count\", data=data)\n",
    "plt.title('Job Classification')\n",
    "plt.grid(axis='both')\n",
    "plt.xlabel('Classification')\n",
    "plt.annotate('1=Skilled occupations, 2= Semi-skilled white-collar occupations \\n3= Semi-skilled blue-collar occupations \\n4= Elementary occupations \\nN=Not stated, U=Unkown', (0,0), (0, -40), xycoords='axes fraction', textcoords='offset points', va='top')\n",
    "\n",
    "sns_plot.savefig(\"plots/barplot_job_classification.png\")\n"
   ]
  },
  {
   "cell_type": "code",
   "execution_count": 185,
   "id": "honest-startup",
   "metadata": {},
   "outputs": [
    {
     "data": {
      "image/png": "[encoded data removed]",
      "text/plain": [
       "<Figure size 360x360 with 1 Axes>"
      ]
     },
     "metadata": {
      "needs_background": "light"
     },
     "output_type": "display_data"
    }
   ],
   "source": [
    "sns_plot = sns.catplot(x=\"iscoskil4\", y=\"age_r\",kind=\"box\", data=data)\n",
    "plt.title('Job Classification')\n",
    "plt.grid(axis='both')\n",
    "plt.xlabel('Classification')\n",
    "plt.ylabel('Age')\n",
    "plt.annotate('1= Skilled occupations \\n2= Semi-skilled white-collar occupations \\n3= Semi-skilled blue-collar occupations \\n4= Elementary occupations \\nA=has not worked for more than 5 years \\nN=Not stated, U=Unkown', (0,0), (0, -40), xycoords='axes fraction', textcoords='offset points', va='top')\n",
    "\n",
    "sns_plot.savefig(\"plots/box_age_job_classification.png\")\n"
   ]
  },
  {
   "cell_type": "code",
   "execution_count": 155,
   "id": "crucial-estate",
   "metadata": {},
   "outputs": [
    {
     "data": {
      "image/png": "[encoded data removed]",
      "text/plain": [
       "<Figure size 360x360 with 1 Axes>"
      ]
     },
     "metadata": {
      "needs_background": "light"
     },
     "output_type": "display_data"
    }
   ],
   "source": [
    "sns_plot = sns.catplot(x=\"iscoskil4\", y=\"b_q12d\",kind=\"violin\", hue=\"gender_r\", split=True,data=data, legend=False)\n",
    "plt.title('Job Classification and On the Job Trainings')\n",
    "plt.grid(axis='both')\n",
    "plt.xlabel('Classification')\n",
    "plt.ylabel('Number of on the job trainings')\n",
    "plt.annotate('1=Skilled occupations \\n2= Semi-skilled white-collar occupations \\n3= Semi-skilled blue-collar occupations \\n4= Elementary occupations \\nN=Not stated, U=Unkown', (0,0), (0, -40), xycoords='axes fraction', textcoords='offset points', va='top')\n",
    "plt.legend(title='Gender',loc='upper right')\n",
    "sns_plot.savefig(\"plots/violin_gender_OntheJob_classification.png\")\n"
   ]
  },
  {
   "cell_type": "code",
   "execution_count": 182,
   "id": "norwegian-david",
   "metadata": {},
   "outputs": [
    {
     "data": {
      "image/png": "[encoded data removed]",
      "text/plain": [
       "<Figure size 360x360 with 1 Axes>"
      ]
     },
     "metadata": {
      "needs_background": "light"
     },
     "output_type": "display_data"
    }
   ],
   "source": [
    "sns_plot = sns.catplot(x=\"iscoskil4\", y=\"b_q12f\",kind=\"violin\", hue=\"gender_r\", split=True,data=data, legend=False)\n",
    "plt.title('Job Classification and Seminars/Workshops')\n",
    "plt.grid(axis='both')\n",
    "plt.xlabel('Classification')\n",
    "plt.ylabel('Number of seminars/workshops')\n",
    "plt.annotate('1=Skilled occupations \\n2= Semi-skilled white-collar occupations \\n3= Semi-skilled blue-collar occupations \\n4= Elementary occupations \\nN=Not stated, U=Unkown', (0,0), (0, -40), xycoords='axes fraction', textcoords='offset points', va='top')\n",
    "plt.legend(title='Gender',loc='upper right')\n",
    "sns_plot.savefig(\"plots/violin_gender_seminars_classification.png\")\n"
   ]
  },
  {
   "cell_type": "code",
   "execution_count": null,
   "id": "political-invite",
   "metadata": {},
   "outputs": [],
   "source": [
    "b_q12d"
   ]
  },
  {
   "cell_type": "code",
   "execution_count": 191,
   "id": "hearing-somerset",
   "metadata": {},
   "outputs": [
    {
     "data": {
      "image/png": "[encoded data removed]",
      "text/plain": [
       "<Figure size 360x360 with 1 Axes>"
      ]
     },
     "metadata": {
      "needs_background": "light"
     },
     "output_type": "display_data"
    }
   ],
   "source": [
    "sns_plot = sns.catplot(x=\"iscoskil4\", y=\"b_q12b\",kind=\"violin\",hue=\"gender_r\", split=True, data=data,  legend=False)\n",
    "plt.title('Job Classification and Number of open/distance Educational Trainings')\n",
    "plt.grid(axis='both')\n",
    "plt.ylabel('Number of open/distance Educational Trainings')\n",
    "plt.xlabel('Classification')\n",
    "plt.annotate('1= Skilled occupations \\n2= Semi-skilled white-collar occupations \\n3= Semi-skilled blue-collar occupations \\n4= Elementary occupations \\nA=has not worked for more than 5 years \\nN=Not stated, U=Unkown', (0,0), (0, -40), xycoords='axes fraction', textcoords='offset points', va='top')\n",
    "plt.legend(title='Gender',loc='upper right')\n",
    "sns_plot.savefig(\"plots/violin_gender_open_classification.png\")\n"
   ]
  },
  {
   "cell_type": "code",
   "execution_count": null,
   "id": "worthy-thompson",
   "metadata": {},
   "outputs": [],
   "source": []
  }
 ],
 "metadata": {
  "kernelspec": {
   "display_name": "Python 3",
   "language": "python",
   "name": "python3"
  },
  "language_info": {
   "codemirror_mode": {
    "name": "ipython",
    "version": 3
   },
   "file_extension": ".py",
   "mimetype": "text/x-python",
   "name": "python",
   "nbconvert_exporter": "python",
   "pygments_lexer": "ipython3",
   "version": "3.7.7"
  }
 },
 "nbformat": 4,
 "nbformat_minor": 5
}
