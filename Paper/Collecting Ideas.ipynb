{
 "cells": [
  {
   "cell_type": "markdown",
   "metadata": {},
   "source": [
    "# Research Ideas for the ML Term Paper\n",
    "Sarah Gust [gust@ifo.de](mailto:gust@ifo.de) and Ann-Christin Kreyer [ann-christin.kreyer@ip.mpg.de](mailto:ann-christin.kreyer@ip.mpg.de)\n",
    "\n",
    "<!--\n",
    "Just to collect some Ideas that we can discuss with Thomas and Dina :) \n",
    "\n",
    "Let's try collect \n",
    "* Data\n",
    "* Connected research findings\n",
    "* Possible research questions \n",
    "-->\n",
    "\n",
    "# Idea 1: Digital Learning in TIMSS 2015 Data \n",
    "\n",
    "In order to contain the spread of Covid-19 many countries have closed down schools. This has led to a growing use of digital learning media. Some countries and schools have struggled more than others in implementing digital learning formats for their students. \n",
    "\n",
    "For many years the literature has been sceptical about computer use in classrooms or for homework finding no significant effects on learning outcomes (see Falck et al., 2018 for a detailed literature discussion). Falck et al. (2018) argue that this null effect is due to a positive effect of computer uses without equivalently effective alternative traditional teaching practices and negative effects of uses that substitute more effective teaching practices. They stress the opportunity costs of computer use for teaching. If computer replaces effective traditional teaching practices opportunity costs are high. Aboagye et al. (2020) concluded that students were not ready to study online. The current school lock down has highlighted that also most schools and teachers were not well prepared for online teaching. What are the most important drivers that help teachers and students to prepare for online learning? \n",
    "\n",
    "We us the 2015 Trends in International Math and Science Study (TIMSS) to investigate the main drivers that helped teachers and students to use digital learning formats. TIMSS 2015 provides data on student mathematics and science achievement as well as on student, teacher, school, and curricular background for 39 countries. We use information on technology resources at home and at school, how often computers are used for certain tasks, if teachers had any professional training in integrating information technology into science or math within the past two years and if there are state legislation for online teaching.\n",
    "\n",
    "* Can we predict what teachers and schools make use of digital learning formats? \n",
    "* Do digital learning formats in- or decrease inequality in learning outcomes among students?\n"
   ]
  },
  {
   "cell_type": "markdown",
   "metadata": {},
   "source": [
    "# Idea 2: Reskilling employees using e-learning in times of Covid-19\n",
    "\n",
    "Due to the lockdowns and economic shutdowns to fight the Covid-19 pandemic larger as well as smaller businesses are facing bancruptcy or had to reduce their workforce or limit the number of new hirings to reduce costs (Barerro, 2020; Park, 2020). However, the pandemic also pushed digitization of firms and services forward enormously (Soto-Acosta, 2020; McKinsey, 2020) as well as the adoption of robots and thus replacing workforce (Zeng, 2020). This also implies that the demand for employees within the ICT sector increases while it decreases in other industries (World Economic Forum 2020; Park, 2020). Following from this demand shock, employees who worked in non-programming jobs before the pandemic could try to improve their job opportunties by reskilling and acquiring programming skills using so called Massiv Open Online Courses (MOOC) (World Economic Forum 2020; Garrido, 2016).   \n",
    "\n",
    "To analyse the effect of this demand shock, the uptake of online training courses for programming skills offered by platforms like edX, Coursera and Udemy by people with different educational background changed following the corona crisis and the limited number of job offers in non-tech jobs is going to be studied in this paper. Using the HR Analytics dataset the paper will try to answer the following questions: \n",
    "What is the probabilty that the persons with non-programming educational backgrounds invest in such additional education? And to what extent does this probability depend on their previous business experience or their education level? \n",
    "\n",
    "Additionally, the supply side has to be analyzed to estimate whether there are any changes in the course program following this demand shock. For this, the the dataset of courses offered by the largest MOOC platforms will be used. \n",
    "\n",
    "\n",
    "\n",
    "\n"
   ]
  },
  {
   "cell_type": "markdown",
   "metadata": {},
   "source": [
    "## Data Sets\n",
    "\n",
    "### BIBB\n",
    "\n",
    "Employment survey for 2012 and 2018. The focus of the surveys is on the one hand on employment and the workplace at the time of the survey, e.g. job tasks performed and required knowledge (job-related cross-sectional part), and on information about the job holders, e.g. their job satisfaction, workload or health complaints. On the other hand, the survey looks into the relationship between education and employment (school education, vocational and advanced training, professional career, employment that is adequate to the vocational training, career changes, applicability of professional qualifications, etc.).\n",
    "\n",
    "More information on general employment, little about further training, nothing on external further traiing(?)\n",
    "https://www.bibb.de/en/15182.php\n",
    "\n",
    "### SOEP\n",
    "\n",
    "Similar to EU-SILC data, latest available 2018\n",
    "https://paneldata.org/soep-core\n",
    "\n",
    "### LPP-ADIAB\n",
    "\n",
    "The simultaneous observation of employer and employee perspective allows both cross and longitudinal analyses of the relationship between HR management, individual job quality and firm performance. The following central questions can be answered on the basis of the data: Which HR management instruments are used by establishments? Are there differences in the heterogeneity of application, for instance with respect to establishment size classes or sectors? How do HR management strategies develop over time? Is there an impact of certain HR management strategies on firm performance? Is there an impact of certain HR management strategies on employees’ attitudes, satisfaction, health status, commitment etc.? \n",
    "\n",
    "Enthält Frage zur IT Nutzung (mit Zeitangaben), interne und externe Wieterbildungen, Selbstudium, Technologiethemen in Freizeit, Zufriedenheit mit technologischer Austattung\n",
    "Newest data 2020(?)\n",
    "\n",
    "https://fdz.iab.de/en/Integrated_Establishment_and_Individual_Data/lpp.aspx"
   ]
  },
  {
   "cell_type": "markdown",
   "metadata": {},
   "source": [
    "# References\n",
    "\n",
    "* Aboagye, E., Yawson, J. A., & Appiah, K. N. (2020). COVID-19 and E-Learning: the Challenges of Students in Tertiary Institutions. Social Education Research, 2(1), 1-8.\n",
    "* Barrero, Jose Maria; Bloom, Nicholas; Davis, Steven (2020). COVID-19 Is Also a Reallocation Shock. In: NBER Working Paper (27137), S. 1–41.\n",
    "* Falck, O., Mang, C., & Woessmann, L. (2018). Virtually no effect? Different uses of classroom computers and their effect on student achievement. Oxford Bulletin of Economics and Statistics, 80(1), 1-38.\n",
    "* Garrido, Maria; Koepke, Lucas; Andersen, Scott (2016). The Advancing MOOCs for Development Initiative. An examination of MOOC usage for professional workforce development outcomes in Colombia, the Philippines, & South Africa. Online available https://digital.lib.washington.edu/researchworks/bitstream/handle/1773/35647/Advancing_MOOCs_for_Development_Final_Report_2016_Final.pdf?sequence=4&isAllowed=y\n",
    "* McKinsey & Company (2020). How COVID-19 has pushed companies over the technology tipping point—and transformed business forever. In: McKinsey & Company, 05.10.2020. Online available https://www.mckinsey.com/business-functions/strategy-and-corporate-finance/our-insights/how-covid-19-has-pushed-companies-over-the-technology-tipping-point-and-transformed-business-forever\n",
    "* Park, Cyn-Young; Inocencio, Ancilla Marie (2020). COVID-19, Technology, and Polarizing Jobs. ADB Briefs (147), 1-10.\n",
    "* Soto-Acosta, Pedro (2020): COVID-19 Pandemic: Shifting Digital Transformation to a High-Speed Gear. In: Information Systems Management 37 (4), S. 260-266. \n",
    "* World Economic Forum (2020): The future of jobs report 2020."
   ]
  },
  {
   "cell_type": "code",
   "execution_count": null,
   "metadata": {},
   "outputs": [],
   "source": []
  }
 ],
 "metadata": {
  "kernelspec": {
   "display_name": "Python 3",
   "language": "python",
   "name": "python3"
  },
  "language_info": {
   "codemirror_mode": {
    "name": "ipython",
    "version": 3
   },
   "file_extension": ".py",
   "mimetype": "text/x-python",
   "name": "python",
   "nbconvert_exporter": "python",
   "pygments_lexer": "ipython3",
   "version": "3.8.3"
  }
 },
 "nbformat": 4,
 "nbformat_minor": 4
}
