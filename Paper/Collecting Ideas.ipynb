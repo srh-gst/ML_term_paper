{
 "cells": [
  {
   "cell_type": "markdown",
   "metadata": {},
   "source": [
    "# Research Ideas for the ML Term Paper\n",
    "Sarah Gust [gust@ifo.de](mailto:gust@ifo.de) and Ann-Christin Kreyer [ann-christin.kreyer@ip.mpg.de](mailto:ann-christin.kreyer@ip.mpg.de)\n",
    "\n",
    "\n",
    "Just to collect some Ideas that we can discuss with Thomas and Dina :) \n",
    "\n",
    "Let's try collect \n",
    "* Data\n",
    "* Connected research findings\n",
    "* Possible research questions \n",
    "\n",
    "\n",
    "# Idea 1: Digital Learning in TIMSS 2015 Data \n",
    "\n",
    "The 2015 Trends in International Math and Science Study (TIMSS) provides data on student mathematics and science achievement as well as on student, teacher, school, and curricular background for 39 countries. We use information on technology ressources at home and at school, how often computers are used for certain tasks, if teachers had any professional training in integrating information technology into science or math within the past two years. \n",
    "\n",
    "\n",
    "Do digital learning formats in- or decrease inequality in learning outcomes among students?"
   ]
  },
  {
   "cell_type": "code",
   "execution_count": null,
   "metadata": {},
   "outputs": [],
   "source": []
  }
 ],
 "metadata": {
  "kernelspec": {
   "display_name": "Python 3",
   "language": "python",
   "name": "python3"
  },
  "language_info": {
   "codemirror_mode": {
    "name": "ipython",
    "version": 3
   },
   "file_extension": ".py",
   "mimetype": "text/x-python",
   "name": "python",
   "nbconvert_exporter": "python",
   "pygments_lexer": "ipython3",
   "version": "3.8.3"
  }
 },
 "nbformat": 4,
 "nbformat_minor": 4
}
