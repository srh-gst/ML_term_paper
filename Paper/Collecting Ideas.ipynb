{
 "cells": [
  {
   "cell_type": "markdown",
   "metadata": {},
   "source": [
    "# Research Ideas for the ML Term Paper\n",
    "Sarah Gust [gust@ifo.de](mailto:gust@ifo.de) and Ann-Christin Kreyer [ann-christin.kreyer@ip.mpg.de](mailto:ann-christin.kreyer@ip.mpg.de)\n",
    "\n",
    "<!--\n",
    "Just to collect some Ideas that we can discuss with Thomas and Dina :) \n",
    "\n",
    "Let's try collect \n",
    "* Data\n",
    "* Connected research findings\n",
    "* Possible research questions \n",
    "-->\n",
    "\n",
    "# Idea 1: Digital Learning in TIMSS 2015 Data \n",
    "\n",
    "In order to contain the spread of Covid-19 many countries have closed down schools. This has led to a growing use of digital learning media. Some countries and schools have struggled more than others in implementing digital learning formats for their students. We us the 2015 Trends in International Math and Science Study (TIMSS) to find out how well teachers, schools and students were prepared for school digitalization and to investigate the effects. TIMSS 2015 provides data on student mathematics and science achievement as well as on student, teacher, school, and curricular background for 39 countries. We use information on technology resources at home and at school, how often computers are used for certain tasks, if teachers had any professional training in integrating information technology into science or math within the past two years and if there are. \n",
    "\n",
    "Most studies find no positive effect of using computers in classroom on learning outcomes (Falck et al., 2017).  Falck et al. (2017) argue that this null effect is due to a positive effect of computer uses without equivalently effective alternative traditional teaching practices and negative effects of uses that substitute more effective teaching practices. Aboagye et al. (2020) came to the conclusion that students were not ready to study online. The current school lock down has highlighted that also most schols and teachers were not well prepared for online teaching. What are the most important drivers that help teachers and students to prepare for online learning? \n",
    "\n",
    "* Can we predict what teachers and schools make use of digital learning formats? \n",
    "* Do digital learning formats in- or decrease inequality in learning outcomes among students?\n"
   ]
  },
  {
   "cell_type": "markdown",
   "metadata": {},
   "source": [
    "# Idea 2: Digital Learning in times of Covid-19\n",
    "\n",
    "RQ: Use the HR Analytics dataset to tackle the question how the uptake of online training offers for data analytic skills  (e.g. by edX, Coursera, udemy..) intensified/changed following the corona crisis and the limited number of job offers in other jobs due to the fact that many firms went brankrupt or could not afford new employees.\n",
    "\n",
    "What is the probabilty that the persons with e.g. background in law invest into such additional education?\n",
    "What is the probabilty that people with already some or with none business experience invest in such things?\n",
    "Does the willingness to invest into additional education depend on previous education level?\n",
    "\n",
    "Augment the analysis by looking at the number of online courses offered in that time --> \n",
    "- How willing are people to invest in their skills depending on their background = demand for online training\n",
    "- How good is the demand met by suppliers of online traiing tools \n",
    "- How well is the supply accepted -->how many new registration in such courses \n",
    "- How do the probabilities change for those investing in their skills of finding a new job in the industry of computer science?\n"
   ]
  },
  {
   "cell_type": "markdown",
   "metadata": {},
   "source": [
    "# Refrences\n",
    "\n",
    "* Aboagye, E., Yawson, J. A., & Appiah, K. N. (2020). COVID-19 and E-Learning: the Challenges of Students in Tertiary Institutions. Social Education Research, 2(1), 1-8. "
   ]
  },
  {
   "cell_type": "code",
   "execution_count": null,
   "metadata": {},
   "outputs": [],
   "source": []
  }
 ],
 "metadata": {
  "kernelspec": {
   "display_name": "Python 3",
   "language": "python",
   "name": "python3"
  },
  "language_info": {
   "codemirror_mode": {
    "name": "ipython",
    "version": 3
   },
   "file_extension": ".py",
   "mimetype": "text/x-python",
   "name": "python",
   "nbconvert_exporter": "python",
   "pygments_lexer": "ipython3",
   "version": "3.8.3"
  }
 },
 "nbformat": 4,
 "nbformat_minor": 4
}
